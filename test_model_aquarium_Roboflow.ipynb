{
 "cells": [
  {
   "cell_type": "code",
   "execution_count": 1,
   "id": "ed9c7414",
   "metadata": {},
   "outputs": [
    {
     "name": "stdout",
     "output_type": "stream",
     "text": [
      "현재 작업 경로: D:\\Python_Pytorch_Workspace\\Jupyter_Test\n"
     ]
    }
   ],
   "source": [
    "\"\"\"\n",
    "This script uses YOLOv8 by Ultralytics.\n",
    "YOLOv8 is distributed under the AGPL-3.0 License.\n",
    "For more details, visit: https://github.com/ultralytics/ultralytics\n",
    "\"\"\"\n",
    "\n",
    "import os\n",
    "\n",
    "# 작업 경로 설정\n",
    "base_path = r\"D:\\Python_Pytorch_Workspace\\Jupyter_Test\"\n",
    "\n",
    "# 경로 생성 (존재하지 않으면 생성)\n",
    "os.makedirs(base_path, exist_ok=True)\n",
    "\n",
    "# 현재 작업 디렉토리 변경\n",
    "os.chdir(base_path)\n",
    "\n",
    "# 확인\n",
    "print(f\"현재 작업 경로: {os.getcwd()}\")\n"
   ]
  },
  {
   "cell_type": "code",
   "execution_count": 2,
   "id": "8b88bde3",
   "metadata": {},
   "outputs": [
    {
     "name": "stdout",
     "output_type": "stream",
     "text": [
      "Fri Jan  3 07:27:22 2025       \n",
      "+-----------------------------------------------------------------------------------------+\n",
      "| NVIDIA-SMI 566.36                 Driver Version: 566.36         CUDA Version: 12.7     |\n",
      "|-----------------------------------------+------------------------+----------------------+\n",
      "| GPU  Name                  Driver-Model | Bus-Id          Disp.A | Volatile Uncorr. ECC |\n",
      "| Fan  Temp   Perf          Pwr:Usage/Cap |           Memory-Usage | GPU-Util  Compute M. |\n",
      "|                                         |                        |               MIG M. |\n",
      "|=========================================+========================+======================|\n",
      "|   0  NVIDIA GeForce RTX 4060 Ti   WDDM  |   00000000:01:00.0  On |                  N/A |\n",
      "|  0%   49C    P8             10W /  160W |     941MiB /   8188MiB |     10%      Default |\n",
      "|                                         |                        |                  N/A |\n",
      "+-----------------------------------------+------------------------+----------------------+\n",
      "                                                                                         \n",
      "+-----------------------------------------------------------------------------------------+\n",
      "| Processes:                                                                              |\n",
      "|  GPU   GI   CI        PID   Type   Process name                              GPU Memory |\n",
      "|        ID   ID                                                               Usage      |\n",
      "|=========================================================================================|\n",
      "|    0   N/A  N/A      5948    C+G   ...crosoft\\Edge\\Application\\msedge.exe      N/A      |\n",
      "|    0   N/A  N/A      6984    C+G   ...010.0_x64__8wekyb3d8bbwe\\Photos.exe      N/A      |\n",
      "|    0   N/A  N/A      7552    C+G   ...ogram Files\\Notepad++\\notepad++.exe      N/A      |\n",
      "|    0   N/A  N/A      7796    C+G   C:\\Windows\\explorer.exe                     N/A      |\n",
      "|    0   N/A  N/A      7804    C+G   C:\\Windows\\System32\\ShellHost.exe           N/A      |\n",
      "|    0   N/A  N/A      8868    C+G   ...CBS_cw5n1h2txyewy\\TextInputHost.exe      N/A      |\n",
      "|    0   N/A  N/A      8944    C+G   ...nt.CBS_cw5n1h2txyewy\\SearchHost.exe      N/A      |\n",
      "|    0   N/A  N/A      8968    C+G   ...2txyewy\\StartMenuExperienceHost.exe      N/A      |\n",
      "|    0   N/A  N/A     11236    C+G   ...t.LockApp_cw5n1h2txyewy\\LockApp.exe      N/A      |\n",
      "|    0   N/A  N/A     11932    C+G   ...ekyb3d8bbwe\\PhoneExperienceHost.exe      N/A      |\n",
      "|    0   N/A  N/A     12856    C+G   ...010.0_x64__8wekyb3d8bbwe\\Photos.exe      N/A      |\n",
      "|    0   N/A  N/A     12880    C+G   ...GeForce Experience\\NVIDIA Share.exe      N/A      |\n",
      "|    0   N/A  N/A     13532    C+G   ...s\\Toolbox\\bin\\jetbrains-toolbox.exe      N/A      |\n",
      "|    0   N/A  N/A     14120    C+G   ...s\\System32\\ApplicationFrameHost.exe      N/A      |\n",
      "|    0   N/A  N/A     14144    C+G   ...__8wekyb3d8bbwe\\Microsoft.Notes.exe      N/A      |\n",
      "|    0   N/A  N/A     15544    C+G   ...cal\\Microsoft\\OneDrive\\OneDrive.exe      N/A      |\n",
      "|    0   N/A  N/A     16120    C+G   ...5n1h2txyewy\\ShellExperienceHost.exe      N/A      |\n",
      "|    0   N/A  N/A     17164    C+G   ...B\\system_tray\\lghub_system_tray.exe      N/A      |\n",
      "|    0   N/A  N/A     18060    C+G   ...\\cef\\cef.win7x64\\steamwebhelper.exe      N/A      |\n",
      "|    0   N/A  N/A     19716    C+G   ...oogle\\Chrome\\Application\\chrome.exe      N/A      |\n",
      "|    0   N/A  N/A     20156    C+G   ....0_x64__8wekyb3d8bbwe\\onenoteim.exe      N/A      |\n",
      "|    0   N/A  N/A     20496    C+G   ...n\\131.0.2903.112\\msedgewebview2.exe      N/A      |\n",
      "+-----------------------------------------------------------------------------------------+\n"
     ]
    }
   ],
   "source": [
    "!nvidia-smi"
   ]
  },
  {
   "cell_type": "code",
   "execution_count": 4,
   "id": "f0421f2c",
   "metadata": {},
   "outputs": [
    {
     "name": "stdout",
     "output_type": "stream",
     "text": [
      "Collecting ultralytics\n",
      "  Downloading ultralytics-8.3.57-py3-none-any.whl.metadata (35 kB)\n",
      "Requirement already satisfied: numpy>=1.23.0 in d:\\anaconda3\\envs\\pytorch_env\\lib\\site-packages (from ultralytics) (1.26.4)\n",
      "Requirement already satisfied: matplotlib>=3.3.0 in d:\\anaconda3\\envs\\pytorch_env\\lib\\site-packages (from ultralytics) (3.5.3)\n",
      "Collecting opencv-python>=4.6.0 (from ultralytics)\n",
      "  Downloading opencv_python-4.10.0.84-cp37-abi3-win_amd64.whl.metadata (20 kB)\n",
      "Requirement already satisfied: pillow>=7.1.2 in d:\\anaconda3\\envs\\pytorch_env\\lib\\site-packages (from ultralytics) (9.4.0)\n",
      "Requirement already satisfied: pyyaml>=5.3.1 in d:\\anaconda3\\envs\\pytorch_env\\lib\\site-packages (from ultralytics) (6.0.1)\n",
      "Requirement already satisfied: requests>=2.23.0 in d:\\anaconda3\\envs\\pytorch_env\\lib\\site-packages (from ultralytics) (2.31.0)\n",
      "Requirement already satisfied: scipy>=1.4.1 in d:\\anaconda3\\envs\\pytorch_env\\lib\\site-packages (from ultralytics) (1.14.1)\n",
      "Requirement already satisfied: torch>=1.8.0 in d:\\anaconda3\\envs\\pytorch_env\\lib\\site-packages (from ultralytics) (2.5.0)\n",
      "Requirement already satisfied: torchvision>=0.9.0 in d:\\anaconda3\\envs\\pytorch_env\\lib\\site-packages (from ultralytics) (0.20.0)\n",
      "Collecting tqdm>=4.64.0 (from ultralytics)\n",
      "  Downloading tqdm-4.67.1-py3-none-any.whl.metadata (57 kB)\n",
      "Requirement already satisfied: psutil in d:\\anaconda3\\envs\\pytorch_env\\lib\\site-packages (from ultralytics) (6.1.1)\n",
      "Requirement already satisfied: py-cpuinfo in d:\\anaconda3\\envs\\pytorch_env\\lib\\site-packages (from ultralytics) (9.0.0)\n",
      "Requirement already satisfied: pandas>=1.1.4 in d:\\anaconda3\\envs\\pytorch_env\\lib\\site-packages (from ultralytics) (1.5.3)\n",
      "Requirement already satisfied: seaborn>=0.11.0 in d:\\anaconda3\\envs\\pytorch_env\\lib\\site-packages (from ultralytics) (0.12.2)\n",
      "Collecting ultralytics-thop>=2.0.0 (from ultralytics)\n",
      "  Downloading ultralytics_thop-2.0.13-py3-none-any.whl.metadata (9.4 kB)\n",
      "Requirement already satisfied: cycler>=0.10 in d:\\anaconda3\\envs\\pytorch_env\\lib\\site-packages (from matplotlib>=3.3.0->ultralytics) (0.11.0)\n",
      "Requirement already satisfied: fonttools>=4.22.0 in d:\\anaconda3\\envs\\pytorch_env\\lib\\site-packages (from matplotlib>=3.3.0->ultralytics) (4.51.0)\n",
      "Requirement already satisfied: kiwisolver>=1.0.1 in d:\\anaconda3\\envs\\pytorch_env\\lib\\site-packages (from matplotlib>=3.3.0->ultralytics) (1.4.4)\n",
      "Requirement already satisfied: packaging>=20.0 in d:\\anaconda3\\envs\\pytorch_env\\lib\\site-packages (from matplotlib>=3.3.0->ultralytics) (24.2)\n",
      "Requirement already satisfied: pyparsing>=2.2.1 in d:\\anaconda3\\envs\\pytorch_env\\lib\\site-packages (from matplotlib>=3.3.0->ultralytics) (3.2.0)\n",
      "Requirement already satisfied: python-dateutil>=2.7 in d:\\anaconda3\\envs\\pytorch_env\\lib\\site-packages (from matplotlib>=3.3.0->ultralytics) (2.9.0.post0)\n",
      "Requirement already satisfied: pytz>=2020.1 in d:\\anaconda3\\envs\\pytorch_env\\lib\\site-packages (from pandas>=1.1.4->ultralytics) (2024.1)\n",
      "Requirement already satisfied: charset-normalizer<4,>=2 in d:\\anaconda3\\envs\\pytorch_env\\lib\\site-packages (from requests>=2.23.0->ultralytics) (3.3.2)\n",
      "Requirement already satisfied: idna<4,>=2.5 in d:\\anaconda3\\envs\\pytorch_env\\lib\\site-packages (from requests>=2.23.0->ultralytics) (3.7)\n",
      "Requirement already satisfied: urllib3<3,>=1.21.1 in d:\\anaconda3\\envs\\pytorch_env\\lib\\site-packages (from requests>=2.23.0->ultralytics) (2.2.3)\n",
      "Requirement already satisfied: certifi>=2017.4.17 in d:\\anaconda3\\envs\\pytorch_env\\lib\\site-packages (from requests>=2.23.0->ultralytics) (2024.12.14)\n",
      "Requirement already satisfied: filelock in d:\\anaconda3\\envs\\pytorch_env\\lib\\site-packages (from torch>=1.8.0->ultralytics) (3.13.1)\n",
      "Collecting typing-extensions>=4.8.0 (from torch>=1.8.0->ultralytics)\n",
      "  Downloading typing_extensions-4.12.2-py3-none-any.whl.metadata (3.0 kB)\n",
      "Requirement already satisfied: networkx in d:\\anaconda3\\envs\\pytorch_env\\lib\\site-packages (from torch>=1.8.0->ultralytics) (3.2.1)\n",
      "Requirement already satisfied: jinja2 in d:\\anaconda3\\envs\\pytorch_env\\lib\\site-packages (from torch>=1.8.0->ultralytics) (3.1.4)\n",
      "Collecting fsspec (from torch>=1.8.0->ultralytics)\n",
      "  Downloading fsspec-2024.12.0-py3-none-any.whl.metadata (11 kB)\n",
      "Collecting sympy==1.13.1 (from torch>=1.8.0->ultralytics)\n",
      "  Downloading sympy-1.13.1-py3-none-any.whl.metadata (12 kB)\n",
      "Requirement already satisfied: mpmath<1.4,>=1.1.0 in d:\\anaconda3\\envs\\pytorch_env\\lib\\site-packages (from sympy==1.13.1->torch>=1.8.0->ultralytics) (1.3.0)\n",
      "Requirement already satisfied: colorama in d:\\anaconda3\\envs\\pytorch_env\\lib\\site-packages (from tqdm>=4.64.0->ultralytics) (0.4.6)\n",
      "Requirement already satisfied: six>=1.5 in d:\\anaconda3\\envs\\pytorch_env\\lib\\site-packages (from python-dateutil>=2.7->matplotlib>=3.3.0->ultralytics) (1.16.0)\n",
      "Requirement already satisfied: MarkupSafe>=2.0 in d:\\anaconda3\\envs\\pytorch_env\\lib\\site-packages (from jinja2->torch>=1.8.0->ultralytics) (2.1.3)\n",
      "Downloading ultralytics-8.3.57-py3-none-any.whl (905 kB)\n",
      "   ---------------------------------------- 0.0/905.3 kB ? eta -:--:--\n",
      "   --------------------------------------- 905.3/905.3 kB 40.2 MB/s eta 0:00:00\n",
      "Downloading opencv_python-4.10.0.84-cp37-abi3-win_amd64.whl (38.8 MB)\n",
      "   ---------------------------------------- 0.0/38.8 MB ? eta -:--:--\n",
      "   --- ------------------------------------ 3.4/38.8 MB 16.7 MB/s eta 0:00:03\n",
      "   ------------------ --------------------- 17.8/38.8 MB 41.6 MB/s eta 0:00:01\n",
      "   ------------------------------- -------- 30.1/38.8 MB 47.8 MB/s eta 0:00:01\n",
      "   -------------------------------------- - 37.2/38.8 MB 44.6 MB/s eta 0:00:01\n",
      "   ---------------------------------------- 38.8/38.8 MB 44.1 MB/s eta 0:00:00\n",
      "Downloading sympy-1.13.1-py3-none-any.whl (6.2 MB)\n",
      "   ---------------------------------------- 0.0/6.2 MB ? eta -:--:--\n",
      "   ---------------------------------------- 6.2/6.2 MB 95.6 MB/s eta 0:00:00\n",
      "Downloading tqdm-4.67.1-py3-none-any.whl (78 kB)\n",
      "Downloading ultralytics_thop-2.0.13-py3-none-any.whl (26 kB)\n",
      "Downloading typing_extensions-4.12.2-py3-none-any.whl (37 kB)\n",
      "Downloading fsspec-2024.12.0-py3-none-any.whl (183 kB)\n",
      "Installing collected packages: typing-extensions, tqdm, sympy, opencv-python, fsspec, ultralytics-thop, ultralytics\n",
      "  Attempting uninstall: typing-extensions\n",
      "    Found existing installation: typing_extensions 4.7.1\n",
      "    Uninstalling typing_extensions-4.7.1:\n",
      "      Successfully uninstalled typing_extensions-4.7.1\n",
      "  Attempting uninstall: sympy\n",
      "    Found existing installation: sympy 1.13.3\n",
      "    Uninstalling sympy-1.13.3:\n",
      "      Successfully uninstalled sympy-1.13.3\n",
      "Successfully installed fsspec-2024.12.0 opencv-python-4.10.0.84 sympy-1.13.1 tqdm-4.67.1 typing-extensions-4.12.2 ultralytics-8.3.57 ultralytics-thop-2.0.13\n"
     ]
    }
   ],
   "source": [
    "!pip install ultralytics"
   ]
  },
  {
   "cell_type": "code",
   "execution_count": 5,
   "id": "7cd02362",
   "metadata": {},
   "outputs": [
    {
     "name": "stdout",
     "output_type": "stream",
     "text": [
      "\u001b[2K\n",
      "\u001b[2K\n",
      "Ultralytics 8.3.57 �윓� Python-3.10.16 torch-2.5.0 CUDA:0 (NVIDIA GeForce RTX 4060 Ti, 8188MiB)\n",
      "Setup complete �쐟 (12 CPUs, 31.6 GB RAM, 17.1/489.0 GB disk)\n",
      "\n",
      "OS                  Windows-10-10.0.26100-SP0\n",
      "Environment         Windows\n",
      "Python              3.10.16\n",
      "Install             pip\n",
      "RAM                 31.62 GB\n",
      "Disk                17.1/489.0 GB\n",
      "CPU                 AMD Ryzen 5 7500F 6-Core Processor\n",
      "CPU count           12\n",
      "GPU                 NVIDIA GeForce RTX 4060 Ti, 8188MiB\n",
      "GPU count           1\n",
      "CUDA                12.4\n",
      "\n",
      "numpy               �쐟 1.26.4>=1.23.0\n",
      "numpy               �쐟 1.26.4<2.0.0; sys_platform == \"darwin\"\n",
      "matplotlib          �쐟 3.5.3>=3.3.0\n",
      "opencv-python       �쐟 4.10.0.84>=4.6.0\n",
      "pillow              �쐟 9.4.0>=7.1.2\n",
      "pyyaml              �쐟 6.0.1>=5.3.1\n",
      "requests            �쐟 2.31.0>=2.23.0\n",
      "scipy               �쐟 1.14.1>=1.4.1\n",
      "torch               �쐟 2.5.0>=1.8.0\n",
      "torch               �쐟 2.5.0!=2.4.0,>=1.8.0; sys_platform == \"win32\"\n",
      "torchvision         �쐟 0.20.0>=0.9.0\n",
      "tqdm                �쐟 4.67.1>=4.64.0\n",
      "psutil              �쐟 6.1.1\n",
      "py-cpuinfo          �쐟 9.0.0\n",
      "pandas              �쐟 1.5.3>=1.1.4\n",
      "seaborn             �쐟 0.12.2>=0.11.0\n",
      "ultralytics-thop    �쐟 2.0.13>=2.0.0\n"
     ]
    }
   ],
   "source": [
    "\"\"\"\n",
    "This script uses YOLOv8 by Ultralytics.\n",
    "YOLOv8 is distributed under the AGPL-3.0 License.\n",
    "For more details, visit: https://github.com/ultralytics/ultralytics\n",
    "\"\"\"\n",
    "from ultralytics import YOLO\n",
    "import os\n",
    "from IPython.display import display, Image\n",
    "from IPython import display\n",
    "display.clear_output()\n",
    "!yolo checks"
   ]
  },
  {
   "cell_type": "code",
   "execution_count": 4,
   "id": "64ef7d73",
   "metadata": {},
   "outputs": [
    {
     "name": "stdout",
     "output_type": "stream",
     "text": [
      "Requirement already satisfied: wget in d:\\anaconda3\\envs\\pytorch\\lib\\site-packages (3.2)\n"
     ]
    }
   ],
   "source": [
    "# !pip install wget"
   ]
  },
  {
   "cell_type": "code",
   "execution_count": 5,
   "id": "215a4eed",
   "metadata": {},
   "outputs": [],
   "source": [
    "# 쥬피터에서는  wget 외에, curl  접근이 쉬워서\n",
    "# import wget"
   ]
  },
  {
   "cell_type": "code",
   "execution_count": 6,
   "id": "3a9e7abc",
   "metadata": {},
   "outputs": [
    {
     "name": "stderr",
     "output_type": "stream",
     "text": [
      "'wget'은(는) 내부 또는 외부 명령, 실행할 수 있는 프로그램, 또는\n",
      "배치 파일이 아닙니다.\n"
     ]
    }
   ],
   "source": [
    "# !wget -O {base_path}Aquarium_DataSet.zip https://public.roboflow.com/ds/7CQzxIlrek?key=RF2cwhAWqJ"
   ]
  },
  {
   "cell_type": "code",
   "execution_count": 6,
   "id": "b9c77387",
   "metadata": {},
   "outputs": [
    {
     "name": "stderr",
     "output_type": "stream",
     "text": [
      "  % Total    % Received % Xferd  Average Speed   Time    Time     Time  Current\n",
      "                                 Dload  Upload   Total   Spent    Left  Speed\n",
      "\n",
      "  0     0    0     0    0     0      0      0 --:--:-- --:--:-- --:--:--     0\n",
      "100   903  100   903    0     0   2018      0 --:--:-- --:--:-- --:--:--  2024\n",
      "\n",
      "  0 66.9M    0 17656    0     0  17882      0  1:05:25 --:--:--  1:05:25 17882\n",
      "  0 66.9M    0  441k    0     0   235k      0  0:04:51  0:00:01  0:04:50  476k\n",
      " 18 66.9M   18 12.5M    0     0  4455k      0  0:00:15  0:00:02  0:00:13 6762k\n",
      " 48 66.9M   48 32.2M    0     0  8369k      0  0:00:08  0:00:03  0:00:05 10.8M\n",
      " 81 66.9M   81 54.5M    0     0  11.1M      0  0:00:05  0:00:04  0:00:01 14.0M\n",
      "100 66.9M  100 66.9M    0     0  12.1M      0  0:00:05  0:00:05 --:--:-- 14.7M\n"
     ]
    }
   ],
   "source": [
    "!curl -L -o \"{base_path}\\Aquarium_DataSet.zip\" \"https://public.roboflow.com/ds/7CQzxIlrek?key=RF2cwhAWqJ\""
   ]
  },
  {
   "cell_type": "code",
   "execution_count": 7,
   "id": "29bbf3f2",
   "metadata": {},
   "outputs": [
    {
     "name": "stdout",
     "output_type": "stream",
     "text": [
      "압축이 해제되었습니다: D:\\Python_Pytorch_Workspace\\Jupyter_Test\\Aquarium_DataSet\n"
     ]
    }
   ],
   "source": [
    "import os\n",
    "import zipfile\n",
    "\n",
    "# ZIP 파일 경로\n",
    "# zip_file_path = r\"D:\\Python_Pytorch_Workspace\\Jupyter_Test\\Dog_Cat_Data.zip\"\n",
    "zip_path = os.path.join(base_path, \"Aquarium_DataSet.zip\")\n",
    "# 압축을 해제할 대상 경로\n",
    "# extract_to_path = r\"D:\\Python_Pytorch_Workspace\\Jupyter_Test\\Dog_Cat_Data\"\n",
    "extract_path = os.path.join(base_path, \"Aquarium_DataSet\")\n",
    "\n",
    "# 경로 생성 (존재하지 않으면 생성)\n",
    "os.makedirs(extract_path, exist_ok=True)\n",
    "\n",
    "# ZIP 파일 열고 압축 해제\n",
    "with zipfile.ZipFile(zip_path, 'r') as zip_ref:\n",
    "    zip_ref.extractall(extract_path)\n",
    "\n",
    "print(f\"압축이 해제되었습니다: {extract_path}\")"
   ]
  },
  {
   "cell_type": "code",
   "execution_count": 8,
   "id": "a0307c9e",
   "metadata": {},
   "outputs": [
    {
     "name": "stdout",
     "output_type": "stream",
     "text": [
      "Requirement already satisfied: PyYAML in d:\\anaconda3\\envs\\pytorch_env\\lib\\site-packages (6.0.1)\n"
     ]
    }
   ],
   "source": [
    "!pip install PyYAML"
   ]
  },
  {
   "cell_type": "code",
   "execution_count": 9,
   "id": "b99fdbcf",
   "metadata": {},
   "outputs": [
    {
     "name": "stdout",
     "output_type": "stream",
     "text": [
      "파일 경로: D:\\Python_Pytorch_Workspace\\Jupyter_Test\\Aquarium_DataSet\\data.yaml\n",
      "{'train': '../train/images', 'val': '../valid/images', 'test': '../test/images', 'nc': 7, 'names': ['fish', 'jellyfish', 'penguin', 'puffin', 'shark', 'starfish', 'stingray'], 'roboflow': {'workspace': 'brad-dwyer', 'project': 'aquarium-combined', 'version': 2, 'license': 'CC BY 4.0', 'url': 'https://universe.roboflow.com/brad-dwyer/aquarium-combined/dataset/2'}}\n"
     ]
    }
   ],
   "source": [
    "import yaml\n",
    "import os\n",
    "\n",
    "# 기본 경로 설정, 위에 정의 \n",
    "# base_path = r\"C:\\Aquarium_DataSet\"\n",
    "data_yaml_path = os.path.join(base_path, \"Aquarium_DataSet\")\n",
    "# 파일 경로 출력\n",
    "file_name = \"data.yaml\"\n",
    "file_path = os.path.join(data_yaml_path, file_name)\n",
    "\n",
    "if os.path.exists(file_path):\n",
    "    print(f\"파일 경로: {file_path}\")\n",
    "    # YAML 파일 읽기 및 출력\n",
    "    with open(file_path, 'r') as f:\n",
    "        print(yaml.safe_load(f))\n",
    "else:\n",
    "    print(f\"{file_name} 파일이 {base_path}에 존재하지 않습니다.\")\n"
   ]
  },
  {
   "cell_type": "code",
   "execution_count": 10,
   "id": "435d89be",
   "metadata": {},
   "outputs": [
    {
     "name": "stdout",
     "output_type": "stream",
     "text": [
      "{'names': ['fish', 'jellyfish', 'penguin', 'puffin', 'shark', 'starfish', 'stingray'], 'nc': 7, 'test': 'D:\\\\Python_Pytorch_Workspace\\\\Jupyter_Test\\\\Aquarium_DataSet\\\\test\\\\images\\\\\\\\', 'train': 'D:\\\\Python_Pytorch_Workspace\\\\Jupyter_Test\\\\Aquarium_DataSet\\\\train\\\\images\\\\\\\\', 'val': 'D:\\\\Python_Pytorch_Workspace\\\\Jupyter_Test\\\\Aquarium_DataSet\\\\valid\\\\images\\\\\\\\'}\n"
     ]
    }
   ],
   "source": [
    "import yaml\n",
    "import os\n",
    "\n",
    "# 데이터 정의\n",
    "data = {\n",
    "  'train': r'D:\\Python_Pytorch_Workspace\\Jupyter_Test\\Aquarium_DataSet\\train\\images\\\\',\n",
    "  'val': r'D:\\Python_Pytorch_Workspace\\Jupyter_Test\\Aquarium_DataSet\\valid\\images\\\\',\n",
    "  'test': r'D:\\Python_Pytorch_Workspace\\Jupyter_Test\\Aquarium_DataSet\\test\\images\\\\',\n",
    "  'names': ['fish', 'jellyfish', 'penguin', 'puffin', 'shark', 'starfish', 'stingray'],\n",
    "  'nc': 7\n",
    "}\n",
    "\n",
    "# YAML 파일 작성\n",
    "yaml_file_path = r'D:\\Python_Pytorch_Workspace\\Jupyter_Test\\Aquarium_DataSet\\Aquarium_Data.yaml'\n",
    "\n",
    "with open(yaml_file_path, 'w') as f:\n",
    "    yaml.dump(data, f)\n",
    "\n",
    "# YAML 파일 읽기 및 출력\n",
    "with open(yaml_file_path, 'r') as f:\n",
    "    print(yaml.safe_load(f))\n"
   ]
  },
  {
   "cell_type": "code",
   "execution_count": 11,
   "id": "aec4fec4",
   "metadata": {},
   "outputs": [
    {
     "name": "stdout",
     "output_type": "stream",
     "text": [
      "Ultralytics 8.3.57  Python-3.10.16 torch-2.5.0 CUDA:0 (NVIDIA GeForce RTX 4060 Ti, 8188MiB)\n",
      "Setup complete  (12 CPUs, 31.6 GB RAM, 17.1/489.0 GB disk)\n"
     ]
    }
   ],
   "source": [
    "import ultralytics\n",
    "ultralytics.checks()"
   ]
  },
  {
   "cell_type": "code",
   "execution_count": 12,
   "id": "30f4a9d8",
   "metadata": {},
   "outputs": [
    {
     "name": "stdout",
     "output_type": "stream",
     "text": [
      "GPU is available.\n",
      "Device Name: NVIDIA GeForce RTX 4060 Ti\n"
     ]
    }
   ],
   "source": [
    "import torch\n",
    "\n",
    "# GPU 사용 가능 여부 확인\n",
    "if torch.cuda.is_available():\n",
    "    print(\"GPU is available.\")\n",
    "    print(f\"Device Name: {torch.cuda.get_device_name(0)}\")\n",
    "else:\n",
    "    print(\"GPU is not available.\")\n"
   ]
  },
  {
   "cell_type": "code",
   "execution_count": 13,
   "id": "1ced2477",
   "metadata": {},
   "outputs": [],
   "source": [
    "from ultralytics import YOLO\n",
    "\n",
    "model = YOLO(\"yolov8n.pt\")  # load a pretrained model (recommended for training)"
   ]
  },
  {
   "cell_type": "code",
   "execution_count": 14,
   "id": "d140c19d",
   "metadata": {},
   "outputs": [
    {
     "name": "stdout",
     "output_type": "stream",
     "text": [
      "<class 'dict'> 80\n",
      "{0: 'person', 1: 'bicycle', 2: 'car', 3: 'motorcycle', 4: 'airplane', 5: 'bus', 6: 'train', 7: 'truck', 8: 'boat', 9: 'traffic light', 10: 'fire hydrant', 11: 'stop sign', 12: 'parking meter', 13: 'bench', 14: 'bird', 15: 'cat', 16: 'dog', 17: 'horse', 18: 'sheep', 19: 'cow', 20: 'elephant', 21: 'bear', 22: 'zebra', 23: 'giraffe', 24: 'backpack', 25: 'umbrella', 26: 'handbag', 27: 'tie', 28: 'suitcase', 29: 'frisbee', 30: 'skis', 31: 'snowboard', 32: 'sports ball', 33: 'kite', 34: 'baseball bat', 35: 'baseball glove', 36: 'skateboard', 37: 'surfboard', 38: 'tennis racket', 39: 'bottle', 40: 'wine glass', 41: 'cup', 42: 'fork', 43: 'knife', 44: 'spoon', 45: 'bowl', 46: 'banana', 47: 'apple', 48: 'sandwich', 49: 'orange', 50: 'broccoli', 51: 'carrot', 52: 'hot dog', 53: 'pizza', 54: 'donut', 55: 'cake', 56: 'chair', 57: 'couch', 58: 'potted plant', 59: 'bed', 60: 'dining table', 61: 'toilet', 62: 'tv', 63: 'laptop', 64: 'mouse', 65: 'remote', 66: 'keyboard', 67: 'cell phone', 68: 'microwave', 69: 'oven', 70: 'toaster', 71: 'sink', 72: 'refrigerator', 73: 'book', 74: 'clock', 75: 'vase', 76: 'scissors', 77: 'teddy bear', 78: 'hair drier', 79: 'toothbrush'}\n"
     ]
    }
   ],
   "source": [
    "print(type(model.names), len(model.names))\n",
    "print(model.names)"
   ]
  },
  {
   "cell_type": "code",
   "execution_count": 15,
   "id": "ffa37196",
   "metadata": {},
   "outputs": [
    {
     "name": "stdout",
     "output_type": "stream",
     "text": [
      "Ultralytics 8.3.57  Python-3.10.16 torch-2.5.0 CUDA:0 (NVIDIA GeForce RTX 4060 Ti, 8188MiB)\n",
      "\u001b[34m\u001b[1mengine\\trainer: \u001b[0mtask=detect, mode=train, model=yolov8n.pt, data=D:\\Python_Pytorch_Workspace\\Jupyter_Test\\Aquarium_DataSet\\Aquarium_Data.yaml, epochs=100, time=None, patience=30, batch=32, imgsz=416, save=True, save_period=-1, cache=False, device=None, workers=8, project=D:\\Python_Pytorch_Workspace\\Jupyter_Test, name=modelresult3, exist_ok=False, pretrained=True, optimizer=auto, verbose=True, seed=0, deterministic=True, single_cls=False, rect=False, cos_lr=False, close_mosaic=10, resume=False, amp=True, fraction=1.0, profile=False, freeze=None, multi_scale=False, overlap_mask=True, mask_ratio=4, dropout=0.0, val=True, split=val, save_json=False, save_hybrid=False, conf=None, iou=0.7, max_det=300, half=False, dnn=False, plots=True, source=None, vid_stride=1, stream_buffer=False, visualize=False, augment=False, agnostic_nms=False, classes=None, retina_masks=False, embed=None, show=False, save_frames=False, save_txt=False, save_conf=False, save_crop=False, show_labels=True, show_conf=True, show_boxes=True, line_width=None, format=torchscript, keras=False, optimize=False, int8=False, dynamic=False, simplify=True, opset=None, workspace=None, nms=False, lr0=0.01, lrf=0.01, momentum=0.937, weight_decay=0.0005, warmup_epochs=3.0, warmup_momentum=0.8, warmup_bias_lr=0.1, box=7.5, cls=0.5, dfl=1.5, pose=12.0, kobj=1.0, nbs=64, hsv_h=0.015, hsv_s=0.7, hsv_v=0.4, degrees=0.0, translate=0.1, scale=0.5, shear=0.0, perspective=0.0, flipud=0.0, fliplr=0.5, bgr=0.0, mosaic=1.0, mixup=0.0, copy_paste=0.0, copy_paste_mode=flip, auto_augment=randaugment, erasing=0.4, crop_fraction=1.0, cfg=None, tracker=botsort.yaml, save_dir=D:\\Python_Pytorch_Workspace\\Jupyter_Test\\modelresult3\n",
      "Overriding model.yaml nc=80 with nc=7\n",
      "\n",
      "                   from  n    params  module                                       arguments                     \n",
      "  0                  -1  1       464  ultralytics.nn.modules.conv.Conv             [3, 16, 3, 2]                 \n",
      "  1                  -1  1      4672  ultralytics.nn.modules.conv.Conv             [16, 32, 3, 2]                \n",
      "  2                  -1  1      7360  ultralytics.nn.modules.block.C2f             [32, 32, 1, True]             \n",
      "  3                  -1  1     18560  ultralytics.nn.modules.conv.Conv             [32, 64, 3, 2]                \n",
      "  4                  -1  2     49664  ultralytics.nn.modules.block.C2f             [64, 64, 2, True]             \n",
      "  5                  -1  1     73984  ultralytics.nn.modules.conv.Conv             [64, 128, 3, 2]               \n",
      "  6                  -1  2    197632  ultralytics.nn.modules.block.C2f             [128, 128, 2, True]           \n",
      "  7                  -1  1    295424  ultralytics.nn.modules.conv.Conv             [128, 256, 3, 2]              \n",
      "  8                  -1  1    460288  ultralytics.nn.modules.block.C2f             [256, 256, 1, True]           \n",
      "  9                  -1  1    164608  ultralytics.nn.modules.block.SPPF            [256, 256, 5]                 \n",
      " 10                  -1  1         0  torch.nn.modules.upsampling.Upsample         [None, 2, 'nearest']          \n",
      " 11             [-1, 6]  1         0  ultralytics.nn.modules.conv.Concat           [1]                           \n",
      " 12                  -1  1    148224  ultralytics.nn.modules.block.C2f             [384, 128, 1]                 \n",
      " 13                  -1  1         0  torch.nn.modules.upsampling.Upsample         [None, 2, 'nearest']          \n",
      " 14             [-1, 4]  1         0  ultralytics.nn.modules.conv.Concat           [1]                           \n",
      " 15                  -1  1     37248  ultralytics.nn.modules.block.C2f             [192, 64, 1]                  \n",
      " 16                  -1  1     36992  ultralytics.nn.modules.conv.Conv             [64, 64, 3, 2]                \n",
      " 17            [-1, 12]  1         0  ultralytics.nn.modules.conv.Concat           [1]                           \n",
      " 18                  -1  1    123648  ultralytics.nn.modules.block.C2f             [192, 128, 1]                 \n",
      " 19                  -1  1    147712  ultralytics.nn.modules.conv.Conv             [128, 128, 3, 2]              \n",
      " 20             [-1, 9]  1         0  ultralytics.nn.modules.conv.Concat           [1]                           \n",
      " 21                  -1  1    493056  ultralytics.nn.modules.block.C2f             [384, 256, 1]                 \n",
      " 22        [15, 18, 21]  1    752677  ultralytics.nn.modules.head.Detect           [7, [64, 128, 256]]           \n",
      "Model summary: 225 layers, 3,012,213 parameters, 3,012,197 gradients, 8.2 GFLOPs\n",
      "\n",
      "Transferred 319/355 items from pretrained weights\n",
      "Freezing layer 'model.22.dfl.conv.weight'\n",
      "\u001b[34m\u001b[1mAMP: \u001b[0mrunning Automatic Mixed Precision (AMP) checks...\n",
      "Downloading https://github.com/ultralytics/assets/releases/download/v8.3.0/yolo11n.pt to 'yolo11n.pt'...\n"
     ]
    },
    {
     "name": "stderr",
     "output_type": "stream",
     "text": [
      "100%|█████████████████████████████████████████████████████████████████████████| 5.35M/5.35M [00:00<00:00, 19.7MB/s]\n"
     ]
    },
    {
     "name": "stdout",
     "output_type": "stream",
     "text": [
      "\u001b[34m\u001b[1mAMP: \u001b[0mchecks passed \n"
     ]
    },
    {
     "name": "stderr",
     "output_type": "stream",
     "text": [
      "\u001b[34m\u001b[1mtrain: \u001b[0mScanning D:\\Python_Pytorch_Workspace\\Jupyter_Test\\Aquarium_DataSet\\train\\labels... 448 images, 1 backgrounds\u001b[0m"
     ]
    },
    {
     "name": "stdout",
     "output_type": "stream",
     "text": [
      "\u001b[34m\u001b[1mtrain: \u001b[0mNew cache created: D:\\Python_Pytorch_Workspace\\Jupyter_Test\\Aquarium_DataSet\\train\\labels.cache\n"
     ]
    },
    {
     "name": "stderr",
     "output_type": "stream",
     "text": [
      "\n",
      "\u001b[34m\u001b[1mval: \u001b[0mScanning D:\\Python_Pytorch_Workspace\\Jupyter_Test\\Aquarium_DataSet\\valid\\labels... 127 images, 0 backgrounds, \u001b[0m"
     ]
    },
    {
     "name": "stdout",
     "output_type": "stream",
     "text": [
      "\u001b[34m\u001b[1mval: \u001b[0mNew cache created: D:\\Python_Pytorch_Workspace\\Jupyter_Test\\Aquarium_DataSet\\valid\\labels.cache\n"
     ]
    },
    {
     "name": "stderr",
     "output_type": "stream",
     "text": [
      "\n"
     ]
    },
    {
     "name": "stdout",
     "output_type": "stream",
     "text": [
      "Plotting labels to D:\\Python_Pytorch_Workspace\\Jupyter_Test\\modelresult3\\labels.jpg... \n",
      "\u001b[34m\u001b[1moptimizer:\u001b[0m 'optimizer=auto' found, ignoring 'lr0=0.01' and 'momentum=0.937' and determining best 'optimizer', 'lr0' and 'momentum' automatically... \n",
      "\u001b[34m\u001b[1moptimizer:\u001b[0m AdamW(lr=0.000909, momentum=0.9) with parameter groups 57 weight(decay=0.0), 64 weight(decay=0.0005), 63 bias(decay=0.0)\n",
      "Image sizes 416 train, 416 val\n",
      "Using 8 dataloader workers\n",
      "Logging results to \u001b[1mD:\\Python_Pytorch_Workspace\\Jupyter_Test\\modelresult3\u001b[0m\n",
      "Starting training for 100 epochs...\n",
      "\n",
      "      Epoch    GPU_mem   box_loss   cls_loss   dfl_loss  Instances       Size\n"
     ]
    },
    {
     "name": "stderr",
     "output_type": "stream",
     "text": [
      "      1/100      2.07G      1.703       4.29      1.317        305        416: 100%|██████████| 14/14 [00:02<00:00,\n",
      "                 Class     Images  Instances      Box(P          R      mAP50  mAP50-95): 100%|██████████| 2/2 [00:"
     ]
    },
    {
     "name": "stdout",
     "output_type": "stream",
     "text": [
      "                   all        127        909    0.00315      0.207     0.0256     0.0146\n"
     ]
    },
    {
     "name": "stderr",
     "output_type": "stream",
     "text": [
      "\n"
     ]
    },
    {
     "name": "stdout",
     "output_type": "stream",
     "text": [
      "\n",
      "      Epoch    GPU_mem   box_loss   cls_loss   dfl_loss  Instances       Size\n"
     ]
    },
    {
     "name": "stderr",
     "output_type": "stream",
     "text": [
      "      2/100      2.25G      1.667      3.448      1.204        253        416: 100%|██████████| 14/14 [00:01<00:00,\n",
      "                 Class     Images  Instances      Box(P          R      mAP50  mAP50-95): 100%|██████████| 2/2 [00:"
     ]
    },
    {
     "name": "stdout",
     "output_type": "stream",
     "text": [
      "                   all        127        909     0.0117      0.454      0.134     0.0636\n"
     ]
    },
    {
     "name": "stderr",
     "output_type": "stream",
     "text": [
      "\n"
     ]
    },
    {
     "name": "stdout",
     "output_type": "stream",
     "text": [
      "\n",
      "      Epoch    GPU_mem   box_loss   cls_loss   dfl_loss  Instances       Size\n"
     ]
    },
    {
     "name": "stderr",
     "output_type": "stream",
     "text": [
      "      3/100      2.17G      1.757      2.525       1.21        358        416: 100%|██████████| 14/14 [00:01<00:00,\n",
      "                 Class     Images  Instances      Box(P          R      mAP50  mAP50-95): 100%|██████████| 2/2 [00:"
     ]
    },
    {
     "name": "stdout",
     "output_type": "stream",
     "text": [
      "                   all        127        909     0.0156      0.549      0.188     0.0943\n"
     ]
    },
    {
     "name": "stderr",
     "output_type": "stream",
     "text": [
      "\n"
     ]
    },
    {
     "name": "stdout",
     "output_type": "stream",
     "text": [
      "\n",
      "      Epoch    GPU_mem   box_loss   cls_loss   dfl_loss  Instances       Size\n"
     ]
    },
    {
     "name": "stderr",
     "output_type": "stream",
     "text": [
      "      4/100      2.01G        1.7      2.077      1.194        392        416: 100%|██████████| 14/14 [00:01<00:00,\n",
      "                 Class     Images  Instances      Box(P          R      mAP50  mAP50-95): 100%|██████████| 2/2 [00:"
     ]
    },
    {
     "name": "stdout",
     "output_type": "stream",
     "text": [
      "                   all        127        909      0.441      0.176      0.241      0.122\n"
     ]
    },
    {
     "name": "stderr",
     "output_type": "stream",
     "text": [
      "\n"
     ]
    },
    {
     "name": "stdout",
     "output_type": "stream",
     "text": [
      "\n",
      "      Epoch    GPU_mem   box_loss   cls_loss   dfl_loss  Instances       Size\n"
     ]
    },
    {
     "name": "stderr",
     "output_type": "stream",
     "text": [
      "      5/100      2.13G      1.652      1.896      1.167        346        416: 100%|██████████| 14/14 [00:01<00:00,\n",
      "                 Class     Images  Instances      Box(P          R      mAP50  mAP50-95): 100%|██████████| 2/2 [00:"
     ]
    },
    {
     "name": "stdout",
     "output_type": "stream",
     "text": [
      "                   all        127        909      0.536      0.133      0.289      0.148\n"
     ]
    },
    {
     "name": "stderr",
     "output_type": "stream",
     "text": [
      "\n"
     ]
    },
    {
     "name": "stdout",
     "output_type": "stream",
     "text": [
      "\n",
      "      Epoch    GPU_mem   box_loss   cls_loss   dfl_loss  Instances       Size\n"
     ]
    },
    {
     "name": "stderr",
     "output_type": "stream",
     "text": [
      "      6/100       2.1G      1.626      1.794       1.17        404        416: 100%|██████████| 14/14 [00:01<00:00,\n",
      "                 Class     Images  Instances      Box(P          R      mAP50  mAP50-95): 100%|██████████| 2/2 [00:"
     ]
    },
    {
     "name": "stdout",
     "output_type": "stream",
     "text": [
      "                   all        127        909      0.516      0.197      0.325       0.17\n"
     ]
    },
    {
     "name": "stderr",
     "output_type": "stream",
     "text": [
      "\n"
     ]
    },
    {
     "name": "stdout",
     "output_type": "stream",
     "text": [
      "\n",
      "      Epoch    GPU_mem   box_loss   cls_loss   dfl_loss  Instances       Size\n"
     ]
    },
    {
     "name": "stderr",
     "output_type": "stream",
     "text": [
      "      7/100      1.99G      1.594      1.689      1.173        472        416: 100%|██████████| 14/14 [00:01<00:00,\n",
      "                 Class     Images  Instances      Box(P          R      mAP50  mAP50-95): 100%|██████████| 2/2 [00:"
     ]
    },
    {
     "name": "stdout",
     "output_type": "stream",
     "text": [
      "                   all        127        909      0.399      0.255      0.271      0.141\n"
     ]
    },
    {
     "name": "stderr",
     "output_type": "stream",
     "text": [
      "\n"
     ]
    },
    {
     "name": "stdout",
     "output_type": "stream",
     "text": [
      "\n",
      "      Epoch    GPU_mem   box_loss   cls_loss   dfl_loss  Instances       Size\n"
     ]
    },
    {
     "name": "stderr",
     "output_type": "stream",
     "text": [
      "      8/100      1.99G      1.652      1.649      1.194        415        416: 100%|██████████| 14/14 [00:01<00:00,\n",
      "                 Class     Images  Instances      Box(P          R      mAP50  mAP50-95): 100%|██████████| 2/2 [00:"
     ]
    },
    {
     "name": "stdout",
     "output_type": "stream",
     "text": [
      "                   all        127        909      0.423      0.398      0.385      0.203\n"
     ]
    },
    {
     "name": "stderr",
     "output_type": "stream",
     "text": [
      "\n"
     ]
    },
    {
     "name": "stdout",
     "output_type": "stream",
     "text": [
      "\n",
      "      Epoch    GPU_mem   box_loss   cls_loss   dfl_loss  Instances       Size\n"
     ]
    },
    {
     "name": "stderr",
     "output_type": "stream",
     "text": [
      "      9/100      2.25G      1.613      1.591      1.177        339        416: 100%|██████████| 14/14 [00:01<00:00,\n",
      "                 Class     Images  Instances      Box(P          R      mAP50  mAP50-95): 100%|██████████| 2/2 [00:"
     ]
    },
    {
     "name": "stdout",
     "output_type": "stream",
     "text": [
      "                   all        127        909      0.511       0.41      0.397      0.205\n"
     ]
    },
    {
     "name": "stderr",
     "output_type": "stream",
     "text": [
      "\n"
     ]
    },
    {
     "name": "stdout",
     "output_type": "stream",
     "text": [
      "\n",
      "      Epoch    GPU_mem   box_loss   cls_loss   dfl_loss  Instances       Size\n"
     ]
    },
    {
     "name": "stderr",
     "output_type": "stream",
     "text": [
      "     10/100      2.15G      1.583      1.536      1.174        423        416: 100%|██████████| 14/14 [00:01<00:00,\n",
      "                 Class     Images  Instances      Box(P          R      mAP50  mAP50-95): 100%|██████████| 2/2 [00:"
     ]
    },
    {
     "name": "stdout",
     "output_type": "stream",
     "text": [
      "                   all        127        909      0.616      0.438      0.436       0.23\n"
     ]
    },
    {
     "name": "stderr",
     "output_type": "stream",
     "text": [
      "\n"
     ]
    },
    {
     "name": "stdout",
     "output_type": "stream",
     "text": [
      "\n",
      "      Epoch    GPU_mem   box_loss   cls_loss   dfl_loss  Instances       Size\n"
     ]
    },
    {
     "name": "stderr",
     "output_type": "stream",
     "text": [
      "     11/100      2.16G      1.583      1.477      1.163        485        416: 100%|██████████| 14/14 [00:01<00:00,\n",
      "                 Class     Images  Instances      Box(P          R      mAP50  mAP50-95): 100%|██████████| 2/2 [00:"
     ]
    },
    {
     "name": "stdout",
     "output_type": "stream",
     "text": [
      "                   all        127        909      0.501      0.465      0.458      0.249\n"
     ]
    },
    {
     "name": "stderr",
     "output_type": "stream",
     "text": [
      "\n"
     ]
    },
    {
     "name": "stdout",
     "output_type": "stream",
     "text": [
      "\n",
      "      Epoch    GPU_mem   box_loss   cls_loss   dfl_loss  Instances       Size\n"
     ]
    },
    {
     "name": "stderr",
     "output_type": "stream",
     "text": [
      "     12/100      2.09G      1.515      1.433      1.152        248        416: 100%|██████████| 14/14 [00:01<00:00,\n",
      "                 Class     Images  Instances      Box(P          R      mAP50  mAP50-95): 100%|██████████| 2/2 [00:"
     ]
    },
    {
     "name": "stdout",
     "output_type": "stream",
     "text": [
      "                   all        127        909      0.508      0.461      0.467      0.245\n"
     ]
    },
    {
     "name": "stderr",
     "output_type": "stream",
     "text": [
      "\n"
     ]
    },
    {
     "name": "stdout",
     "output_type": "stream",
     "text": [
      "\n",
      "      Epoch    GPU_mem   box_loss   cls_loss   dfl_loss  Instances       Size\n"
     ]
    },
    {
     "name": "stderr",
     "output_type": "stream",
     "text": [
      "     13/100         2G      1.536      1.385      1.159        360        416: 100%|██████████| 14/14 [00:01<00:00,\n",
      "                 Class     Images  Instances      Box(P          R      mAP50  mAP50-95): 100%|██████████| 2/2 [00:"
     ]
    },
    {
     "name": "stdout",
     "output_type": "stream",
     "text": [
      "                   all        127        909      0.601      0.521      0.533      0.281\n"
     ]
    },
    {
     "name": "stderr",
     "output_type": "stream",
     "text": [
      "\n"
     ]
    },
    {
     "name": "stdout",
     "output_type": "stream",
     "text": [
      "\n",
      "      Epoch    GPU_mem   box_loss   cls_loss   dfl_loss  Instances       Size\n"
     ]
    },
    {
     "name": "stderr",
     "output_type": "stream",
     "text": [
      "     14/100      2.14G      1.546      1.348      1.143        425        416: 100%|██████████| 14/14 [00:01<00:00,\n",
      "                 Class     Images  Instances      Box(P          R      mAP50  mAP50-95): 100%|██████████| 2/2 [00:"
     ]
    },
    {
     "name": "stdout",
     "output_type": "stream",
     "text": [
      "                   all        127        909      0.546      0.526      0.517      0.272\n"
     ]
    },
    {
     "name": "stderr",
     "output_type": "stream",
     "text": [
      "\n"
     ]
    },
    {
     "name": "stdout",
     "output_type": "stream",
     "text": [
      "\n",
      "      Epoch    GPU_mem   box_loss   cls_loss   dfl_loss  Instances       Size\n"
     ]
    },
    {
     "name": "stderr",
     "output_type": "stream",
     "text": [
      "     15/100      2.36G      1.508      1.319      1.129        326        416: 100%|██████████| 14/14 [00:01<00:00,\n",
      "                 Class     Images  Instances      Box(P          R      mAP50  mAP50-95): 100%|██████████| 2/2 [00:"
     ]
    },
    {
     "name": "stdout",
     "output_type": "stream",
     "text": [
      "                   all        127        909      0.626      0.507      0.556      0.299\n"
     ]
    },
    {
     "name": "stderr",
     "output_type": "stream",
     "text": [
      "\n"
     ]
    },
    {
     "name": "stdout",
     "output_type": "stream",
     "text": [
      "\n",
      "      Epoch    GPU_mem   box_loss   cls_loss   dfl_loss  Instances       Size\n"
     ]
    },
    {
     "name": "stderr",
     "output_type": "stream",
     "text": [
      "     16/100      2.27G      1.494      1.287       1.13        446        416: 100%|██████████| 14/14 [00:01<00:00,\n",
      "                 Class     Images  Instances      Box(P          R      mAP50  mAP50-95): 100%|██████████| 2/2 [00:"
     ]
    },
    {
     "name": "stdout",
     "output_type": "stream",
     "text": [
      "                   all        127        909       0.61      0.497      0.539      0.293\n"
     ]
    },
    {
     "name": "stderr",
     "output_type": "stream",
     "text": [
      "\n"
     ]
    },
    {
     "name": "stdout",
     "output_type": "stream",
     "text": [
      "\n",
      "      Epoch    GPU_mem   box_loss   cls_loss   dfl_loss  Instances       Size\n"
     ]
    },
    {
     "name": "stderr",
     "output_type": "stream",
     "text": [
      "     17/100      2.21G      1.503      1.286      1.133        492        416: 100%|██████████| 14/14 [00:01<00:00,\n",
      "                 Class     Images  Instances      Box(P          R      mAP50  mAP50-95): 100%|██████████| 2/2 [00:"
     ]
    },
    {
     "name": "stdout",
     "output_type": "stream",
     "text": [
      "                   all        127        909      0.595      0.533      0.557      0.311\n"
     ]
    },
    {
     "name": "stderr",
     "output_type": "stream",
     "text": [
      "\n"
     ]
    },
    {
     "name": "stdout",
     "output_type": "stream",
     "text": [
      "\n",
      "      Epoch    GPU_mem   box_loss   cls_loss   dfl_loss  Instances       Size\n"
     ]
    },
    {
     "name": "stderr",
     "output_type": "stream",
     "text": [
      "     18/100      2.19G      1.458      1.248      1.113        355        416: 100%|██████████| 14/14 [00:01<00:00,\n",
      "                 Class     Images  Instances      Box(P          R      mAP50  mAP50-95): 100%|██████████| 2/2 [00:"
     ]
    },
    {
     "name": "stdout",
     "output_type": "stream",
     "text": [
      "                   all        127        909      0.604      0.517      0.562      0.308\n"
     ]
    },
    {
     "name": "stderr",
     "output_type": "stream",
     "text": [
      "\n"
     ]
    },
    {
     "name": "stdout",
     "output_type": "stream",
     "text": [
      "\n",
      "      Epoch    GPU_mem   box_loss   cls_loss   dfl_loss  Instances       Size\n"
     ]
    },
    {
     "name": "stderr",
     "output_type": "stream",
     "text": [
      "     19/100      2.06G      1.451      1.209      1.124        341        416: 100%|██████████| 14/14 [00:01<00:00,\n",
      "                 Class     Images  Instances      Box(P          R      mAP50  mAP50-95): 100%|██████████| 2/2 [00:"
     ]
    },
    {
     "name": "stdout",
     "output_type": "stream",
     "text": [
      "                   all        127        909      0.567      0.521      0.552      0.307\n"
     ]
    },
    {
     "name": "stderr",
     "output_type": "stream",
     "text": [
      "\n"
     ]
    },
    {
     "name": "stdout",
     "output_type": "stream",
     "text": [
      "\n",
      "      Epoch    GPU_mem   box_loss   cls_loss   dfl_loss  Instances       Size\n"
     ]
    },
    {
     "name": "stderr",
     "output_type": "stream",
     "text": [
      "     20/100         2G      1.475      1.231      1.124        405        416: 100%|██████████| 14/14 [00:01<00:00,\n",
      "                 Class     Images  Instances      Box(P          R      mAP50  mAP50-95): 100%|██████████| 2/2 [00:"
     ]
    },
    {
     "name": "stdout",
     "output_type": "stream",
     "text": [
      "                   all        127        909      0.569      0.514      0.534      0.286\n"
     ]
    },
    {
     "name": "stderr",
     "output_type": "stream",
     "text": [
      "\n"
     ]
    },
    {
     "name": "stdout",
     "output_type": "stream",
     "text": [
      "\n",
      "      Epoch    GPU_mem   box_loss   cls_loss   dfl_loss  Instances       Size\n"
     ]
    },
    {
     "name": "stderr",
     "output_type": "stream",
     "text": [
      "     21/100      2.21G      1.435       1.21      1.112        508        416: 100%|██████████| 14/14 [00:01<00:00,\n",
      "                 Class     Images  Instances      Box(P          R      mAP50  mAP50-95): 100%|██████████| 2/2 [00:"
     ]
    },
    {
     "name": "stdout",
     "output_type": "stream",
     "text": [
      "                   all        127        909      0.707      0.564      0.603      0.329\n"
     ]
    },
    {
     "name": "stderr",
     "output_type": "stream",
     "text": [
      "\n"
     ]
    },
    {
     "name": "stdout",
     "output_type": "stream",
     "text": [
      "\n",
      "      Epoch    GPU_mem   box_loss   cls_loss   dfl_loss  Instances       Size\n"
     ]
    },
    {
     "name": "stderr",
     "output_type": "stream",
     "text": [
      "     22/100      2.18G      1.424       1.17      1.103        393        416: 100%|██████████| 14/14 [00:01<00:00,\n",
      "                 Class     Images  Instances      Box(P          R      mAP50  mAP50-95): 100%|██████████| 2/2 [00:"
     ]
    },
    {
     "name": "stdout",
     "output_type": "stream",
     "text": [
      "                   all        127        909      0.702      0.554      0.626       0.32\n"
     ]
    },
    {
     "name": "stderr",
     "output_type": "stream",
     "text": [
      "\n"
     ]
    },
    {
     "name": "stdout",
     "output_type": "stream",
     "text": [
      "\n",
      "      Epoch    GPU_mem   box_loss   cls_loss   dfl_loss  Instances       Size\n"
     ]
    },
    {
     "name": "stderr",
     "output_type": "stream",
     "text": [
      "     23/100      2.09G      1.434      1.165      1.112        277        416: 100%|██████████| 14/14 [00:01<00:00,\n",
      "                 Class     Images  Instances      Box(P          R      mAP50  mAP50-95): 100%|██████████| 2/2 [00:"
     ]
    },
    {
     "name": "stdout",
     "output_type": "stream",
     "text": [
      "                   all        127        909      0.629      0.576       0.61      0.334\n"
     ]
    },
    {
     "name": "stderr",
     "output_type": "stream",
     "text": [
      "\n"
     ]
    },
    {
     "name": "stdout",
     "output_type": "stream",
     "text": [
      "\n",
      "      Epoch    GPU_mem   box_loss   cls_loss   dfl_loss  Instances       Size\n"
     ]
    },
    {
     "name": "stderr",
     "output_type": "stream",
     "text": [
      "     24/100      2.12G      1.416      1.137      1.089        416        416: 100%|██████████| 14/14 [00:01<00:00,\n",
      "                 Class     Images  Instances      Box(P          R      mAP50  mAP50-95): 100%|██████████| 2/2 [00:"
     ]
    },
    {
     "name": "stdout",
     "output_type": "stream",
     "text": [
      "                   all        127        909      0.583      0.564       0.57      0.306\n"
     ]
    },
    {
     "name": "stderr",
     "output_type": "stream",
     "text": [
      "\n"
     ]
    },
    {
     "name": "stdout",
     "output_type": "stream",
     "text": [
      "\n",
      "      Epoch    GPU_mem   box_loss   cls_loss   dfl_loss  Instances       Size\n"
     ]
    },
    {
     "name": "stderr",
     "output_type": "stream",
     "text": [
      "     25/100      2.06G      1.437      1.143      1.096        437        416: 100%|██████████| 14/14 [00:01<00:00,\n",
      "                 Class     Images  Instances      Box(P          R      mAP50  mAP50-95): 100%|██████████| 2/2 [00:"
     ]
    },
    {
     "name": "stdout",
     "output_type": "stream",
     "text": [
      "                   all        127        909      0.633       0.63      0.631      0.336\n"
     ]
    },
    {
     "name": "stderr",
     "output_type": "stream",
     "text": [
      "\n"
     ]
    },
    {
     "name": "stdout",
     "output_type": "stream",
     "text": [
      "\n",
      "      Epoch    GPU_mem   box_loss   cls_loss   dfl_loss  Instances       Size\n"
     ]
    },
    {
     "name": "stderr",
     "output_type": "stream",
     "text": [
      "     26/100      2.02G      1.401      1.121      1.095        384        416: 100%|██████████| 14/14 [00:01<00:00,\n",
      "                 Class     Images  Instances      Box(P          R      mAP50  mAP50-95): 100%|██████████| 2/2 [00:"
     ]
    },
    {
     "name": "stdout",
     "output_type": "stream",
     "text": [
      "                   all        127        909      0.718      0.562      0.632      0.351\n"
     ]
    },
    {
     "name": "stderr",
     "output_type": "stream",
     "text": [
      "\n"
     ]
    },
    {
     "name": "stdout",
     "output_type": "stream",
     "text": [
      "\n",
      "      Epoch    GPU_mem   box_loss   cls_loss   dfl_loss  Instances       Size\n"
     ]
    },
    {
     "name": "stderr",
     "output_type": "stream",
     "text": [
      "     27/100      2.05G      1.411      1.119      1.095        409        416: 100%|██████████| 14/14 [00:01<00:00,\n",
      "                 Class     Images  Instances      Box(P          R      mAP50  mAP50-95): 100%|██████████| 2/2 [00:"
     ]
    },
    {
     "name": "stdout",
     "output_type": "stream",
     "text": [
      "                   all        127        909      0.643      0.596      0.613      0.342\n"
     ]
    },
    {
     "name": "stderr",
     "output_type": "stream",
     "text": [
      "\n"
     ]
    },
    {
     "name": "stdout",
     "output_type": "stream",
     "text": [
      "\n",
      "      Epoch    GPU_mem   box_loss   cls_loss   dfl_loss  Instances       Size\n"
     ]
    },
    {
     "name": "stderr",
     "output_type": "stream",
     "text": [
      "     28/100         2G      1.379      1.104      1.092        394        416: 100%|██████████| 14/14 [00:01<00:00,\n",
      "                 Class     Images  Instances      Box(P          R      mAP50  mAP50-95): 100%|██████████| 2/2 [00:"
     ]
    },
    {
     "name": "stdout",
     "output_type": "stream",
     "text": [
      "                   all        127        909      0.731      0.607       0.65      0.353\n"
     ]
    },
    {
     "name": "stderr",
     "output_type": "stream",
     "text": [
      "\n"
     ]
    },
    {
     "name": "stdout",
     "output_type": "stream",
     "text": [
      "\n",
      "      Epoch    GPU_mem   box_loss   cls_loss   dfl_loss  Instances       Size\n"
     ]
    },
    {
     "name": "stderr",
     "output_type": "stream",
     "text": [
      "     29/100      1.98G      1.377      1.107      1.096        340        416: 100%|██████████| 14/14 [00:01<00:00,\n",
      "                 Class     Images  Instances      Box(P          R      mAP50  mAP50-95): 100%|██████████| 2/2 [00:"
     ]
    },
    {
     "name": "stdout",
     "output_type": "stream",
     "text": [
      "                   all        127        909      0.734      0.593      0.643      0.359\n"
     ]
    },
    {
     "name": "stderr",
     "output_type": "stream",
     "text": [
      "\n"
     ]
    },
    {
     "name": "stdout",
     "output_type": "stream",
     "text": [
      "\n",
      "      Epoch    GPU_mem   box_loss   cls_loss   dfl_loss  Instances       Size\n"
     ]
    },
    {
     "name": "stderr",
     "output_type": "stream",
     "text": [
      "     30/100      2.12G       1.39      1.094      1.089        410        416: 100%|██████████| 14/14 [00:01<00:00,\n",
      "                 Class     Images  Instances      Box(P          R      mAP50  mAP50-95): 100%|██████████| 2/2 [00:"
     ]
    },
    {
     "name": "stdout",
     "output_type": "stream",
     "text": [
      "                   all        127        909      0.686      0.578      0.633      0.343\n"
     ]
    },
    {
     "name": "stderr",
     "output_type": "stream",
     "text": [
      "\n"
     ]
    },
    {
     "name": "stdout",
     "output_type": "stream",
     "text": [
      "\n",
      "      Epoch    GPU_mem   box_loss   cls_loss   dfl_loss  Instances       Size\n"
     ]
    },
    {
     "name": "stderr",
     "output_type": "stream",
     "text": [
      "     31/100      2.13G      1.372      1.083       1.09        320        416: 100%|██████████| 14/14 [00:01<00:00,\n",
      "                 Class     Images  Instances      Box(P          R      mAP50  mAP50-95): 100%|██████████| 2/2 [00:"
     ]
    },
    {
     "name": "stdout",
     "output_type": "stream",
     "text": [
      "                   all        127        909      0.657      0.583      0.625       0.34\n"
     ]
    },
    {
     "name": "stderr",
     "output_type": "stream",
     "text": [
      "\n"
     ]
    },
    {
     "name": "stdout",
     "output_type": "stream",
     "text": [
      "\n",
      "      Epoch    GPU_mem   box_loss   cls_loss   dfl_loss  Instances       Size\n"
     ]
    },
    {
     "name": "stderr",
     "output_type": "stream",
     "text": [
      "     32/100      2.16G      1.368       1.06       1.08        353        416: 100%|██████████| 14/14 [00:01<00:00,\n",
      "                 Class     Images  Instances      Box(P          R      mAP50  mAP50-95): 100%|██████████| 2/2 [00:"
     ]
    },
    {
     "name": "stdout",
     "output_type": "stream",
     "text": [
      "                   all        127        909      0.695      0.547      0.595      0.325\n"
     ]
    },
    {
     "name": "stderr",
     "output_type": "stream",
     "text": [
      "\n"
     ]
    },
    {
     "name": "stdout",
     "output_type": "stream",
     "text": [
      "\n",
      "      Epoch    GPU_mem   box_loss   cls_loss   dfl_loss  Instances       Size\n"
     ]
    },
    {
     "name": "stderr",
     "output_type": "stream",
     "text": [
      "     33/100      2.43G       1.34      1.053      1.072        517        416: 100%|██████████| 14/14 [00:01<00:00,\n",
      "                 Class     Images  Instances      Box(P          R      mAP50  mAP50-95): 100%|██████████| 2/2 [00:"
     ]
    },
    {
     "name": "stdout",
     "output_type": "stream",
     "text": [
      "                   all        127        909      0.714      0.513      0.598      0.338\n"
     ]
    },
    {
     "name": "stderr",
     "output_type": "stream",
     "text": [
      "\n"
     ]
    },
    {
     "name": "stdout",
     "output_type": "stream",
     "text": [
      "\n",
      "      Epoch    GPU_mem   box_loss   cls_loss   dfl_loss  Instances       Size\n"
     ]
    },
    {
     "name": "stderr",
     "output_type": "stream",
     "text": [
      "     34/100      2.13G      1.351      1.011      1.072        394        416: 100%|██████████| 14/14 [00:01<00:00,\n",
      "                 Class     Images  Instances      Box(P          R      mAP50  mAP50-95): 100%|██████████| 2/2 [00:"
     ]
    },
    {
     "name": "stdout",
     "output_type": "stream",
     "text": [
      "                   all        127        909      0.786      0.555      0.656      0.378\n"
     ]
    },
    {
     "name": "stderr",
     "output_type": "stream",
     "text": [
      "\n"
     ]
    },
    {
     "name": "stdout",
     "output_type": "stream",
     "text": [
      "\n",
      "      Epoch    GPU_mem   box_loss   cls_loss   dfl_loss  Instances       Size\n"
     ]
    },
    {
     "name": "stderr",
     "output_type": "stream",
     "text": [
      "     35/100      2.19G      1.342      1.017      1.062        375        416: 100%|██████████| 14/14 [00:01<00:00,\n",
      "                 Class     Images  Instances      Box(P          R      mAP50  mAP50-95): 100%|██████████| 2/2 [00:"
     ]
    },
    {
     "name": "stdout",
     "output_type": "stream",
     "text": [
      "                   all        127        909      0.718      0.594      0.648      0.364\n"
     ]
    },
    {
     "name": "stderr",
     "output_type": "stream",
     "text": [
      "\n"
     ]
    },
    {
     "name": "stdout",
     "output_type": "stream",
     "text": [
      "\n",
      "      Epoch    GPU_mem   box_loss   cls_loss   dfl_loss  Instances       Size\n"
     ]
    },
    {
     "name": "stderr",
     "output_type": "stream",
     "text": [
      "     36/100      2.38G      1.349      1.019      1.087        494        416: 100%|██████████| 14/14 [00:01<00:00,\n",
      "                 Class     Images  Instances      Box(P          R      mAP50  mAP50-95): 100%|██████████| 2/2 [00:"
     ]
    },
    {
     "name": "stdout",
     "output_type": "stream",
     "text": [
      "                   all        127        909      0.745      0.619      0.674      0.385\n"
     ]
    },
    {
     "name": "stderr",
     "output_type": "stream",
     "text": [
      "\n"
     ]
    },
    {
     "name": "stdout",
     "output_type": "stream",
     "text": [
      "\n",
      "      Epoch    GPU_mem   box_loss   cls_loss   dfl_loss  Instances       Size\n"
     ]
    },
    {
     "name": "stderr",
     "output_type": "stream",
     "text": [
      "     37/100      2.06G      1.358      1.015      1.068        349        416: 100%|██████████| 14/14 [00:01<00:00,\n",
      "                 Class     Images  Instances      Box(P          R      mAP50  mAP50-95): 100%|██████████| 2/2 [00:"
     ]
    },
    {
     "name": "stdout",
     "output_type": "stream",
     "text": [
      "                   all        127        909      0.761      0.596      0.665      0.369\n"
     ]
    },
    {
     "name": "stderr",
     "output_type": "stream",
     "text": [
      "\n"
     ]
    },
    {
     "name": "stdout",
     "output_type": "stream",
     "text": [
      "\n",
      "      Epoch    GPU_mem   box_loss   cls_loss   dfl_loss  Instances       Size\n"
     ]
    },
    {
     "name": "stderr",
     "output_type": "stream",
     "text": [
      "     38/100      2.15G      1.321     0.9991      1.069        364        416: 100%|██████████| 14/14 [00:01<00:00,\n",
      "                 Class     Images  Instances      Box(P          R      mAP50  mAP50-95): 100%|██████████| 2/2 [00:"
     ]
    },
    {
     "name": "stdout",
     "output_type": "stream",
     "text": [
      "                   all        127        909      0.737      0.571      0.658      0.365\n"
     ]
    },
    {
     "name": "stderr",
     "output_type": "stream",
     "text": [
      "\n"
     ]
    },
    {
     "name": "stdout",
     "output_type": "stream",
     "text": [
      "\n",
      "      Epoch    GPU_mem   box_loss   cls_loss   dfl_loss  Instances       Size\n"
     ]
    },
    {
     "name": "stderr",
     "output_type": "stream",
     "text": [
      "     39/100      2.31G      1.333     0.9788      1.055        342        416: 100%|██████████| 14/14 [00:01<00:00,\n",
      "                 Class     Images  Instances      Box(P          R      mAP50  mAP50-95): 100%|██████████| 2/2 [00:"
     ]
    },
    {
     "name": "stdout",
     "output_type": "stream",
     "text": [
      "                   all        127        909       0.76      0.608      0.675      0.376\n"
     ]
    },
    {
     "name": "stderr",
     "output_type": "stream",
     "text": [
      "\n"
     ]
    },
    {
     "name": "stdout",
     "output_type": "stream",
     "text": [
      "\n",
      "      Epoch    GPU_mem   box_loss   cls_loss   dfl_loss  Instances       Size\n"
     ]
    },
    {
     "name": "stderr",
     "output_type": "stream",
     "text": [
      "     40/100      2.06G      1.298     0.9745      1.049        512        416: 100%|██████████| 14/14 [00:01<00:00,\n",
      "                 Class     Images  Instances      Box(P          R      mAP50  mAP50-95): 100%|██████████| 2/2 [00:"
     ]
    },
    {
     "name": "stdout",
     "output_type": "stream",
     "text": [
      "                   all        127        909      0.687      0.606       0.64      0.354\n"
     ]
    },
    {
     "name": "stderr",
     "output_type": "stream",
     "text": [
      "\n"
     ]
    },
    {
     "name": "stdout",
     "output_type": "stream",
     "text": [
      "\n",
      "      Epoch    GPU_mem   box_loss   cls_loss   dfl_loss  Instances       Size\n"
     ]
    },
    {
     "name": "stderr",
     "output_type": "stream",
     "text": [
      "     41/100      2.18G      1.321     0.9639       1.05        346        416: 100%|██████████| 14/14 [00:01<00:00,\n",
      "                 Class     Images  Instances      Box(P          R      mAP50  mAP50-95): 100%|██████████| 2/2 [00:"
     ]
    },
    {
     "name": "stdout",
     "output_type": "stream",
     "text": [
      "                   all        127        909      0.738      0.623       0.68      0.381\n"
     ]
    },
    {
     "name": "stderr",
     "output_type": "stream",
     "text": [
      "\n"
     ]
    },
    {
     "name": "stdout",
     "output_type": "stream",
     "text": [
      "\n",
      "      Epoch    GPU_mem   box_loss   cls_loss   dfl_loss  Instances       Size\n"
     ]
    },
    {
     "name": "stderr",
     "output_type": "stream",
     "text": [
      "     42/100      1.98G      1.295     0.9412      1.047        452        416: 100%|██████████| 14/14 [00:01<00:00,\n",
      "                 Class     Images  Instances      Box(P          R      mAP50  mAP50-95): 100%|██████████| 2/2 [00:"
     ]
    },
    {
     "name": "stdout",
     "output_type": "stream",
     "text": [
      "                   all        127        909      0.764      0.632      0.684      0.383\n"
     ]
    },
    {
     "name": "stderr",
     "output_type": "stream",
     "text": [
      "\n"
     ]
    },
    {
     "name": "stdout",
     "output_type": "stream",
     "text": [
      "\n",
      "      Epoch    GPU_mem   box_loss   cls_loss   dfl_loss  Instances       Size\n"
     ]
    },
    {
     "name": "stderr",
     "output_type": "stream",
     "text": [
      "     43/100       2.1G      1.302     0.9519      1.046        349        416: 100%|██████████| 14/14 [00:01<00:00,\n",
      "                 Class     Images  Instances      Box(P          R      mAP50  mAP50-95): 100%|██████████| 2/2 [00:"
     ]
    },
    {
     "name": "stdout",
     "output_type": "stream",
     "text": [
      "                   all        127        909       0.73      0.627      0.688       0.38\n"
     ]
    },
    {
     "name": "stderr",
     "output_type": "stream",
     "text": [
      "\n"
     ]
    },
    {
     "name": "stdout",
     "output_type": "stream",
     "text": [
      "\n",
      "      Epoch    GPU_mem   box_loss   cls_loss   dfl_loss  Instances       Size\n"
     ]
    },
    {
     "name": "stderr",
     "output_type": "stream",
     "text": [
      "     44/100      2.12G      1.289     0.9508      1.048        305        416: 100%|██████████| 14/14 [00:01<00:00,\n",
      "                 Class     Images  Instances      Box(P          R      mAP50  mAP50-95): 100%|██████████| 2/2 [00:"
     ]
    },
    {
     "name": "stdout",
     "output_type": "stream",
     "text": [
      "                   all        127        909      0.731      0.651      0.698      0.398\n"
     ]
    },
    {
     "name": "stderr",
     "output_type": "stream",
     "text": [
      "\n"
     ]
    },
    {
     "name": "stdout",
     "output_type": "stream",
     "text": [
      "\n",
      "      Epoch    GPU_mem   box_loss   cls_loss   dfl_loss  Instances       Size\n"
     ]
    },
    {
     "name": "stderr",
     "output_type": "stream",
     "text": [
      "     45/100      2.17G      1.304     0.9685      1.057        437        416: 100%|██████████| 14/14 [00:01<00:00,\n",
      "                 Class     Images  Instances      Box(P          R      mAP50  mAP50-95): 100%|██████████| 2/2 [00:"
     ]
    },
    {
     "name": "stdout",
     "output_type": "stream",
     "text": [
      "                   all        127        909       0.67      0.681      0.688      0.386\n"
     ]
    },
    {
     "name": "stderr",
     "output_type": "stream",
     "text": [
      "\n"
     ]
    },
    {
     "name": "stdout",
     "output_type": "stream",
     "text": [
      "\n",
      "      Epoch    GPU_mem   box_loss   cls_loss   dfl_loss  Instances       Size\n"
     ]
    },
    {
     "name": "stderr",
     "output_type": "stream",
     "text": [
      "     46/100      2.15G       1.25     0.9083      1.034        348        416: 100%|██████████| 14/14 [00:01<00:00,\n",
      "                 Class     Images  Instances      Box(P          R      mAP50  mAP50-95): 100%|██████████| 2/2 [00:"
     ]
    },
    {
     "name": "stdout",
     "output_type": "stream",
     "text": [
      "                   all        127        909      0.732      0.632      0.681      0.387\n"
     ]
    },
    {
     "name": "stderr",
     "output_type": "stream",
     "text": [
      "\n"
     ]
    },
    {
     "name": "stdout",
     "output_type": "stream",
     "text": [
      "\n",
      "      Epoch    GPU_mem   box_loss   cls_loss   dfl_loss  Instances       Size\n"
     ]
    },
    {
     "name": "stderr",
     "output_type": "stream",
     "text": [
      "     47/100      1.98G      1.289     0.9382      1.036        479        416: 100%|██████████| 14/14 [00:01<00:00,\n",
      "                 Class     Images  Instances      Box(P          R      mAP50  mAP50-95): 100%|██████████| 2/2 [00:"
     ]
    },
    {
     "name": "stdout",
     "output_type": "stream",
     "text": [
      "                   all        127        909      0.769      0.659      0.704      0.401\n"
     ]
    },
    {
     "name": "stderr",
     "output_type": "stream",
     "text": [
      "\n"
     ]
    },
    {
     "name": "stdout",
     "output_type": "stream",
     "text": [
      "\n",
      "      Epoch    GPU_mem   box_loss   cls_loss   dfl_loss  Instances       Size\n"
     ]
    },
    {
     "name": "stderr",
     "output_type": "stream",
     "text": [
      "     48/100      2.06G      1.251     0.9022      1.045        335        416: 100%|██████████| 14/14 [00:01<00:00,\n",
      "                 Class     Images  Instances      Box(P          R      mAP50  mAP50-95): 100%|██████████| 2/2 [00:"
     ]
    },
    {
     "name": "stdout",
     "output_type": "stream",
     "text": [
      "                   all        127        909      0.697      0.639      0.691      0.392\n"
     ]
    },
    {
     "name": "stderr",
     "output_type": "stream",
     "text": [
      "\n"
     ]
    },
    {
     "name": "stdout",
     "output_type": "stream",
     "text": [
      "\n",
      "      Epoch    GPU_mem   box_loss   cls_loss   dfl_loss  Instances       Size\n"
     ]
    },
    {
     "name": "stderr",
     "output_type": "stream",
     "text": [
      "     49/100      1.98G      1.259     0.9045      1.036        436        416: 100%|██████████| 14/14 [00:01<00:00,\n",
      "                 Class     Images  Instances      Box(P          R      mAP50  mAP50-95): 100%|██████████| 2/2 [00:"
     ]
    },
    {
     "name": "stdout",
     "output_type": "stream",
     "text": [
      "                   all        127        909      0.805      0.649       0.72      0.412\n"
     ]
    },
    {
     "name": "stderr",
     "output_type": "stream",
     "text": [
      "\n"
     ]
    },
    {
     "name": "stdout",
     "output_type": "stream",
     "text": [
      "\n",
      "      Epoch    GPU_mem   box_loss   cls_loss   dfl_loss  Instances       Size\n"
     ]
    },
    {
     "name": "stderr",
     "output_type": "stream",
     "text": [
      "     50/100         2G       1.28     0.8879      1.035        374        416: 100%|██████████| 14/14 [00:01<00:00,\n",
      "                 Class     Images  Instances      Box(P          R      mAP50  mAP50-95): 100%|██████████| 2/2 [00:"
     ]
    },
    {
     "name": "stdout",
     "output_type": "stream",
     "text": [
      "                   all        127        909      0.727      0.659      0.702      0.411\n"
     ]
    },
    {
     "name": "stderr",
     "output_type": "stream",
     "text": [
      "\n"
     ]
    },
    {
     "name": "stdout",
     "output_type": "stream",
     "text": [
      "\n",
      "      Epoch    GPU_mem   box_loss   cls_loss   dfl_loss  Instances       Size\n"
     ]
    },
    {
     "name": "stderr",
     "output_type": "stream",
     "text": [
      "     51/100      2.33G      1.237     0.8818      1.026        451        416: 100%|██████████| 14/14 [00:01<00:00,\n",
      "                 Class     Images  Instances      Box(P          R      mAP50  mAP50-95): 100%|██████████| 2/2 [00:"
     ]
    },
    {
     "name": "stdout",
     "output_type": "stream",
     "text": [
      "                   all        127        909      0.737      0.658      0.691      0.399\n"
     ]
    },
    {
     "name": "stderr",
     "output_type": "stream",
     "text": [
      "\n"
     ]
    },
    {
     "name": "stdout",
     "output_type": "stream",
     "text": [
      "\n",
      "      Epoch    GPU_mem   box_loss   cls_loss   dfl_loss  Instances       Size\n"
     ]
    },
    {
     "name": "stderr",
     "output_type": "stream",
     "text": [
      "     52/100      1.99G      1.254     0.8824       1.03        415        416: 100%|██████████| 14/14 [00:01<00:00,\n",
      "                 Class     Images  Instances      Box(P          R      mAP50  mAP50-95): 100%|██████████| 2/2 [00:"
     ]
    },
    {
     "name": "stdout",
     "output_type": "stream",
     "text": [
      "                   all        127        909      0.794      0.632      0.713      0.405\n"
     ]
    },
    {
     "name": "stderr",
     "output_type": "stream",
     "text": [
      "\n"
     ]
    },
    {
     "name": "stdout",
     "output_type": "stream",
     "text": [
      "\n",
      "      Epoch    GPU_mem   box_loss   cls_loss   dfl_loss  Instances       Size\n"
     ]
    },
    {
     "name": "stderr",
     "output_type": "stream",
     "text": [
      "     53/100      2.38G       1.25     0.8698      1.029        346        416: 100%|██████████| 14/14 [00:01<00:00,\n",
      "                 Class     Images  Instances      Box(P          R      mAP50  mAP50-95): 100%|██████████| 2/2 [00:"
     ]
    },
    {
     "name": "stdout",
     "output_type": "stream",
     "text": [
      "                   all        127        909      0.813      0.618        0.7      0.408\n"
     ]
    },
    {
     "name": "stderr",
     "output_type": "stream",
     "text": [
      "\n"
     ]
    },
    {
     "name": "stdout",
     "output_type": "stream",
     "text": [
      "\n",
      "      Epoch    GPU_mem   box_loss   cls_loss   dfl_loss  Instances       Size\n"
     ]
    },
    {
     "name": "stderr",
     "output_type": "stream",
     "text": [
      "     54/100      2.14G      1.237     0.8529      1.022        329        416: 100%|██████████| 14/14 [00:01<00:00,\n",
      "                 Class     Images  Instances      Box(P          R      mAP50  mAP50-95): 100%|██████████| 2/2 [00:"
     ]
    },
    {
     "name": "stdout",
     "output_type": "stream",
     "text": [
      "                   all        127        909      0.706      0.647      0.692      0.405\n"
     ]
    },
    {
     "name": "stderr",
     "output_type": "stream",
     "text": [
      "\n"
     ]
    },
    {
     "name": "stdout",
     "output_type": "stream",
     "text": [
      "\n",
      "      Epoch    GPU_mem   box_loss   cls_loss   dfl_loss  Instances       Size\n"
     ]
    },
    {
     "name": "stderr",
     "output_type": "stream",
     "text": [
      "     55/100      2.09G      1.237     0.8733       1.03        293        416: 100%|██████████| 14/14 [00:01<00:00,\n",
      "                 Class     Images  Instances      Box(P          R      mAP50  mAP50-95): 100%|██████████| 2/2 [00:"
     ]
    },
    {
     "name": "stdout",
     "output_type": "stream",
     "text": [
      "                   all        127        909      0.768      0.617      0.678      0.395\n"
     ]
    },
    {
     "name": "stderr",
     "output_type": "stream",
     "text": [
      "\n"
     ]
    },
    {
     "name": "stdout",
     "output_type": "stream",
     "text": [
      "\n",
      "      Epoch    GPU_mem   box_loss   cls_loss   dfl_loss  Instances       Size\n"
     ]
    },
    {
     "name": "stderr",
     "output_type": "stream",
     "text": [
      "     56/100      2.25G      1.231     0.8468      1.024        415        416: 100%|██████████| 14/14 [00:01<00:00,\n",
      "                 Class     Images  Instances      Box(P          R      mAP50  mAP50-95): 100%|██████████| 2/2 [00:"
     ]
    },
    {
     "name": "stdout",
     "output_type": "stream",
     "text": [
      "                   all        127        909      0.781      0.623      0.688      0.401\n"
     ]
    },
    {
     "name": "stderr",
     "output_type": "stream",
     "text": [
      "\n"
     ]
    },
    {
     "name": "stdout",
     "output_type": "stream",
     "text": [
      "\n",
      "      Epoch    GPU_mem   box_loss   cls_loss   dfl_loss  Instances       Size\n"
     ]
    },
    {
     "name": "stderr",
     "output_type": "stream",
     "text": [
      "     57/100      2.06G      1.251     0.8537      1.029        374        416: 100%|██████████| 14/14 [00:01<00:00,\n",
      "                 Class     Images  Instances      Box(P          R      mAP50  mAP50-95): 100%|██████████| 2/2 [00:"
     ]
    },
    {
     "name": "stdout",
     "output_type": "stream",
     "text": [
      "                   all        127        909      0.769      0.648      0.691        0.4\n"
     ]
    },
    {
     "name": "stderr",
     "output_type": "stream",
     "text": [
      "\n"
     ]
    },
    {
     "name": "stdout",
     "output_type": "stream",
     "text": [
      "\n",
      "      Epoch    GPU_mem   box_loss   cls_loss   dfl_loss  Instances       Size\n"
     ]
    },
    {
     "name": "stderr",
     "output_type": "stream",
     "text": [
      "     58/100      2.04G      1.258     0.8595       1.02        482        416: 100%|██████████| 14/14 [00:01<00:00,\n",
      "                 Class     Images  Instances      Box(P          R      mAP50  mAP50-95): 100%|██████████| 2/2 [00:"
     ]
    },
    {
     "name": "stdout",
     "output_type": "stream",
     "text": [
      "                   all        127        909       0.76      0.651      0.712      0.408\n"
     ]
    },
    {
     "name": "stderr",
     "output_type": "stream",
     "text": [
      "\n"
     ]
    },
    {
     "name": "stdout",
     "output_type": "stream",
     "text": [
      "\n",
      "      Epoch    GPU_mem   box_loss   cls_loss   dfl_loss  Instances       Size\n"
     ]
    },
    {
     "name": "stderr",
     "output_type": "stream",
     "text": [
      "     59/100      2.03G      1.263     0.8553      1.027        478        416: 100%|██████████| 14/14 [00:01<00:00,\n",
      "                 Class     Images  Instances      Box(P          R      mAP50  mAP50-95): 100%|██████████| 2/2 [00:"
     ]
    },
    {
     "name": "stdout",
     "output_type": "stream",
     "text": [
      "                   all        127        909      0.771      0.647      0.699      0.405\n"
     ]
    },
    {
     "name": "stderr",
     "output_type": "stream",
     "text": [
      "\n"
     ]
    },
    {
     "name": "stdout",
     "output_type": "stream",
     "text": [
      "\n",
      "      Epoch    GPU_mem   box_loss   cls_loss   dfl_loss  Instances       Size\n"
     ]
    },
    {
     "name": "stderr",
     "output_type": "stream",
     "text": [
      "     60/100      2.26G      1.243     0.8475       1.03        447        416: 100%|██████████| 14/14 [00:01<00:00,\n",
      "                 Class     Images  Instances      Box(P          R      mAP50  mAP50-95): 100%|██████████| 2/2 [00:"
     ]
    },
    {
     "name": "stdout",
     "output_type": "stream",
     "text": [
      "                   all        127        909      0.776      0.658      0.707      0.405\n"
     ]
    },
    {
     "name": "stderr",
     "output_type": "stream",
     "text": [
      "\n"
     ]
    },
    {
     "name": "stdout",
     "output_type": "stream",
     "text": [
      "\n",
      "      Epoch    GPU_mem   box_loss   cls_loss   dfl_loss  Instances       Size\n"
     ]
    },
    {
     "name": "stderr",
     "output_type": "stream",
     "text": [
      "     61/100      2.04G      1.213     0.8143      1.017        337        416: 100%|██████████| 14/14 [00:01<00:00,\n",
      "                 Class     Images  Instances      Box(P          R      mAP50  mAP50-95): 100%|██████████| 2/2 [00:"
     ]
    },
    {
     "name": "stdout",
     "output_type": "stream",
     "text": [
      "                   all        127        909      0.768      0.658      0.692      0.404\n"
     ]
    },
    {
     "name": "stderr",
     "output_type": "stream",
     "text": [
      "\n"
     ]
    },
    {
     "name": "stdout",
     "output_type": "stream",
     "text": [
      "\n",
      "      Epoch    GPU_mem   box_loss   cls_loss   dfl_loss  Instances       Size\n"
     ]
    },
    {
     "name": "stderr",
     "output_type": "stream",
     "text": [
      "     62/100       2.2G      1.217     0.8237      1.024        382        416: 100%|██████████| 14/14 [00:01<00:00,\n",
      "                 Class     Images  Instances      Box(P          R      mAP50  mAP50-95): 100%|██████████| 2/2 [00:"
     ]
    },
    {
     "name": "stdout",
     "output_type": "stream",
     "text": [
      "                   all        127        909      0.795      0.621      0.695       0.41\n"
     ]
    },
    {
     "name": "stderr",
     "output_type": "stream",
     "text": [
      "\n"
     ]
    },
    {
     "name": "stdout",
     "output_type": "stream",
     "text": [
      "\n",
      "      Epoch    GPU_mem   box_loss   cls_loss   dfl_loss  Instances       Size\n"
     ]
    },
    {
     "name": "stderr",
     "output_type": "stream",
     "text": [
      "     63/100      2.08G      1.178     0.8059      1.014        290        416: 100%|██████████| 14/14 [00:01<00:00,\n",
      "                 Class     Images  Instances      Box(P          R      mAP50  mAP50-95): 100%|██████████| 2/2 [00:"
     ]
    },
    {
     "name": "stdout",
     "output_type": "stream",
     "text": [
      "                   all        127        909      0.816      0.628      0.707      0.421\n"
     ]
    },
    {
     "name": "stderr",
     "output_type": "stream",
     "text": [
      "\n"
     ]
    },
    {
     "name": "stdout",
     "output_type": "stream",
     "text": [
      "\n",
      "      Epoch    GPU_mem   box_loss   cls_loss   dfl_loss  Instances       Size\n"
     ]
    },
    {
     "name": "stderr",
     "output_type": "stream",
     "text": [
      "     64/100      2.11G      1.183     0.8025      1.009        432        416: 100%|██████████| 14/14 [00:01<00:00,\n",
      "                 Class     Images  Instances      Box(P          R      mAP50  mAP50-95): 100%|██████████| 2/2 [00:"
     ]
    },
    {
     "name": "stdout",
     "output_type": "stream",
     "text": [
      "                   all        127        909       0.75      0.663      0.713      0.419\n"
     ]
    },
    {
     "name": "stderr",
     "output_type": "stream",
     "text": [
      "\n"
     ]
    },
    {
     "name": "stdout",
     "output_type": "stream",
     "text": [
      "\n",
      "      Epoch    GPU_mem   box_loss   cls_loss   dfl_loss  Instances       Size\n"
     ]
    },
    {
     "name": "stderr",
     "output_type": "stream",
     "text": [
      "     65/100      2.12G      1.207     0.8206      1.013        408        416: 100%|██████████| 14/14 [00:01<00:00,\n",
      "                 Class     Images  Instances      Box(P          R      mAP50  mAP50-95): 100%|██████████| 2/2 [00:"
     ]
    },
    {
     "name": "stdout",
     "output_type": "stream",
     "text": [
      "                   all        127        909      0.789      0.653      0.719      0.418\n"
     ]
    },
    {
     "name": "stderr",
     "output_type": "stream",
     "text": [
      "\n"
     ]
    },
    {
     "name": "stdout",
     "output_type": "stream",
     "text": [
      "\n",
      "      Epoch    GPU_mem   box_loss   cls_loss   dfl_loss  Instances       Size\n"
     ]
    },
    {
     "name": "stderr",
     "output_type": "stream",
     "text": [
      "     66/100      2.32G      1.186     0.8036       1.01        378        416: 100%|██████████| 14/14 [00:01<00:00,\n",
      "                 Class     Images  Instances      Box(P          R      mAP50  mAP50-95): 100%|██████████| 2/2 [00:"
     ]
    },
    {
     "name": "stdout",
     "output_type": "stream",
     "text": [
      "                   all        127        909      0.752      0.651        0.7      0.409\n"
     ]
    },
    {
     "name": "stderr",
     "output_type": "stream",
     "text": [
      "\n"
     ]
    },
    {
     "name": "stdout",
     "output_type": "stream",
     "text": [
      "\n",
      "      Epoch    GPU_mem   box_loss   cls_loss   dfl_loss  Instances       Size\n"
     ]
    },
    {
     "name": "stderr",
     "output_type": "stream",
     "text": [
      "     67/100         2G      1.178     0.8032      1.004        468        416: 100%|██████████| 14/14 [00:01<00:00,\n",
      "                 Class     Images  Instances      Box(P          R      mAP50  mAP50-95): 100%|██████████| 2/2 [00:"
     ]
    },
    {
     "name": "stdout",
     "output_type": "stream",
     "text": [
      "                   all        127        909      0.778      0.637        0.7      0.407\n"
     ]
    },
    {
     "name": "stderr",
     "output_type": "stream",
     "text": [
      "\n"
     ]
    },
    {
     "name": "stdout",
     "output_type": "stream",
     "text": [
      "\n",
      "      Epoch    GPU_mem   box_loss   cls_loss   dfl_loss  Instances       Size\n"
     ]
    },
    {
     "name": "stderr",
     "output_type": "stream",
     "text": [
      "     68/100      2.21G      1.191     0.7988      1.003        369        416: 100%|██████████| 14/14 [00:01<00:00,\n",
      "                 Class     Images  Instances      Box(P          R      mAP50  mAP50-95): 100%|██████████| 2/2 [00:"
     ]
    },
    {
     "name": "stdout",
     "output_type": "stream",
     "text": [
      "                   all        127        909      0.805       0.62      0.698      0.406\n"
     ]
    },
    {
     "name": "stderr",
     "output_type": "stream",
     "text": [
      "\n"
     ]
    },
    {
     "name": "stdout",
     "output_type": "stream",
     "text": [
      "\n",
      "      Epoch    GPU_mem   box_loss   cls_loss   dfl_loss  Instances       Size\n"
     ]
    },
    {
     "name": "stderr",
     "output_type": "stream",
     "text": [
      "     69/100      2.08G       1.16     0.7801     0.9967        418        416: 100%|██████████| 14/14 [00:01<00:00,\n",
      "                 Class     Images  Instances      Box(P          R      mAP50  mAP50-95): 100%|██████████| 2/2 [00:"
     ]
    },
    {
     "name": "stdout",
     "output_type": "stream",
     "text": [
      "                   all        127        909      0.761      0.648      0.707      0.418\n"
     ]
    },
    {
     "name": "stderr",
     "output_type": "stream",
     "text": [
      "\n"
     ]
    },
    {
     "name": "stdout",
     "output_type": "stream",
     "text": [
      "\n",
      "      Epoch    GPU_mem   box_loss   cls_loss   dfl_loss  Instances       Size\n"
     ]
    },
    {
     "name": "stderr",
     "output_type": "stream",
     "text": [
      "     70/100      2.09G      1.189     0.7942      1.001        367        416: 100%|██████████| 14/14 [00:01<00:00,\n",
      "                 Class     Images  Instances      Box(P          R      mAP50  mAP50-95): 100%|██████████| 2/2 [00:"
     ]
    },
    {
     "name": "stdout",
     "output_type": "stream",
     "text": [
      "                   all        127        909      0.738      0.639      0.705      0.407\n"
     ]
    },
    {
     "name": "stderr",
     "output_type": "stream",
     "text": [
      "\n"
     ]
    },
    {
     "name": "stdout",
     "output_type": "stream",
     "text": [
      "\n",
      "      Epoch    GPU_mem   box_loss   cls_loss   dfl_loss  Instances       Size\n"
     ]
    },
    {
     "name": "stderr",
     "output_type": "stream",
     "text": [
      "     71/100      2.33G      1.147     0.7718     0.9945        355        416: 100%|██████████| 14/14 [00:01<00:00,\n",
      "                 Class     Images  Instances      Box(P          R      mAP50  mAP50-95): 100%|██████████| 2/2 [00:"
     ]
    },
    {
     "name": "stdout",
     "output_type": "stream",
     "text": [
      "                   all        127        909      0.768      0.644      0.711      0.418\n"
     ]
    },
    {
     "name": "stderr",
     "output_type": "stream",
     "text": [
      "\n"
     ]
    },
    {
     "name": "stdout",
     "output_type": "stream",
     "text": [
      "\n",
      "      Epoch    GPU_mem   box_loss   cls_loss   dfl_loss  Instances       Size\n"
     ]
    },
    {
     "name": "stderr",
     "output_type": "stream",
     "text": [
      "     72/100      2.38G      1.164     0.7689     0.9939        488        416: 100%|██████████| 14/14 [00:01<00:00,\n",
      "                 Class     Images  Instances      Box(P          R      mAP50  mAP50-95): 100%|██████████| 2/2 [00:"
     ]
    },
    {
     "name": "stdout",
     "output_type": "stream",
     "text": [
      "                   all        127        909      0.786      0.656      0.723      0.427\n"
     ]
    },
    {
     "name": "stderr",
     "output_type": "stream",
     "text": [
      "\n"
     ]
    },
    {
     "name": "stdout",
     "output_type": "stream",
     "text": [
      "\n",
      "      Epoch    GPU_mem   box_loss   cls_loss   dfl_loss  Instances       Size\n"
     ]
    },
    {
     "name": "stderr",
     "output_type": "stream",
     "text": [
      "     73/100      2.02G      1.168     0.7764     0.9958        384        416: 100%|██████████| 14/14 [00:01<00:00,\n",
      "                 Class     Images  Instances      Box(P          R      mAP50  mAP50-95): 100%|██████████| 2/2 [00:"
     ]
    },
    {
     "name": "stdout",
     "output_type": "stream",
     "text": [
      "                   all        127        909      0.742      0.678      0.719      0.427\n"
     ]
    },
    {
     "name": "stderr",
     "output_type": "stream",
     "text": [
      "\n"
     ]
    },
    {
     "name": "stdout",
     "output_type": "stream",
     "text": [
      "\n",
      "      Epoch    GPU_mem   box_loss   cls_loss   dfl_loss  Instances       Size\n"
     ]
    },
    {
     "name": "stderr",
     "output_type": "stream",
     "text": [
      "     74/100      1.97G      1.144     0.7641     0.9892        412        416: 100%|██████████| 14/14 [00:01<00:00,\n",
      "                 Class     Images  Instances      Box(P          R      mAP50  mAP50-95): 100%|██████████| 2/2 [00:"
     ]
    },
    {
     "name": "stdout",
     "output_type": "stream",
     "text": [
      "                   all        127        909      0.747      0.677      0.726       0.43\n"
     ]
    },
    {
     "name": "stderr",
     "output_type": "stream",
     "text": [
      "\n"
     ]
    },
    {
     "name": "stdout",
     "output_type": "stream",
     "text": [
      "\n",
      "      Epoch    GPU_mem   box_loss   cls_loss   dfl_loss  Instances       Size\n"
     ]
    },
    {
     "name": "stderr",
     "output_type": "stream",
     "text": [
      "     75/100       2.1G      1.149     0.7664     0.9912        406        416: 100%|██████████| 14/14 [00:01<00:00,\n",
      "                 Class     Images  Instances      Box(P          R      mAP50  mAP50-95): 100%|██████████| 2/2 [00:"
     ]
    },
    {
     "name": "stdout",
     "output_type": "stream",
     "text": [
      "                   all        127        909      0.822      0.654      0.728      0.438\n"
     ]
    },
    {
     "name": "stderr",
     "output_type": "stream",
     "text": [
      "\n"
     ]
    },
    {
     "name": "stdout",
     "output_type": "stream",
     "text": [
      "\n",
      "      Epoch    GPU_mem   box_loss   cls_loss   dfl_loss  Instances       Size\n"
     ]
    },
    {
     "name": "stderr",
     "output_type": "stream",
     "text": [
      "     76/100      2.07G      1.159     0.7564     0.9935        457        416: 100%|██████████| 14/14 [00:01<00:00,\n",
      "                 Class     Images  Instances      Box(P          R      mAP50  mAP50-95): 100%|██████████| 2/2 [00:"
     ]
    },
    {
     "name": "stdout",
     "output_type": "stream",
     "text": [
      "                   all        127        909      0.787      0.667      0.726      0.436\n"
     ]
    },
    {
     "name": "stderr",
     "output_type": "stream",
     "text": [
      "\n"
     ]
    },
    {
     "name": "stdout",
     "output_type": "stream",
     "text": [
      "\n",
      "      Epoch    GPU_mem   box_loss   cls_loss   dfl_loss  Instances       Size\n"
     ]
    },
    {
     "name": "stderr",
     "output_type": "stream",
     "text": [
      "     77/100      1.97G      1.155     0.7706     0.9912        435        416: 100%|██████████| 14/14 [00:01<00:00,\n",
      "                 Class     Images  Instances      Box(P          R      mAP50  mAP50-95): 100%|██████████| 2/2 [00:"
     ]
    },
    {
     "name": "stdout",
     "output_type": "stream",
     "text": [
      "                   all        127        909       0.77      0.674      0.729      0.439\n"
     ]
    },
    {
     "name": "stderr",
     "output_type": "stream",
     "text": [
      "\n"
     ]
    },
    {
     "name": "stdout",
     "output_type": "stream",
     "text": [
      "\n",
      "      Epoch    GPU_mem   box_loss   cls_loss   dfl_loss  Instances       Size\n"
     ]
    },
    {
     "name": "stderr",
     "output_type": "stream",
     "text": [
      "     78/100         2G      1.128     0.7392     0.9815        347        416: 100%|██████████| 14/14 [00:01<00:00,\n",
      "                 Class     Images  Instances      Box(P          R      mAP50  mAP50-95): 100%|██████████| 2/2 [00:"
     ]
    },
    {
     "name": "stdout",
     "output_type": "stream",
     "text": [
      "                   all        127        909      0.845      0.632      0.723      0.436\n"
     ]
    },
    {
     "name": "stderr",
     "output_type": "stream",
     "text": [
      "\n"
     ]
    },
    {
     "name": "stdout",
     "output_type": "stream",
     "text": [
      "\n",
      "      Epoch    GPU_mem   box_loss   cls_loss   dfl_loss  Instances       Size\n"
     ]
    },
    {
     "name": "stderr",
     "output_type": "stream",
     "text": [
      "     79/100      2.04G      1.147     0.7464     0.9875        392        416: 100%|██████████| 14/14 [00:01<00:00,\n",
      "                 Class     Images  Instances      Box(P          R      mAP50  mAP50-95): 100%|██████████| 2/2 [00:"
     ]
    },
    {
     "name": "stdout",
     "output_type": "stream",
     "text": [
      "                   all        127        909      0.812      0.654      0.727      0.437\n"
     ]
    },
    {
     "name": "stderr",
     "output_type": "stream",
     "text": [
      "\n"
     ]
    },
    {
     "name": "stdout",
     "output_type": "stream",
     "text": [
      "\n",
      "      Epoch    GPU_mem   box_loss   cls_loss   dfl_loss  Instances       Size\n"
     ]
    },
    {
     "name": "stderr",
     "output_type": "stream",
     "text": [
      "     80/100      2.16G      1.097     0.7426     0.9807        312        416: 100%|██████████| 14/14 [00:01<00:00,\n",
      "                 Class     Images  Instances      Box(P          R      mAP50  mAP50-95): 100%|██████████| 2/2 [00:"
     ]
    },
    {
     "name": "stdout",
     "output_type": "stream",
     "text": [
      "                   all        127        909      0.806      0.671       0.73       0.44\n"
     ]
    },
    {
     "name": "stderr",
     "output_type": "stream",
     "text": [
      "\n"
     ]
    },
    {
     "name": "stdout",
     "output_type": "stream",
     "text": [
      "\n",
      "      Epoch    GPU_mem   box_loss   cls_loss   dfl_loss  Instances       Size\n"
     ]
    },
    {
     "name": "stderr",
     "output_type": "stream",
     "text": [
      "     81/100      2.32G      1.146     0.7621     0.9947        473        416: 100%|██████████| 14/14 [00:01<00:00,\n",
      "                 Class     Images  Instances      Box(P          R      mAP50  mAP50-95): 100%|██████████| 2/2 [00:"
     ]
    },
    {
     "name": "stdout",
     "output_type": "stream",
     "text": [
      "                   all        127        909      0.787      0.668       0.73       0.44\n"
     ]
    },
    {
     "name": "stderr",
     "output_type": "stream",
     "text": [
      "\n"
     ]
    },
    {
     "name": "stdout",
     "output_type": "stream",
     "text": [
      "\n",
      "      Epoch    GPU_mem   box_loss   cls_loss   dfl_loss  Instances       Size\n"
     ]
    },
    {
     "name": "stderr",
     "output_type": "stream",
     "text": [
      "     82/100      2.06G      1.094     0.7205      0.978        435        416: 100%|██████████| 14/14 [00:01<00:00,\n",
      "                 Class     Images  Instances      Box(P          R      mAP50  mAP50-95): 100%|██████████| 2/2 [00:"
     ]
    },
    {
     "name": "stdout",
     "output_type": "stream",
     "text": [
      "                   all        127        909      0.765      0.682      0.725      0.432\n"
     ]
    },
    {
     "name": "stderr",
     "output_type": "stream",
     "text": [
      "\n"
     ]
    },
    {
     "name": "stdout",
     "output_type": "stream",
     "text": [
      "\n",
      "      Epoch    GPU_mem   box_loss   cls_loss   dfl_loss  Instances       Size\n"
     ]
    },
    {
     "name": "stderr",
     "output_type": "stream",
     "text": [
      "     83/100      1.98G      1.103     0.7152      0.983        381        416: 100%|██████████| 14/14 [00:01<00:00,\n",
      "                 Class     Images  Instances      Box(P          R      mAP50  mAP50-95): 100%|██████████| 2/2 [00:"
     ]
    },
    {
     "name": "stdout",
     "output_type": "stream",
     "text": [
      "                   all        127        909      0.784      0.691      0.733      0.436\n"
     ]
    },
    {
     "name": "stderr",
     "output_type": "stream",
     "text": [
      "\n"
     ]
    },
    {
     "name": "stdout",
     "output_type": "stream",
     "text": [
      "\n",
      "      Epoch    GPU_mem   box_loss   cls_loss   dfl_loss  Instances       Size\n"
     ]
    },
    {
     "name": "stderr",
     "output_type": "stream",
     "text": [
      "     84/100      2.14G      1.096     0.7198     0.9715        327        416: 100%|██████████| 14/14 [00:01<00:00,\n",
      "                 Class     Images  Instances      Box(P          R      mAP50  mAP50-95): 100%|██████████| 2/2 [00:"
     ]
    },
    {
     "name": "stdout",
     "output_type": "stream",
     "text": [
      "                   all        127        909      0.815      0.662      0.738      0.435\n"
     ]
    },
    {
     "name": "stderr",
     "output_type": "stream",
     "text": [
      "\n"
     ]
    },
    {
     "name": "stdout",
     "output_type": "stream",
     "text": [
      "\n",
      "      Epoch    GPU_mem   box_loss   cls_loss   dfl_loss  Instances       Size\n"
     ]
    },
    {
     "name": "stderr",
     "output_type": "stream",
     "text": [
      "     85/100      2.06G      1.109     0.7176     0.9829        364        416: 100%|██████████| 14/14 [00:01<00:00,\n",
      "                 Class     Images  Instances      Box(P          R      mAP50  mAP50-95): 100%|██████████| 2/2 [00:"
     ]
    },
    {
     "name": "stdout",
     "output_type": "stream",
     "text": [
      "                   all        127        909      0.821      0.652      0.729      0.431\n"
     ]
    },
    {
     "name": "stderr",
     "output_type": "stream",
     "text": [
      "\n"
     ]
    },
    {
     "name": "stdout",
     "output_type": "stream",
     "text": [
      "\n",
      "      Epoch    GPU_mem   box_loss   cls_loss   dfl_loss  Instances       Size\n"
     ]
    },
    {
     "name": "stderr",
     "output_type": "stream",
     "text": [
      "     86/100      2.17G      1.123     0.7375     0.9799        419        416: 100%|██████████| 14/14 [00:01<00:00,\n",
      "                 Class     Images  Instances      Box(P          R      mAP50  mAP50-95): 100%|██████████| 2/2 [00:"
     ]
    },
    {
     "name": "stdout",
     "output_type": "stream",
     "text": [
      "                   all        127        909      0.824      0.653      0.724      0.428\n"
     ]
    },
    {
     "name": "stderr",
     "output_type": "stream",
     "text": [
      "\n"
     ]
    },
    {
     "name": "stdout",
     "output_type": "stream",
     "text": [
      "\n",
      "      Epoch    GPU_mem   box_loss   cls_loss   dfl_loss  Instances       Size\n"
     ]
    },
    {
     "name": "stderr",
     "output_type": "stream",
     "text": [
      "     87/100      1.95G      1.113     0.7232     0.9803        521        416: 100%|██████████| 14/14 [00:01<00:00,\n",
      "                 Class     Images  Instances      Box(P          R      mAP50  mAP50-95): 100%|██████████| 2/2 [00:"
     ]
    },
    {
     "name": "stdout",
     "output_type": "stream",
     "text": [
      "                   all        127        909      0.809      0.649      0.721      0.427\n"
     ]
    },
    {
     "name": "stderr",
     "output_type": "stream",
     "text": [
      "\n"
     ]
    },
    {
     "name": "stdout",
     "output_type": "stream",
     "text": [
      "\n",
      "      Epoch    GPU_mem   box_loss   cls_loss   dfl_loss  Instances       Size\n"
     ]
    },
    {
     "name": "stderr",
     "output_type": "stream",
     "text": [
      "     88/100      2.13G      1.102     0.7159     0.9718        416        416: 100%|██████████| 14/14 [00:01<00:00,\n",
      "                 Class     Images  Instances      Box(P          R      mAP50  mAP50-95): 100%|██████████| 2/2 [00:"
     ]
    },
    {
     "name": "stdout",
     "output_type": "stream",
     "text": [
      "                   all        127        909      0.788      0.638      0.713      0.421\n"
     ]
    },
    {
     "name": "stderr",
     "output_type": "stream",
     "text": [
      "\n"
     ]
    },
    {
     "name": "stdout",
     "output_type": "stream",
     "text": [
      "\n",
      "      Epoch    GPU_mem   box_loss   cls_loss   dfl_loss  Instances       Size\n"
     ]
    },
    {
     "name": "stderr",
     "output_type": "stream",
     "text": [
      "     89/100      2.17G      1.064     0.7008     0.9712        348        416: 100%|██████████| 14/14 [00:01<00:00,\n",
      "                 Class     Images  Instances      Box(P          R      mAP50  mAP50-95): 100%|██████████| 2/2 [00:"
     ]
    },
    {
     "name": "stdout",
     "output_type": "stream",
     "text": [
      "                   all        127        909      0.801      0.644      0.717      0.425\n"
     ]
    },
    {
     "name": "stderr",
     "output_type": "stream",
     "text": [
      "\n"
     ]
    },
    {
     "name": "stdout",
     "output_type": "stream",
     "text": [
      "\n",
      "      Epoch    GPU_mem   box_loss   cls_loss   dfl_loss  Instances       Size\n"
     ]
    },
    {
     "name": "stderr",
     "output_type": "stream",
     "text": [
      "     90/100      2.04G      1.092     0.7068      0.971        428        416: 100%|██████████| 14/14 [00:01<00:00,\n",
      "                 Class     Images  Instances      Box(P          R      mAP50  mAP50-95): 100%|██████████| 2/2 [00:"
     ]
    },
    {
     "name": "stdout",
     "output_type": "stream",
     "text": [
      "                   all        127        909      0.808      0.647      0.726      0.433\n"
     ]
    },
    {
     "name": "stderr",
     "output_type": "stream",
     "text": [
      "\n"
     ]
    },
    {
     "name": "stdout",
     "output_type": "stream",
     "text": [
      "Closing dataloader mosaic\n",
      "\n",
      "      Epoch    GPU_mem   box_loss   cls_loss   dfl_loss  Instances       Size\n"
     ]
    },
    {
     "name": "stderr",
     "output_type": "stream",
     "text": [
      "     91/100         2G      1.078     0.7503     0.9591        245        416: 100%|██████████| 14/14 [00:01<00:00,\n",
      "                 Class     Images  Instances      Box(P          R      mAP50  mAP50-95): 100%|██████████| 2/2 [00:"
     ]
    },
    {
     "name": "stdout",
     "output_type": "stream",
     "text": [
      "                   all        127        909       0.75      0.665      0.723      0.434\n"
     ]
    },
    {
     "name": "stderr",
     "output_type": "stream",
     "text": [
      "\n"
     ]
    },
    {
     "name": "stdout",
     "output_type": "stream",
     "text": [
      "\n",
      "      Epoch    GPU_mem   box_loss   cls_loss   dfl_loss  Instances       Size\n"
     ]
    },
    {
     "name": "stderr",
     "output_type": "stream",
     "text": [
      "     92/100      2.07G      1.043     0.6857      0.957        233        416: 100%|██████████| 14/14 [00:01<00:00,\n",
      "                 Class     Images  Instances      Box(P          R      mAP50  mAP50-95): 100%|██████████| 2/2 [00:"
     ]
    },
    {
     "name": "stdout",
     "output_type": "stream",
     "text": [
      "                   all        127        909      0.744       0.67      0.722      0.434\n"
     ]
    },
    {
     "name": "stderr",
     "output_type": "stream",
     "text": [
      "\n"
     ]
    },
    {
     "name": "stdout",
     "output_type": "stream",
     "text": [
      "\n",
      "      Epoch    GPU_mem   box_loss   cls_loss   dfl_loss  Instances       Size\n"
     ]
    },
    {
     "name": "stderr",
     "output_type": "stream",
     "text": [
      "     93/100      1.97G      1.025     0.6504     0.9431        154        416: 100%|██████████| 14/14 [00:01<00:00,\n",
      "                 Class     Images  Instances      Box(P          R      mAP50  mAP50-95): 100%|██████████| 2/2 [00:"
     ]
    },
    {
     "name": "stdout",
     "output_type": "stream",
     "text": [
      "                   all        127        909      0.758      0.656      0.717      0.429\n"
     ]
    },
    {
     "name": "stderr",
     "output_type": "stream",
     "text": [
      "\n"
     ]
    },
    {
     "name": "stdout",
     "output_type": "stream",
     "text": [
      "\n",
      "      Epoch    GPU_mem   box_loss   cls_loss   dfl_loss  Instances       Size\n"
     ]
    },
    {
     "name": "stderr",
     "output_type": "stream",
     "text": [
      "     94/100      2.09G      1.042     0.6625     0.9496        273        416: 100%|██████████| 14/14 [00:01<00:00,\n",
      "                 Class     Images  Instances      Box(P          R      mAP50  mAP50-95): 100%|██████████| 2/2 [00:"
     ]
    },
    {
     "name": "stdout",
     "output_type": "stream",
     "text": [
      "                   all        127        909      0.783       0.64      0.713      0.427\n"
     ]
    },
    {
     "name": "stderr",
     "output_type": "stream",
     "text": [
      "\n"
     ]
    },
    {
     "name": "stdout",
     "output_type": "stream",
     "text": [
      "\n",
      "      Epoch    GPU_mem   box_loss   cls_loss   dfl_loss  Instances       Size\n"
     ]
    },
    {
     "name": "stderr",
     "output_type": "stream",
     "text": [
      "     95/100      2.05G      1.035     0.6531     0.9404        210        416: 100%|██████████| 14/14 [00:01<00:00,\n",
      "                 Class     Images  Instances      Box(P          R      mAP50  mAP50-95): 100%|██████████| 2/2 [00:"
     ]
    },
    {
     "name": "stdout",
     "output_type": "stream",
     "text": [
      "                   all        127        909      0.766      0.655      0.713      0.418\n"
     ]
    },
    {
     "name": "stderr",
     "output_type": "stream",
     "text": [
      "\n"
     ]
    },
    {
     "name": "stdout",
     "output_type": "stream",
     "text": [
      "\n",
      "      Epoch    GPU_mem   box_loss   cls_loss   dfl_loss  Instances       Size\n"
     ]
    },
    {
     "name": "stderr",
     "output_type": "stream",
     "text": [
      "     96/100         2G      1.035     0.6474     0.9469        235        416: 100%|██████████| 14/14 [00:01<00:00,\n",
      "                 Class     Images  Instances      Box(P          R      mAP50  mAP50-95): 100%|██████████| 2/2 [00:"
     ]
    },
    {
     "name": "stdout",
     "output_type": "stream",
     "text": [
      "                   all        127        909      0.767      0.675      0.724       0.42\n"
     ]
    },
    {
     "name": "stderr",
     "output_type": "stream",
     "text": [
      "\n"
     ]
    },
    {
     "name": "stdout",
     "output_type": "stream",
     "text": [
      "\n",
      "      Epoch    GPU_mem   box_loss   cls_loss   dfl_loss  Instances       Size\n"
     ]
    },
    {
     "name": "stderr",
     "output_type": "stream",
     "text": [
      "     97/100      2.04G      1.013      0.642     0.9361        202        416: 100%|██████████| 14/14 [00:01<00:00,\n",
      "                 Class     Images  Instances      Box(P          R      mAP50  mAP50-95): 100%|██████████| 2/2 [00:"
     ]
    },
    {
     "name": "stdout",
     "output_type": "stream",
     "text": [
      "                   all        127        909      0.752      0.679      0.726      0.425\n"
     ]
    },
    {
     "name": "stderr",
     "output_type": "stream",
     "text": [
      "\n"
     ]
    },
    {
     "name": "stdout",
     "output_type": "stream",
     "text": [
      "\n",
      "      Epoch    GPU_mem   box_loss   cls_loss   dfl_loss  Instances       Size\n"
     ]
    },
    {
     "name": "stderr",
     "output_type": "stream",
     "text": [
      "     98/100      1.96G     0.9892     0.6372     0.9346        248        416: 100%|██████████| 14/14 [00:01<00:00,\n",
      "                 Class     Images  Instances      Box(P          R      mAP50  mAP50-95): 100%|██████████| 2/2 [00:"
     ]
    },
    {
     "name": "stdout",
     "output_type": "stream",
     "text": [
      "                   all        127        909      0.749      0.675      0.728      0.429\n"
     ]
    },
    {
     "name": "stderr",
     "output_type": "stream",
     "text": [
      "\n"
     ]
    },
    {
     "name": "stdout",
     "output_type": "stream",
     "text": [
      "\n",
      "      Epoch    GPU_mem   box_loss   cls_loss   dfl_loss  Instances       Size\n"
     ]
    },
    {
     "name": "stderr",
     "output_type": "stream",
     "text": [
      "     99/100      1.93G     0.9962     0.6309     0.9341        262        416: 100%|██████████| 14/14 [00:01<00:00,\n",
      "                 Class     Images  Instances      Box(P          R      mAP50  mAP50-95): 100%|██████████| 2/2 [00:"
     ]
    },
    {
     "name": "stdout",
     "output_type": "stream",
     "text": [
      "                   all        127        909      0.758      0.675       0.73      0.427\n"
     ]
    },
    {
     "name": "stderr",
     "output_type": "stream",
     "text": [
      "\n"
     ]
    },
    {
     "name": "stdout",
     "output_type": "stream",
     "text": [
      "\n",
      "      Epoch    GPU_mem   box_loss   cls_loss   dfl_loss  Instances       Size\n"
     ]
    },
    {
     "name": "stderr",
     "output_type": "stream",
     "text": [
      "    100/100      2.05G     0.9904     0.6364     0.9286        122        416: 100%|██████████| 14/14 [00:01<00:00,\n",
      "                 Class     Images  Instances      Box(P          R      mAP50  mAP50-95): 100%|██████████| 2/2 [00:"
     ]
    },
    {
     "name": "stdout",
     "output_type": "stream",
     "text": [
      "                   all        127        909      0.763      0.675      0.725      0.427\n"
     ]
    },
    {
     "name": "stderr",
     "output_type": "stream",
     "text": [
      "\n"
     ]
    },
    {
     "name": "stdout",
     "output_type": "stream",
     "text": [
      "\n",
      "100 epochs completed in 0.073 hours.\n",
      "Optimizer stripped from D:\\Python_Pytorch_Workspace\\Jupyter_Test\\modelresult3\\weights\\last.pt, 6.2MB\n",
      "Optimizer stripped from D:\\Python_Pytorch_Workspace\\Jupyter_Test\\modelresult3\\weights\\best.pt, 6.2MB\n",
      "\n",
      "Validating D:\\Python_Pytorch_Workspace\\Jupyter_Test\\modelresult3\\weights\\best.pt...\n",
      "Ultralytics 8.3.57  Python-3.10.16 torch-2.5.0 CUDA:0 (NVIDIA GeForce RTX 4060 Ti, 8188MiB)\n",
      "Model summary (fused): 168 layers, 3,007,013 parameters, 0 gradients, 8.1 GFLOPs\n"
     ]
    },
    {
     "name": "stderr",
     "output_type": "stream",
     "text": [
      "                 Class     Images  Instances      Box(P          R      mAP50  mAP50-95): 100%|██████████| 2/2 [00:\n"
     ]
    },
    {
     "name": "stdout",
     "output_type": "stream",
     "text": [
      "                   all        127        909      0.799      0.663       0.73       0.44\n",
      "                  fish         63        459       0.83       0.67      0.769      0.398\n",
      "             jellyfish          9        155      0.901      0.865      0.931      0.539\n",
      "               penguin         17        104      0.729      0.635      0.698      0.284\n",
      "                puffin         15         74      0.637      0.473      0.513      0.289\n",
      "                 shark         28         57      0.744      0.579      0.628      0.382\n",
      "              starfish         17         27      0.904      0.696      0.755      0.601\n",
      "              stingray         23         33      0.849      0.727      0.812      0.588\n",
      "Speed: 0.1ms preprocess, 0.5ms inference, 0.0ms loss, 1.3ms postprocess per image\n",
      "Results saved to \u001b[1mD:\\Python_Pytorch_Workspace\\Jupyter_Test\\modelresult3\u001b[0m\n",
      "저장된 경로: D:\\Python_Pytorch_Workspace\\Jupyter_Test\\modelresult3\n"
     ]
    }
   ],
   "source": [
    "import os\n",
    "\n",
    "# YOLOv8 학습 실행\n",
    "results = model.train(\n",
    "    data=r'D:\\Python_Pytorch_Workspace\\Jupyter_Test\\Aquarium_DataSet\\Aquarium_Data.yaml',  # 데이터 경로\n",
    "    epochs=100,\n",
    "    patience=30,\n",
    "    batch=32,\n",
    "    imgsz=416,\n",
    "    project=r'D:\\Python_Pytorch_Workspace\\Jupyter_Test',  # 프로젝트 경로 지정\n",
    "    name='modelresult'  # 실험 이름 지정\n",
    ")\n",
    "# 결과 확인\n",
    "if results is not None and hasattr(results, 'save_dir'):\n",
    "    default_save_path = results.save_dir\n",
    "    print(f\"저장된 경로: {default_save_path}\")\n",
    "else:\n",
    "    # 결과가 None인 경우 기본 경로 확인\n",
    "    default_save_path = os.path.join(r'D:\\Python_Pytorch_Workspace\\Jupyter_Test\\Aqua_Test', 'modelresult')\n",
    "    print(f\"결과 객체가 None이므로 기본 경로를 사용합니다: {default_save_path}\")\n",
    "\n",
    "\n",
    "# 저장된 경로 확인\n",
    "# default_save_path = results.save_dir\n",
    "\n",
    "# # 디렉토리 확인 및 가장 최근 실험 선택\n",
    "# if os.path.exists(default_save_path) and os.listdir(default_save_path):\n",
    "#     experiment_dirs = sorted(os.listdir(default_save_path))\n",
    "#     experiment_name = experiment_dirs[-1]\n",
    "#     experiment_path = os.path.join(default_save_path, experiment_name)\n",
    "#     print(f\"가장 최근 실험 디렉토리 경로: {experiment_path}\")\n",
    "# else:\n",
    "#     print(f\"'{default_save_path}' 경로에 실험 디렉토리가 없습니다.\")\n"
   ]
  },
  {
   "cell_type": "code",
   "execution_count": 16,
   "id": "3c7bc36e",
   "metadata": {},
   "outputs": [
    {
     "name": "stdout",
     "output_type": "stream",
     "text": [
      "<class 'dict'> 7\n",
      "{0: 'fish', 1: 'jellyfish', 2: 'penguin', 3: 'puffin', 4: 'shark', 5: 'starfish', 6: 'stingray'}\n"
     ]
    }
   ],
   "source": [
    "print(type(model.names), len(model.names))\n",
    "print(model.names)"
   ]
  },
  {
   "cell_type": "code",
   "execution_count": 17,
   "id": "3f42d3a1",
   "metadata": {},
   "outputs": [
    {
     "name": "stdout",
     "output_type": "stream",
     "text": [
      "Name: ultralytics\n",
      "Version: 8.3.57\n"
     ]
    },
    {
     "name": "stderr",
     "output_type": "stream",
     "text": [
      "--- Logging error ---\n",
      "Traceback (most recent call last):\n",
      "  File \"D:\\anaconda3\\envs\\pytorch_env\\lib\\site-packages\\pip\\_internal\\utils\\logging.py\", line 177, in emit\n",
      "    self.console.print(renderable, overflow=\"ignore\", crop=False, style=style)\n",
      "  File \"D:\\anaconda3\\envs\\pytorch_env\\lib\\site-packages\\pip\\_vendor\\rich\\console.py\", line 1673, in print\n",
      "    with self:\n",
      "  File \"D:\\anaconda3\\envs\\pytorch_env\\lib\\site-packages\\pip\\_vendor\\rich\\console.py\", line 865, in __exit__\n",
      "    self._exit_buffer()\n",
      "  File \"D:\\anaconda3\\envs\\pytorch_env\\lib\\site-packages\\pip\\_vendor\\rich\\console.py\", line 823, in _exit_buffer\n",
      "    self._check_buffer()\n",
      "  File \"D:\\anaconda3\\envs\\pytorch_env\\lib\\site-packages\\pip\\_vendor\\rich\\console.py\", line 2027, in _check_buffer\n",
      "    legacy_windows_render(buffer, LegacyWindowsTerm(self.file))\n",
      "  File \"D:\\anaconda3\\envs\\pytorch_env\\lib\\site-packages\\pip\\_vendor\\rich\\_windows_renderer.py\", line 19, in legacy_windows_render\n",
      "    term.write_text(text)\n",
      "  File \"D:\\anaconda3\\envs\\pytorch_env\\lib\\site-packages\\pip\\_vendor\\rich\\_win32_console.py\", line 403, in write_text\n",
      "    self.write(text)\n",
      "UnicodeEncodeError: 'cp949' codec can't encode character '\\U0001f680' in position 26: illegal multibyte sequence\n",
      "Call stack:\n",
      "  File \"D:\\anaconda3\\envs\\pytorch_env\\Scripts\\pip-script.py\", line 10, in <module>\n",
      "    sys.exit(main())\n",
      "  File \"D:\\anaconda3\\envs\\pytorch_env\\lib\\site-packages\\pip\\_internal\\cli\\main.py\", line 80, in main\n",
      "    return command.main(cmd_args)\n",
      "  File \"D:\\anaconda3\\envs\\pytorch_env\\lib\\site-packages\\pip\\_internal\\cli\\base_command.py\", line 157, in main\n",
      "    return self._main(args)\n",
      "  File \"D:\\anaconda3\\envs\\pytorch_env\\lib\\site-packages\\pip\\_internal\\cli\\base_command.py\", line 231, in _main\n",
      "    return self._run_wrapper(level_number, options, args)\n",
      "  File \"D:\\anaconda3\\envs\\pytorch_env\\lib\\site-packages\\pip\\_internal\\cli\\base_command.py\", line 105, in _run_wrapper\n",
      "    status = _inner_run()\n",
      "  File \"D:\\anaconda3\\envs\\pytorch_env\\lib\\site-packages\\pip\\_internal\\cli\\base_command.py\", line 96, in _inner_run\n",
      "    return self.run(options, args)\n",
      "  File \"D:\\anaconda3\\envs\\pytorch_env\\lib\\site-packages\\pip\\_internal\\commands\\show.py\", line 46, in run\n",
      "    if not print_results(\n",
      "  File \"D:\\anaconda3\\envs\\pytorch_env\\lib\\site-packages\\pip\\_internal\\commands\\show.py\", line 185, in print_results\n",
      "    write_output(\"Summary: %s\", dist.summary)\n",
      "  File \"D:\\anaconda3\\envs\\pytorch_env\\lib\\site-packages\\pip\\_internal\\utils\\misc.py\", line 379, in write_output\n",
      "    logger.info(msg, *args)\n",
      "  File \"D:\\anaconda3\\envs\\pytorch_env\\lib\\logging\\__init__.py\", line 1477, in info\n",
      "    self._log(INFO, msg, args, **kwargs)\n",
      "  File \"D:\\anaconda3\\envs\\pytorch_env\\lib\\logging\\__init__.py\", line 1624, in _log\n",
      "    self.handle(record)\n",
      "  File \"D:\\anaconda3\\envs\\pytorch_env\\lib\\logging\\__init__.py\", line 1634, in handle\n",
      "    self.callHandlers(record)\n",
      "  File \"D:\\anaconda3\\envs\\pytorch_env\\lib\\logging\\__init__.py\", line 1696, in callHandlers\n",
      "    hdlr.handle(record)\n",
      "  File \"D:\\anaconda3\\envs\\pytorch_env\\lib\\logging\\__init__.py\", line 968, in handle\n",
      "    self.emit(record)\n",
      "  File \"D:\\anaconda3\\envs\\pytorch_env\\lib\\site-packages\\pip\\_internal\\utils\\logging.py\", line 179, in emit\n",
      "    self.handleError(record)\n",
      "Message: 'Summary: %s'\n",
      "Arguments: ('Ultralytics YOLO \\U0001f680 for SOTA object detection, multi-object tracking, instance segmentation, pose estimation and image classification.',)\n",
      "--- Logging error ---\n",
      "Traceback (most recent call last):\n",
      "  File \"D:\\anaconda3\\envs\\pytorch_env\\lib\\site-packages\\pip\\_internal\\utils\\logging.py\", line 177, in emit\n",
      "    self.console.print(renderable, overflow=\"ignore\", crop=False, style=style)\n",
      "  File \"D:\\anaconda3\\envs\\pytorch_env\\lib\\site-packages\\pip\\_vendor\\rich\\console.py\", line 1673, in print\n",
      "    with self:\n",
      "  File \"D:\\anaconda3\\envs\\pytorch_env\\lib\\site-packages\\pip\\_vendor\\rich\\console.py\", line 865, in __exit__\n",
      "    self._exit_buffer()\n",
      "  File \"D:\\anaconda3\\envs\\pytorch_env\\lib\\site-packages\\pip\\_vendor\\rich\\console.py\", line 823, in _exit_buffer\n",
      "    self._check_buffer()\n",
      "  File \"D:\\anaconda3\\envs\\pytorch_env\\lib\\site-packages\\pip\\_vendor\\rich\\console.py\", line 2027, in _check_buffer\n",
      "    legacy_windows_render(buffer, LegacyWindowsTerm(self.file))\n",
      "  File \"D:\\anaconda3\\envs\\pytorch_env\\lib\\site-packages\\pip\\_vendor\\rich\\_windows_renderer.py\", line 19, in legacy_windows_render\n",
      "    term.write_text(text)\n",
      "  File \"D:\\anaconda3\\envs\\pytorch_env\\lib\\site-packages\\pip\\_vendor\\rich\\_win32_console.py\", line 403, in write_text\n",
      "    self.write(text)\n",
      "UnicodeEncodeError: 'cp949' codec can't encode character '\\U0001f680' in position 26: illegal multibyte sequence\n",
      "Call stack:\n",
      "  File \"D:\\anaconda3\\envs\\pytorch_env\\Scripts\\pip-script.py\", line 10, in <module>\n",
      "    sys.exit(main())\n",
      "  File \"D:\\anaconda3\\envs\\pytorch_env\\lib\\site-packages\\pip\\_internal\\cli\\main.py\", line 80, in main\n",
      "    return command.main(cmd_args)\n",
      "  File \"D:\\anaconda3\\envs\\pytorch_env\\lib\\site-packages\\pip\\_internal\\cli\\base_command.py\", line 157, in main\n",
      "    return self._main(args)\n",
      "  File \"D:\\anaconda3\\envs\\pytorch_env\\lib\\site-packages\\pip\\_internal\\cli\\base_command.py\", line 231, in _main\n",
      "    return self._run_wrapper(level_number, options, args)\n",
      "  File \"D:\\anaconda3\\envs\\pytorch_env\\lib\\site-packages\\pip\\_internal\\cli\\base_command.py\", line 105, in _run_wrapper\n",
      "    status = _inner_run()\n",
      "  File \"D:\\anaconda3\\envs\\pytorch_env\\lib\\site-packages\\pip\\_internal\\cli\\base_command.py\", line 96, in _inner_run\n",
      "    return self.run(options, args)\n",
      "  File \"D:\\anaconda3\\envs\\pytorch_env\\lib\\site-packages\\pip\\_internal\\commands\\show.py\", line 46, in run\n",
      "    if not print_results(\n",
      "  File \"D:\\anaconda3\\envs\\pytorch_env\\lib\\site-packages\\pip\\_internal\\commands\\show.py\", line 186, in print_results\n",
      "    write_output(\"Home-page: %s\", dist.homepage)\n",
      "  File \"D:\\anaconda3\\envs\\pytorch_env\\lib\\site-packages\\pip\\_internal\\utils\\misc.py\", line 379, in write_output\n",
      "    logger.info(msg, *args)\n",
      "  File \"D:\\anaconda3\\envs\\pytorch_env\\lib\\logging\\__init__.py\", line 1477, in info\n",
      "    self._log(INFO, msg, args, **kwargs)\n",
      "  File \"D:\\anaconda3\\envs\\pytorch_env\\lib\\logging\\__init__.py\", line 1624, in _log\n",
      "    self.handle(record)\n",
      "  File \"D:\\anaconda3\\envs\\pytorch_env\\lib\\logging\\__init__.py\", line 1634, in handle\n",
      "    self.callHandlers(record)\n",
      "  File \"D:\\anaconda3\\envs\\pytorch_env\\lib\\logging\\__init__.py\", line 1696, in callHandlers\n",
      "    hdlr.handle(record)\n",
      "  File \"D:\\anaconda3\\envs\\pytorch_env\\lib\\logging\\__init__.py\", line 968, in handle\n",
      "    self.emit(record)\n",
      "  File \"D:\\anaconda3\\envs\\pytorch_env\\lib\\site-packages\\pip\\_internal\\utils\\logging.py\", line 179, in emit\n",
      "    self.handleError(record)\n",
      "Message: 'Home-page: %s'\n",
      "Arguments: ('https://ultralytics.com',)\n",
      "--- Logging error ---\n",
      "Traceback (most recent call last):\n",
      "  File \"D:\\anaconda3\\envs\\pytorch_env\\lib\\site-packages\\pip\\_internal\\utils\\logging.py\", line 177, in emit\n",
      "    self.console.print(renderable, overflow=\"ignore\", crop=False, style=style)\n",
      "  File \"D:\\anaconda3\\envs\\pytorch_env\\lib\\site-packages\\pip\\_vendor\\rich\\console.py\", line 1673, in print\n",
      "    with self:\n",
      "  File \"D:\\anaconda3\\envs\\pytorch_env\\lib\\site-packages\\pip\\_vendor\\rich\\console.py\", line 865, in __exit__\n",
      "    self._exit_buffer()\n",
      "  File \"D:\\anaconda3\\envs\\pytorch_env\\lib\\site-packages\\pip\\_vendor\\rich\\console.py\", line 823, in _exit_buffer\n",
      "    self._check_buffer()\n",
      "  File \"D:\\anaconda3\\envs\\pytorch_env\\lib\\site-packages\\pip\\_vendor\\rich\\console.py\", line 2027, in _check_buffer\n",
      "    legacy_windows_render(buffer, LegacyWindowsTerm(self.file))\n",
      "  File \"D:\\anaconda3\\envs\\pytorch_env\\lib\\site-packages\\pip\\_vendor\\rich\\_windows_renderer.py\", line 19, in legacy_windows_render\n",
      "    term.write_text(text)\n",
      "  File \"D:\\anaconda3\\envs\\pytorch_env\\lib\\site-packages\\pip\\_vendor\\rich\\_win32_console.py\", line 403, in write_text\n",
      "    self.write(text)\n",
      "UnicodeEncodeError: 'cp949' codec can't encode character '\\U0001f680' in position 26: illegal multibyte sequence\n",
      "Call stack:\n",
      "  File \"D:\\anaconda3\\envs\\pytorch_env\\Scripts\\pip-script.py\", line 10, in <module>\n",
      "    sys.exit(main())\n",
      "  File \"D:\\anaconda3\\envs\\pytorch_env\\lib\\site-packages\\pip\\_internal\\cli\\main.py\", line 80, in main\n",
      "    return command.main(cmd_args)\n",
      "  File \"D:\\anaconda3\\envs\\pytorch_env\\lib\\site-packages\\pip\\_internal\\cli\\base_command.py\", line 157, in main\n",
      "    return self._main(args)\n",
      "  File \"D:\\anaconda3\\envs\\pytorch_env\\lib\\site-packages\\pip\\_internal\\cli\\base_command.py\", line 231, in _main\n",
      "    return self._run_wrapper(level_number, options, args)\n",
      "  File \"D:\\anaconda3\\envs\\pytorch_env\\lib\\site-packages\\pip\\_internal\\cli\\base_command.py\", line 105, in _run_wrapper\n",
      "    status = _inner_run()\n",
      "  File \"D:\\anaconda3\\envs\\pytorch_env\\lib\\site-packages\\pip\\_internal\\cli\\base_command.py\", line 96, in _inner_run\n",
      "    return self.run(options, args)\n",
      "  File \"D:\\anaconda3\\envs\\pytorch_env\\lib\\site-packages\\pip\\_internal\\commands\\show.py\", line 46, in run\n",
      "    if not print_results(\n",
      "  File \"D:\\anaconda3\\envs\\pytorch_env\\lib\\site-packages\\pip\\_internal\\commands\\show.py\", line 187, in print_results\n",
      "    write_output(\"Author: %s\", dist.author)\n",
      "  File \"D:\\anaconda3\\envs\\pytorch_env\\lib\\site-packages\\pip\\_internal\\utils\\misc.py\", line 379, in write_output\n",
      "    logger.info(msg, *args)\n",
      "  File \"D:\\anaconda3\\envs\\pytorch_env\\lib\\logging\\__init__.py\", line 1477, in info\n",
      "    self._log(INFO, msg, args, **kwargs)\n",
      "  File \"D:\\anaconda3\\envs\\pytorch_env\\lib\\logging\\__init__.py\", line 1624, in _log\n",
      "    self.handle(record)\n",
      "  File \"D:\\anaconda3\\envs\\pytorch_env\\lib\\logging\\__init__.py\", line 1634, in handle\n",
      "    self.callHandlers(record)\n",
      "  File \"D:\\anaconda3\\envs\\pytorch_env\\lib\\logging\\__init__.py\", line 1696, in callHandlers\n",
      "    hdlr.handle(record)\n",
      "  File \"D:\\anaconda3\\envs\\pytorch_env\\lib\\logging\\__init__.py\", line 968, in handle\n",
      "    self.emit(record)\n",
      "  File \"D:\\anaconda3\\envs\\pytorch_env\\lib\\site-packages\\pip\\_internal\\utils\\logging.py\", line 179, in emit\n",
      "    self.handleError(record)\n",
      "Message: 'Author: %s'\n",
      "Arguments: ('',)\n",
      "--- Logging error ---\n",
      "Traceback (most recent call last):\n",
      "  File \"D:\\anaconda3\\envs\\pytorch_env\\lib\\site-packages\\pip\\_internal\\utils\\logging.py\", line 177, in emit\n",
      "    self.console.print(renderable, overflow=\"ignore\", crop=False, style=style)\n",
      "  File \"D:\\anaconda3\\envs\\pytorch_env\\lib\\site-packages\\pip\\_vendor\\rich\\console.py\", line 1673, in print\n",
      "    with self:\n",
      "  File \"D:\\anaconda3\\envs\\pytorch_env\\lib\\site-packages\\pip\\_vendor\\rich\\console.py\", line 865, in __exit__\n",
      "    self._exit_buffer()\n",
      "  File \"D:\\anaconda3\\envs\\pytorch_env\\lib\\site-packages\\pip\\_vendor\\rich\\console.py\", line 823, in _exit_buffer\n",
      "    self._check_buffer()\n",
      "  File \"D:\\anaconda3\\envs\\pytorch_env\\lib\\site-packages\\pip\\_vendor\\rich\\console.py\", line 2027, in _check_buffer\n",
      "    legacy_windows_render(buffer, LegacyWindowsTerm(self.file))\n",
      "  File \"D:\\anaconda3\\envs\\pytorch_env\\lib\\site-packages\\pip\\_vendor\\rich\\_windows_renderer.py\", line 19, in legacy_windows_render\n",
      "    term.write_text(text)\n",
      "  File \"D:\\anaconda3\\envs\\pytorch_env\\lib\\site-packages\\pip\\_vendor\\rich\\_win32_console.py\", line 403, in write_text\n",
      "    self.write(text)\n",
      "UnicodeEncodeError: 'cp949' codec can't encode character '\\U0001f680' in position 26: illegal multibyte sequence\n",
      "Call stack:\n",
      "  File \"D:\\anaconda3\\envs\\pytorch_env\\Scripts\\pip-script.py\", line 10, in <module>\n",
      "    sys.exit(main())\n",
      "  File \"D:\\anaconda3\\envs\\pytorch_env\\lib\\site-packages\\pip\\_internal\\cli\\main.py\", line 80, in main\n",
      "    return command.main(cmd_args)\n",
      "  File \"D:\\anaconda3\\envs\\pytorch_env\\lib\\site-packages\\pip\\_internal\\cli\\base_command.py\", line 157, in main\n",
      "    return self._main(args)\n",
      "  File \"D:\\anaconda3\\envs\\pytorch_env\\lib\\site-packages\\pip\\_internal\\cli\\base_command.py\", line 231, in _main\n",
      "    return self._run_wrapper(level_number, options, args)\n",
      "  File \"D:\\anaconda3\\envs\\pytorch_env\\lib\\site-packages\\pip\\_internal\\cli\\base_command.py\", line 105, in _run_wrapper\n",
      "    status = _inner_run()\n",
      "  File \"D:\\anaconda3\\envs\\pytorch_env\\lib\\site-packages\\pip\\_internal\\cli\\base_command.py\", line 96, in _inner_run\n",
      "    return self.run(options, args)\n",
      "  File \"D:\\anaconda3\\envs\\pytorch_env\\lib\\site-packages\\pip\\_internal\\commands\\show.py\", line 46, in run\n",
      "    if not print_results(\n",
      "  File \"D:\\anaconda3\\envs\\pytorch_env\\lib\\site-packages\\pip\\_internal\\commands\\show.py\", line 188, in print_results\n",
      "    write_output(\"Author-email: %s\", dist.author_email)\n",
      "  File \"D:\\anaconda3\\envs\\pytorch_env\\lib\\site-packages\\pip\\_internal\\utils\\misc.py\", line 379, in write_output\n",
      "    logger.info(msg, *args)\n",
      "  File \"D:\\anaconda3\\envs\\pytorch_env\\lib\\logging\\__init__.py\", line 1477, in info\n",
      "    self._log(INFO, msg, args, **kwargs)\n",
      "  File \"D:\\anaconda3\\envs\\pytorch_env\\lib\\logging\\__init__.py\", line 1624, in _log\n",
      "    self.handle(record)\n",
      "  File \"D:\\anaconda3\\envs\\pytorch_env\\lib\\logging\\__init__.py\", line 1634, in handle\n",
      "    self.callHandlers(record)\n",
      "  File \"D:\\anaconda3\\envs\\pytorch_env\\lib\\logging\\__init__.py\", line 1696, in callHandlers\n",
      "    hdlr.handle(record)\n",
      "  File \"D:\\anaconda3\\envs\\pytorch_env\\lib\\logging\\__init__.py\", line 968, in handle\n",
      "    self.emit(record)\n",
      "  File \"D:\\anaconda3\\envs\\pytorch_env\\lib\\site-packages\\pip\\_internal\\utils\\logging.py\", line 179, in emit\n",
      "    self.handleError(record)\n",
      "Message: 'Author-email: %s'\n",
      "Arguments: ('Glenn Jocher <glenn.jocher@ultralytics.com>, Jing Qiu <jing.qiu@ultralytics.com>',)\n",
      "--- Logging error ---\n",
      "Traceback (most recent call last):\n",
      "  File \"D:\\anaconda3\\envs\\pytorch_env\\lib\\site-packages\\pip\\_internal\\utils\\logging.py\", line 177, in emit\n",
      "    self.console.print(renderable, overflow=\"ignore\", crop=False, style=style)\n",
      "  File \"D:\\anaconda3\\envs\\pytorch_env\\lib\\site-packages\\pip\\_vendor\\rich\\console.py\", line 1673, in print\n",
      "    with self:\n",
      "  File \"D:\\anaconda3\\envs\\pytorch_env\\lib\\site-packages\\pip\\_vendor\\rich\\console.py\", line 865, in __exit__\n",
      "    self._exit_buffer()\n",
      "  File \"D:\\anaconda3\\envs\\pytorch_env\\lib\\site-packages\\pip\\_vendor\\rich\\console.py\", line 823, in _exit_buffer\n",
      "    self._check_buffer()\n",
      "  File \"D:\\anaconda3\\envs\\pytorch_env\\lib\\site-packages\\pip\\_vendor\\rich\\console.py\", line 2027, in _check_buffer\n",
      "    legacy_windows_render(buffer, LegacyWindowsTerm(self.file))\n",
      "  File \"D:\\anaconda3\\envs\\pytorch_env\\lib\\site-packages\\pip\\_vendor\\rich\\_windows_renderer.py\", line 19, in legacy_windows_render\n",
      "    term.write_text(text)\n",
      "  File \"D:\\anaconda3\\envs\\pytorch_env\\lib\\site-packages\\pip\\_vendor\\rich\\_win32_console.py\", line 403, in write_text\n",
      "    self.write(text)\n",
      "UnicodeEncodeError: 'cp949' codec can't encode character '\\U0001f680' in position 26: illegal multibyte sequence\n",
      "Call stack:\n",
      "  File \"D:\\anaconda3\\envs\\pytorch_env\\Scripts\\pip-script.py\", line 10, in <module>\n",
      "    sys.exit(main())\n",
      "  File \"D:\\anaconda3\\envs\\pytorch_env\\lib\\site-packages\\pip\\_internal\\cli\\main.py\", line 80, in main\n",
      "    return command.main(cmd_args)\n",
      "  File \"D:\\anaconda3\\envs\\pytorch_env\\lib\\site-packages\\pip\\_internal\\cli\\base_command.py\", line 157, in main\n",
      "    return self._main(args)\n",
      "  File \"D:\\anaconda3\\envs\\pytorch_env\\lib\\site-packages\\pip\\_internal\\cli\\base_command.py\", line 231, in _main\n",
      "    return self._run_wrapper(level_number, options, args)\n",
      "  File \"D:\\anaconda3\\envs\\pytorch_env\\lib\\site-packages\\pip\\_internal\\cli\\base_command.py\", line 105, in _run_wrapper\n",
      "    status = _inner_run()\n",
      "  File \"D:\\anaconda3\\envs\\pytorch_env\\lib\\site-packages\\pip\\_internal\\cli\\base_command.py\", line 96, in _inner_run\n",
      "    return self.run(options, args)\n",
      "  File \"D:\\anaconda3\\envs\\pytorch_env\\lib\\site-packages\\pip\\_internal\\commands\\show.py\", line 46, in run\n",
      "    if not print_results(\n",
      "  File \"D:\\anaconda3\\envs\\pytorch_env\\lib\\site-packages\\pip\\_internal\\commands\\show.py\", line 189, in print_results\n",
      "    write_output(\"License: %s\", dist.license)\n",
      "  File \"D:\\anaconda3\\envs\\pytorch_env\\lib\\site-packages\\pip\\_internal\\utils\\misc.py\", line 379, in write_output\n",
      "    logger.info(msg, *args)\n",
      "  File \"D:\\anaconda3\\envs\\pytorch_env\\lib\\logging\\__init__.py\", line 1477, in info\n",
      "    self._log(INFO, msg, args, **kwargs)\n",
      "  File \"D:\\anaconda3\\envs\\pytorch_env\\lib\\logging\\__init__.py\", line 1624, in _log\n",
      "    self.handle(record)\n",
      "  File \"D:\\anaconda3\\envs\\pytorch_env\\lib\\logging\\__init__.py\", line 1634, in handle\n",
      "    self.callHandlers(record)\n",
      "  File \"D:\\anaconda3\\envs\\pytorch_env\\lib\\logging\\__init__.py\", line 1696, in callHandlers\n",
      "    hdlr.handle(record)\n",
      "  File \"D:\\anaconda3\\envs\\pytorch_env\\lib\\logging\\__init__.py\", line 968, in handle\n",
      "    self.emit(record)\n",
      "  File \"D:\\anaconda3\\envs\\pytorch_env\\lib\\site-packages\\pip\\_internal\\utils\\logging.py\", line 179, in emit\n",
      "    self.handleError(record)\n",
      "Message: 'License: %s'\n",
      "Arguments: ('AGPL-3.0',)\n",
      "--- Logging error ---\n",
      "Traceback (most recent call last):\n",
      "  File \"D:\\anaconda3\\envs\\pytorch_env\\lib\\site-packages\\pip\\_internal\\utils\\logging.py\", line 177, in emit\n",
      "    self.console.print(renderable, overflow=\"ignore\", crop=False, style=style)\n",
      "  File \"D:\\anaconda3\\envs\\pytorch_env\\lib\\site-packages\\pip\\_vendor\\rich\\console.py\", line 1673, in print\n",
      "    with self:\n",
      "  File \"D:\\anaconda3\\envs\\pytorch_env\\lib\\site-packages\\pip\\_vendor\\rich\\console.py\", line 865, in __exit__\n",
      "    self._exit_buffer()\n",
      "  File \"D:\\anaconda3\\envs\\pytorch_env\\lib\\site-packages\\pip\\_vendor\\rich\\console.py\", line 823, in _exit_buffer\n",
      "    self._check_buffer()\n",
      "  File \"D:\\anaconda3\\envs\\pytorch_env\\lib\\site-packages\\pip\\_vendor\\rich\\console.py\", line 2027, in _check_buffer\n",
      "    legacy_windows_render(buffer, LegacyWindowsTerm(self.file))\n",
      "  File \"D:\\anaconda3\\envs\\pytorch_env\\lib\\site-packages\\pip\\_vendor\\rich\\_windows_renderer.py\", line 19, in legacy_windows_render\n",
      "    term.write_text(text)\n",
      "  File \"D:\\anaconda3\\envs\\pytorch_env\\lib\\site-packages\\pip\\_vendor\\rich\\_win32_console.py\", line 403, in write_text\n",
      "    self.write(text)\n",
      "UnicodeEncodeError: 'cp949' codec can't encode character '\\U0001f680' in position 26: illegal multibyte sequence\n",
      "Call stack:\n",
      "  File \"D:\\anaconda3\\envs\\pytorch_env\\Scripts\\pip-script.py\", line 10, in <module>\n",
      "    sys.exit(main())\n",
      "  File \"D:\\anaconda3\\envs\\pytorch_env\\lib\\site-packages\\pip\\_internal\\cli\\main.py\", line 80, in main\n",
      "    return command.main(cmd_args)\n",
      "  File \"D:\\anaconda3\\envs\\pytorch_env\\lib\\site-packages\\pip\\_internal\\cli\\base_command.py\", line 157, in main\n",
      "    return self._main(args)\n",
      "  File \"D:\\anaconda3\\envs\\pytorch_env\\lib\\site-packages\\pip\\_internal\\cli\\base_command.py\", line 231, in _main\n",
      "    return self._run_wrapper(level_number, options, args)\n",
      "  File \"D:\\anaconda3\\envs\\pytorch_env\\lib\\site-packages\\pip\\_internal\\cli\\base_command.py\", line 105, in _run_wrapper\n",
      "    status = _inner_run()\n",
      "  File \"D:\\anaconda3\\envs\\pytorch_env\\lib\\site-packages\\pip\\_internal\\cli\\base_command.py\", line 96, in _inner_run\n",
      "    return self.run(options, args)\n",
      "  File \"D:\\anaconda3\\envs\\pytorch_env\\lib\\site-packages\\pip\\_internal\\commands\\show.py\", line 46, in run\n",
      "    if not print_results(\n",
      "  File \"D:\\anaconda3\\envs\\pytorch_env\\lib\\site-packages\\pip\\_internal\\commands\\show.py\", line 190, in print_results\n",
      "    write_output(\"Location: %s\", dist.location)\n",
      "  File \"D:\\anaconda3\\envs\\pytorch_env\\lib\\site-packages\\pip\\_internal\\utils\\misc.py\", line 379, in write_output\n",
      "    logger.info(msg, *args)\n",
      "  File \"D:\\anaconda3\\envs\\pytorch_env\\lib\\logging\\__init__.py\", line 1477, in info\n",
      "    self._log(INFO, msg, args, **kwargs)\n",
      "  File \"D:\\anaconda3\\envs\\pytorch_env\\lib\\logging\\__init__.py\", line 1624, in _log\n",
      "    self.handle(record)\n",
      "  File \"D:\\anaconda3\\envs\\pytorch_env\\lib\\logging\\__init__.py\", line 1634, in handle\n",
      "    self.callHandlers(record)\n",
      "  File \"D:\\anaconda3\\envs\\pytorch_env\\lib\\logging\\__init__.py\", line 1696, in callHandlers\n",
      "    hdlr.handle(record)\n",
      "  File \"D:\\anaconda3\\envs\\pytorch_env\\lib\\logging\\__init__.py\", line 968, in handle\n",
      "    self.emit(record)\n",
      "  File \"D:\\anaconda3\\envs\\pytorch_env\\lib\\site-packages\\pip\\_internal\\utils\\logging.py\", line 179, in emit\n",
      "    self.handleError(record)\n",
      "Message: 'Location: %s'\n",
      "Arguments: ('d:\\\\anaconda3\\\\envs\\\\pytorch_env\\\\lib\\\\site-packages',)\n",
      "--- Logging error ---\n",
      "Traceback (most recent call last):\n",
      "  File \"D:\\anaconda3\\envs\\pytorch_env\\lib\\site-packages\\pip\\_internal\\utils\\logging.py\", line 177, in emit\n",
      "    self.console.print(renderable, overflow=\"ignore\", crop=False, style=style)\n",
      "  File \"D:\\anaconda3\\envs\\pytorch_env\\lib\\site-packages\\pip\\_vendor\\rich\\console.py\", line 1673, in print\n",
      "    with self:\n",
      "  File \"D:\\anaconda3\\envs\\pytorch_env\\lib\\site-packages\\pip\\_vendor\\rich\\console.py\", line 865, in __exit__\n",
      "    self._exit_buffer()\n",
      "  File \"D:\\anaconda3\\envs\\pytorch_env\\lib\\site-packages\\pip\\_vendor\\rich\\console.py\", line 823, in _exit_buffer\n",
      "    self._check_buffer()\n",
      "  File \"D:\\anaconda3\\envs\\pytorch_env\\lib\\site-packages\\pip\\_vendor\\rich\\console.py\", line 2027, in _check_buffer\n",
      "    legacy_windows_render(buffer, LegacyWindowsTerm(self.file))\n",
      "  File \"D:\\anaconda3\\envs\\pytorch_env\\lib\\site-packages\\pip\\_vendor\\rich\\_windows_renderer.py\", line 19, in legacy_windows_render\n",
      "    term.write_text(text)\n",
      "  File \"D:\\anaconda3\\envs\\pytorch_env\\lib\\site-packages\\pip\\_vendor\\rich\\_win32_console.py\", line 403, in write_text\n",
      "    self.write(text)\n",
      "UnicodeEncodeError: 'cp949' codec can't encode character '\\U0001f680' in position 26: illegal multibyte sequence\n",
      "Call stack:\n",
      "  File \"D:\\anaconda3\\envs\\pytorch_env\\Scripts\\pip-script.py\", line 10, in <module>\n",
      "    sys.exit(main())\n",
      "  File \"D:\\anaconda3\\envs\\pytorch_env\\lib\\site-packages\\pip\\_internal\\cli\\main.py\", line 80, in main\n",
      "    return command.main(cmd_args)\n",
      "  File \"D:\\anaconda3\\envs\\pytorch_env\\lib\\site-packages\\pip\\_internal\\cli\\base_command.py\", line 157, in main\n",
      "    return self._main(args)\n",
      "  File \"D:\\anaconda3\\envs\\pytorch_env\\lib\\site-packages\\pip\\_internal\\cli\\base_command.py\", line 231, in _main\n",
      "    return self._run_wrapper(level_number, options, args)\n",
      "  File \"D:\\anaconda3\\envs\\pytorch_env\\lib\\site-packages\\pip\\_internal\\cli\\base_command.py\", line 105, in _run_wrapper\n",
      "    status = _inner_run()\n",
      "  File \"D:\\anaconda3\\envs\\pytorch_env\\lib\\site-packages\\pip\\_internal\\cli\\base_command.py\", line 96, in _inner_run\n",
      "    return self.run(options, args)\n",
      "  File \"D:\\anaconda3\\envs\\pytorch_env\\lib\\site-packages\\pip\\_internal\\commands\\show.py\", line 46, in run\n",
      "    if not print_results(\n",
      "  File \"D:\\anaconda3\\envs\\pytorch_env\\lib\\site-packages\\pip\\_internal\\commands\\show.py\", line 195, in print_results\n",
      "    write_output(\"Requires: %s\", \", \".join(dist.requires))\n",
      "  File \"D:\\anaconda3\\envs\\pytorch_env\\lib\\site-packages\\pip\\_internal\\utils\\misc.py\", line 379, in write_output\n",
      "    logger.info(msg, *args)\n",
      "  File \"D:\\anaconda3\\envs\\pytorch_env\\lib\\logging\\__init__.py\", line 1477, in info\n",
      "    self._log(INFO, msg, args, **kwargs)\n",
      "  File \"D:\\anaconda3\\envs\\pytorch_env\\lib\\logging\\__init__.py\", line 1624, in _log\n",
      "    self.handle(record)\n",
      "  File \"D:\\anaconda3\\envs\\pytorch_env\\lib\\logging\\__init__.py\", line 1634, in handle\n",
      "    self.callHandlers(record)\n",
      "  File \"D:\\anaconda3\\envs\\pytorch_env\\lib\\logging\\__init__.py\", line 1696, in callHandlers\n",
      "    hdlr.handle(record)\n",
      "  File \"D:\\anaconda3\\envs\\pytorch_env\\lib\\logging\\__init__.py\", line 968, in handle\n",
      "    self.emit(record)\n",
      "  File \"D:\\anaconda3\\envs\\pytorch_env\\lib\\site-packages\\pip\\_internal\\utils\\logging.py\", line 179, in emit\n",
      "    self.handleError(record)\n",
      "Message: 'Requires: %s'\n",
      "Arguments: ('matplotlib, numpy, opencv-python, pandas, pillow, psutil, py-cpuinfo, pyyaml, requests, scipy, seaborn, torch, torchvision, tqdm, ultralytics-thop',)\n",
      "--- Logging error ---\n",
      "Traceback (most recent call last):\n",
      "  File \"D:\\anaconda3\\envs\\pytorch_env\\lib\\site-packages\\pip\\_internal\\utils\\logging.py\", line 177, in emit\n",
      "    self.console.print(renderable, overflow=\"ignore\", crop=False, style=style)\n",
      "  File \"D:\\anaconda3\\envs\\pytorch_env\\lib\\site-packages\\pip\\_vendor\\rich\\console.py\", line 1673, in print\n",
      "    with self:\n",
      "  File \"D:\\anaconda3\\envs\\pytorch_env\\lib\\site-packages\\pip\\_vendor\\rich\\console.py\", line 865, in __exit__\n",
      "    self._exit_buffer()\n",
      "  File \"D:\\anaconda3\\envs\\pytorch_env\\lib\\site-packages\\pip\\_vendor\\rich\\console.py\", line 823, in _exit_buffer\n",
      "    self._check_buffer()\n",
      "  File \"D:\\anaconda3\\envs\\pytorch_env\\lib\\site-packages\\pip\\_vendor\\rich\\console.py\", line 2027, in _check_buffer\n",
      "    legacy_windows_render(buffer, LegacyWindowsTerm(self.file))\n",
      "  File \"D:\\anaconda3\\envs\\pytorch_env\\lib\\site-packages\\pip\\_vendor\\rich\\_windows_renderer.py\", line 19, in legacy_windows_render\n",
      "    term.write_text(text)\n",
      "  File \"D:\\anaconda3\\envs\\pytorch_env\\lib\\site-packages\\pip\\_vendor\\rich\\_win32_console.py\", line 403, in write_text\n",
      "    self.write(text)\n",
      "UnicodeEncodeError: 'cp949' codec can't encode character '\\U0001f680' in position 26: illegal multibyte sequence\n",
      "Call stack:\n",
      "  File \"D:\\anaconda3\\envs\\pytorch_env\\Scripts\\pip-script.py\", line 10, in <module>\n",
      "    sys.exit(main())\n",
      "  File \"D:\\anaconda3\\envs\\pytorch_env\\lib\\site-packages\\pip\\_internal\\cli\\main.py\", line 80, in main\n",
      "    return command.main(cmd_args)\n",
      "  File \"D:\\anaconda3\\envs\\pytorch_env\\lib\\site-packages\\pip\\_internal\\cli\\base_command.py\", line 157, in main\n",
      "    return self._main(args)\n",
      "  File \"D:\\anaconda3\\envs\\pytorch_env\\lib\\site-packages\\pip\\_internal\\cli\\base_command.py\", line 231, in _main\n",
      "    return self._run_wrapper(level_number, options, args)\n",
      "  File \"D:\\anaconda3\\envs\\pytorch_env\\lib\\site-packages\\pip\\_internal\\cli\\base_command.py\", line 105, in _run_wrapper\n",
      "    status = _inner_run()\n",
      "  File \"D:\\anaconda3\\envs\\pytorch_env\\lib\\site-packages\\pip\\_internal\\cli\\base_command.py\", line 96, in _inner_run\n",
      "    return self.run(options, args)\n",
      "  File \"D:\\anaconda3\\envs\\pytorch_env\\lib\\site-packages\\pip\\_internal\\commands\\show.py\", line 46, in run\n",
      "    if not print_results(\n",
      "  File \"D:\\anaconda3\\envs\\pytorch_env\\lib\\site-packages\\pip\\_internal\\commands\\show.py\", line 196, in print_results\n",
      "    write_output(\"Required-by: %s\", \", \".join(dist.required_by))\n",
      "  File \"D:\\anaconda3\\envs\\pytorch_env\\lib\\site-packages\\pip\\_internal\\utils\\misc.py\", line 379, in write_output\n",
      "    logger.info(msg, *args)\n",
      "  File \"D:\\anaconda3\\envs\\pytorch_env\\lib\\logging\\__init__.py\", line 1477, in info\n",
      "    self._log(INFO, msg, args, **kwargs)\n",
      "  File \"D:\\anaconda3\\envs\\pytorch_env\\lib\\logging\\__init__.py\", line 1624, in _log\n",
      "    self.handle(record)\n",
      "  File \"D:\\anaconda3\\envs\\pytorch_env\\lib\\logging\\__init__.py\", line 1634, in handle\n",
      "    self.callHandlers(record)\n",
      "  File \"D:\\anaconda3\\envs\\pytorch_env\\lib\\logging\\__init__.py\", line 1696, in callHandlers\n",
      "    hdlr.handle(record)\n",
      "  File \"D:\\anaconda3\\envs\\pytorch_env\\lib\\logging\\__init__.py\", line 968, in handle\n",
      "    self.emit(record)\n",
      "  File \"D:\\anaconda3\\envs\\pytorch_env\\lib\\site-packages\\pip\\_internal\\utils\\logging.py\", line 179, in emit\n",
      "    self.handleError(record)\n",
      "Message: 'Required-by: %s'\n",
      "Arguments: ('',)\n"
     ]
    }
   ],
   "source": [
    "!pip show ultralytics\n"
   ]
  },
  {
   "cell_type": "code",
   "execution_count": 18,
   "id": "dccb47d6",
   "metadata": {},
   "outputs": [
    {
     "name": "stdout",
     "output_type": "stream",
     "text": [
      "\n",
      "image 1/1 D:\\Python_Pytorch_Workspace\\Jupyter_Test\\Aquarium_DataSet\\test\\images\\IMG_2319_jpeg_jpg.rf.6e20bf97d17b74a8948aa48776c40454.jpg: 416x320 8 penguins, 27.0ms\n",
      "Speed: 2.0ms preprocess, 27.0ms inference, 1.0ms postprocess per image at shape (1, 3, 416, 320)\n",
      "Results saved to \u001b[1mD:\\Python_Pytorch_Workspace\\Jupyter_Test\\modelresultImg3\u001b[0m\n",
      "1 label saved to D:\\Python_Pytorch_Workspace\\Jupyter_Test\\modelresultImg3\\labels\n",
      "[ultralytics.engine.results.Results object with attributes:\n",
      "\n",
      "boxes: ultralytics.engine.results.Boxes object\n",
      "keypoints: None\n",
      "masks: None\n",
      "names: {0: 'fish', 1: 'jellyfish', 2: 'penguin', 3: 'puffin', 4: 'shark', 5: 'starfish', 6: 'stingray'}\n",
      "obb: None\n",
      "orig_img: array([[[110, 137, 163],\n",
      "        [116, 143, 169],\n",
      "        [127, 154, 181],\n",
      "        ...,\n",
      "        [167, 159, 169],\n",
      "        [167, 159, 169],\n",
      "        [169, 161, 171]],\n",
      "\n",
      "       [[113, 140, 167],\n",
      "        [119, 146, 173],\n",
      "        [129, 156, 183],\n",
      "        ...,\n",
      "        [174, 166, 176],\n",
      "        [174, 166, 176],\n",
      "        [176, 168, 178]],\n",
      "\n",
      "       [[113, 141, 171],\n",
      "        [113, 141, 171],\n",
      "        [115, 143, 173],\n",
      "        ...,\n",
      "        [178, 170, 180],\n",
      "        [177, 171, 182],\n",
      "        [178, 172, 183]],\n",
      "\n",
      "       ...,\n",
      "\n",
      "       [[ 59,  65,  46],\n",
      "        [ 60,  66,  47],\n",
      "        [ 61,  67,  48],\n",
      "        ...,\n",
      "        [ 76,  92,  69],\n",
      "        [ 76,  92,  69],\n",
      "        [ 76,  92,  69]],\n",
      "\n",
      "       [[ 61,  67,  48],\n",
      "        [ 62,  68,  49],\n",
      "        [ 64,  70,  51],\n",
      "        ...,\n",
      "        [ 76,  92,  69],\n",
      "        [ 76,  92,  69],\n",
      "        [ 75,  91,  68]],\n",
      "\n",
      "       [[ 63,  69,  50],\n",
      "        [ 64,  70,  51],\n",
      "        [ 65,  71,  52],\n",
      "        ...,\n",
      "        [ 76,  92,  69],\n",
      "        [ 75,  91,  68],\n",
      "        [ 74,  90,  67]]], dtype=uint8)\n",
      "orig_shape: (1024, 768)\n",
      "path: 'D:\\\\Python_Pytorch_Workspace\\\\Jupyter_Test\\\\Aquarium_DataSet\\\\test\\\\images\\\\IMG_2319_jpeg_jpg.rf.6e20bf97d17b74a8948aa48776c40454.jpg'\n",
      "probs: None\n",
      "save_dir: 'D:\\\\Python_Pytorch_Workspace\\\\Jupyter_Test\\\\modelresultImg3'\n",
      "speed: {'preprocess': 1.9991397857666016, 'inference': 27.001619338989258, 'postprocess': 1.0001659393310547}]\n",
      "결과 이미지가 다음 경로에 저장되었습니다: D:\\Python_Pytorch_Workspace\\Jupyter_Test\\modelresultImg\n"
     ]
    }
   ],
   "source": [
    "import os\n",
    "\n",
    "# 저장 경로 생성\n",
    "save_dir = r\"D:\\Python_Pytorch_Workspace\\Jupyter_Test\\modelresultImg\"\n",
    "os.makedirs(save_dir, exist_ok=True)\n",
    "\n",
    "# YOLOv8 모델로 예측 실행\n",
    "results = model.predict(\n",
    "    source=r\"D:\\Python_Pytorch_Workspace\\Jupyter_Test\\Aquarium_DataSet\\test\\images\\IMG_2319_jpeg_jpg.rf.6e20bf97d17b74a8948aa48776c40454.jpg\",  # 테스트 이미지 경로\n",
    "    save=True,  # 결과 저장 활성화\n",
    "    project=r\"D:\\Python_Pytorch_Workspace\\Jupyter_Test\",  # 저장될 프로젝트 경로\n",
    "    name=\"modelresultImg\",  # 저장 디렉토리 이름\n",
    "    conf=0.25,  # 예측 확률 임계값 설정\n",
    "    save_txt=True,  # 예측 결과 텍스트로 저장\n",
    "    save_conf=True,  # 결과 이미지에 확률값 표시\n",
    "#     visualize=True  # 시각화 활성화\n",
    "#     line_thickness=2  # 경계 상자 두께 설정\n",
    ")\n",
    "print(results)\n",
    "\n",
    "# 저장 경로 확인\n",
    "default_save_path = os.path.join(r\"D:\\Python_Pytorch_Workspace\\Jupyter_Test\", \"modelresultImg\")\n",
    "print(f\"결과 이미지가 다음 경로에 저장되었습니다: {default_save_path}\")\n"
   ]
  },
  {
   "cell_type": "code",
   "execution_count": 19,
   "id": "d175c708",
   "metadata": {},
   "outputs": [
    {
     "name": "stdout",
     "output_type": "stream",
     "text": [
      "\n",
      "image 1/1 D:\\Python_Pytorch_Workspace\\Jupyter_Test\\Aquarium_DataSet\\test\\images\\IMG_2319_jpeg_jpg.rf.6e20bf97d17b74a8948aa48776c40454.jpg: 416x320 8 penguins, 12.0ms\n",
      "Speed: 2.0ms preprocess, 12.0ms inference, 1.0ms postprocess per image at shape (1, 3, 416, 320)\n",
      "Results saved to \u001b[1mruns\\detect\\predict\u001b[0m\n",
      "결과 이미지가 다음 경로에 저장되었습니다: D:\\Python_Pytorch_Workspace\\Jupyter_Test\\modelresultImg\n"
     ]
    }
   ],
   "source": [
    "# YOLOv8 모델로 예측 실행 및 저장 경로 변경\n",
    "# 사용자 정의 YOLOv8 모델 로드\n",
    "model = YOLO(\"best.pt\")\n",
    "\n",
    "results = model.predict(\n",
    "    source=r\"D:\\Python_Pytorch_Workspace\\Jupyter_Test\\Aquarium_DataSet\\test\\images\\IMG_2319_jpeg_jpg.rf.6e20bf97d17b74a8948aa48776c40454.jpg\",  # 테스트 이미지 경로\n",
    "    save=True,  # 결과 저장 활성화\n",
    "    save_dir=r\"D:\\Python_Pytorch_Workspace\\Jupyter_Test\\modelresultImg\"  # 결과 저장 경로\n",
    ")\n",
    "\n",
    "print(f\"결과 이미지가 다음 경로에 저장되었습니다: D:\\Python_Pytorch_Workspace\\Jupyter_Test\\modelresultImg\")"
   ]
  },
  {
   "cell_type": "code",
   "execution_count": 21,
   "id": "2406f3ff-f1c7-4da5-99b3-8e30966eff3c",
   "metadata": {},
   "outputs": [
    {
     "name": "stdout",
     "output_type": "stream",
     "text": [
      "\n",
      "image 1/1 D:\\Python_Pytorch_Workspace\\Jupyter_Test\\Aquarium_DataSet\\test\\images\\IMG_2319_jpeg_jpg.rf.6e20bf97d17b74a8948aa48776c40454.jpg: 416x320 8 penguins, 12.0ms\n",
      "Speed: 2.0ms preprocess, 12.0ms inference, 1.0ms postprocess per image at shape (1, 3, 416, 320)\n",
      "Results saved to \u001b[1mruns\\detect\\predict2\u001b[0m\n",
      "Results saved to: D:\\Python_Pytorch_Workspace\\Jupyter_Test\\modelresultImg\n"
     ]
    }
   ],
   "source": [
    "# 경로 변수 설정\n",
    "image_path = r\"D:\\Python_Pytorch_Workspace\\Jupyter_Test\\Aquarium_DataSet\\test\\images\\IMG_2319_jpeg_jpg.rf.6e20bf97d17b74a8948aa48776c40454.jpg\"\n",
    "save_dir = r\"D:\\Python_Pytorch_Workspace\\Jupyter_Test\\modelresultImg\"\n",
    "\n",
    "# 결과 저장 경로가 없으면 생성\n",
    "os.makedirs(save_dir, exist_ok=True)\n",
    "\n",
    "# YOLO 모델 로드 및 예측\n",
    "model = YOLO(\"best.pt\")\n",
    "results = model.predict(source=image_path, save=True, save_dir=save_dir)\n",
    "\n",
    "# 결과 경로 확인\n",
    "print(\"Results saved to:\", save_dir)"
   ]
  },
  {
   "cell_type": "code",
   "execution_count": 23,
   "id": "6c66aff2-1ca3-4502-a903-b322307c9512",
   "metadata": {},
   "outputs": [
    {
     "name": "stdout",
     "output_type": "stream",
     "text": [
      "\n",
      "0: 256x416 2 fishs, 2 sharks, 27.0ms\n",
      "Speed: 5.0ms preprocess, 27.0ms inference, 1.0ms postprocess per image at shape (1, 3, 256, 416)\n"
     ]
    },
    {
     "data": {
      "text/plain": [
       "<Figure size 1000x600 with 1 Axes>"
      ]
     },
     "metadata": {},
     "output_type": "display_data"
    },
    {
     "name": "stdout",
     "output_type": "stream",
     "text": [
      "\n",
      "0: 256x416 2 fishs, 2 sharks, 11.0ms\n",
      "Speed: 2.0ms preprocess, 11.0ms inference, 2.0ms postprocess per image at shape (1, 3, 256, 416)\n",
      "\n",
      "0: 256x416 2 fishs, 2 sharks, 8.0ms\n",
      "Speed: 2.0ms preprocess, 8.0ms inference, 1.0ms postprocess per image at shape (1, 3, 256, 416)\n",
      "\n",
      "0: 256x416 2 fishs, 2 sharks, 7.0ms\n",
      "Speed: 1.0ms preprocess, 7.0ms inference, 2.0ms postprocess per image at shape (1, 3, 256, 416)\n",
      "\n",
      "0: 256x416 2 fishs, 2 sharks, 6.0ms\n",
      "Speed: 2.0ms preprocess, 6.0ms inference, 1.0ms postprocess per image at shape (1, 3, 256, 416)\n",
      "\n",
      "0: 256x416 2 fishs, 2 sharks, 7.0ms\n",
      "Speed: 2.0ms preprocess, 7.0ms inference, 2.0ms postprocess per image at shape (1, 3, 256, 416)\n",
      "\n",
      "0: 256x416 2 fishs, 2 sharks, 8.0ms\n",
      "Speed: 3.0ms preprocess, 8.0ms inference, 1.0ms postprocess per image at shape (1, 3, 256, 416)\n",
      "\n",
      "0: 256x416 2 fishs, 2 sharks, 8.0ms\n",
      "Speed: 2.0ms preprocess, 8.0ms inference, 1.0ms postprocess per image at shape (1, 3, 256, 416)\n",
      "\n",
      "0: 256x416 2 fishs, 2 sharks, 7.0ms\n",
      "Speed: 2.0ms preprocess, 7.0ms inference, 1.0ms postprocess per image at shape (1, 3, 256, 416)\n",
      "\n",
      "0: 256x416 2 fishs, 1 shark, 7.0ms\n",
      "Speed: 1.0ms preprocess, 7.0ms inference, 1.0ms postprocess per image at shape (1, 3, 256, 416)\n",
      "\n",
      "0: 256x416 2 fishs, 6.0ms\n",
      "Speed: 2.0ms preprocess, 6.0ms inference, 2.0ms postprocess per image at shape (1, 3, 256, 416)\n",
      "\n",
      "0: 256x416 2 fishs, 7.0ms\n",
      "Speed: 2.0ms preprocess, 7.0ms inference, 1.0ms postprocess per image at shape (1, 3, 256, 416)\n",
      "\n",
      "0: 256x416 2 fishs, 7.0ms\n",
      "Speed: 1.0ms preprocess, 7.0ms inference, 2.0ms postprocess per image at shape (1, 3, 256, 416)\n",
      "\n",
      "0: 256x416 2 fishs, 1 shark, 7.0ms\n",
      "Speed: 1.0ms preprocess, 7.0ms inference, 1.0ms postprocess per image at shape (1, 3, 256, 416)\n",
      "\n",
      "0: 256x416 2 fishs, 1 shark, 7.0ms\n",
      "Speed: 1.0ms preprocess, 7.0ms inference, 1.0ms postprocess per image at shape (1, 3, 256, 416)\n",
      "\n",
      "0: 256x416 2 fishs, 6.0ms\n",
      "Speed: 2.0ms preprocess, 6.0ms inference, 1.0ms postprocess per image at shape (1, 3, 256, 416)\n",
      "\n",
      "0: 256x416 2 fishs, 7.0ms\n",
      "Speed: 2.0ms preprocess, 7.0ms inference, 1.0ms postprocess per image at shape (1, 3, 256, 416)\n",
      "\n",
      "0: 256x416 2 fishs, 9.0ms\n",
      "Speed: 1.0ms preprocess, 9.0ms inference, 1.0ms postprocess per image at shape (1, 3, 256, 416)\n",
      "\n",
      "0: 256x416 2 fishs, 6.0ms\n",
      "Speed: 1.0ms preprocess, 6.0ms inference, 1.0ms postprocess per image at shape (1, 3, 256, 416)\n",
      "\n",
      "0: 256x416 2 fishs, 8.0ms\n",
      "Speed: 2.0ms preprocess, 8.0ms inference, 1.0ms postprocess per image at shape (1, 3, 256, 416)\n",
      "\n",
      "0: 256x416 2 fishs, 8.0ms\n",
      "Speed: 1.0ms preprocess, 8.0ms inference, 1.0ms postprocess per image at shape (1, 3, 256, 416)\n",
      "\n",
      "0: 256x416 2 fishs, 9.0ms\n",
      "Speed: 1.0ms preprocess, 9.0ms inference, 1.0ms postprocess per image at shape (1, 3, 256, 416)\n",
      "\n",
      "0: 256x416 2 fishs, 6.0ms\n",
      "Speed: 1.0ms preprocess, 6.0ms inference, 3.0ms postprocess per image at shape (1, 3, 256, 416)\n",
      "\n",
      "0: 256x416 2 fishs, 6.0ms\n",
      "Speed: 1.0ms preprocess, 6.0ms inference, 1.0ms postprocess per image at shape (1, 3, 256, 416)\n",
      "\n",
      "0: 256x416 2 fishs, 5.0ms\n",
      "Speed: 1.0ms preprocess, 5.0ms inference, 2.0ms postprocess per image at shape (1, 3, 256, 416)\n",
      "\n",
      "0: 256x416 2 fishs, 6.0ms\n",
      "Speed: 1.0ms preprocess, 6.0ms inference, 1.0ms postprocess per image at shape (1, 3, 256, 416)\n",
      "\n",
      "0: 256x416 2 fishs, 6.0ms\n",
      "Speed: 1.0ms preprocess, 6.0ms inference, 2.0ms postprocess per image at shape (1, 3, 256, 416)\n",
      "\n",
      "0: 256x416 1 fish, 7.0ms\n",
      "Speed: 1.0ms preprocess, 7.0ms inference, 1.0ms postprocess per image at shape (1, 3, 256, 416)\n",
      "\n",
      "0: 256x416 1 fish, 6.0ms\n",
      "Speed: 1.0ms preprocess, 6.0ms inference, 1.0ms postprocess per image at shape (1, 3, 256, 416)\n",
      "\n",
      "0: 256x416 1 fish, 5.0ms\n",
      "Speed: 1.0ms preprocess, 5.0ms inference, 1.0ms postprocess per image at shape (1, 3, 256, 416)\n",
      "\n",
      "0: 256x416 1 fish, 5.0ms\n",
      "Speed: 1.0ms preprocess, 5.0ms inference, 1.0ms postprocess per image at shape (1, 3, 256, 416)\n"
     ]
    },
    {
     "data": {
      "text/plain": [
       "<Figure size 1000x600 with 1 Axes>"
      ]
     },
     "metadata": {},
     "output_type": "display_data"
    },
    {
     "name": "stdout",
     "output_type": "stream",
     "text": [
      "\n",
      "0: 256x416 1 fish, 7.0ms\n",
      "Speed: 1.0ms preprocess, 7.0ms inference, 2.0ms postprocess per image at shape (1, 3, 256, 416)\n",
      "\n",
      "0: 256x416 1 fish, 5.0ms\n",
      "Speed: 1.0ms preprocess, 5.0ms inference, 1.0ms postprocess per image at shape (1, 3, 256, 416)\n",
      "\n",
      "0: 256x416 1 fish, 5.0ms\n",
      "Speed: 2.0ms preprocess, 5.0ms inference, 1.0ms postprocess per image at shape (1, 3, 256, 416)\n",
      "\n",
      "0: 256x416 1 fish, 5.0ms\n",
      "Speed: 2.0ms preprocess, 5.0ms inference, 1.0ms postprocess per image at shape (1, 3, 256, 416)\n",
      "\n",
      "0: 256x416 1 fish, 6.0ms\n",
      "Speed: 1.0ms preprocess, 6.0ms inference, 1.0ms postprocess per image at shape (1, 3, 256, 416)\n",
      "\n",
      "0: 256x416 1 fish, 6.0ms\n",
      "Speed: 1.0ms preprocess, 6.0ms inference, 1.0ms postprocess per image at shape (1, 3, 256, 416)\n",
      "\n",
      "0: 256x416 1 fish, 5.0ms\n",
      "Speed: 3.0ms preprocess, 5.0ms inference, 1.0ms postprocess per image at shape (1, 3, 256, 416)\n",
      "\n",
      "0: 256x416 1 fish, 6.0ms\n",
      "Speed: 2.0ms preprocess, 6.0ms inference, 1.0ms postprocess per image at shape (1, 3, 256, 416)\n",
      "\n",
      "0: 256x416 1 fish, 7.0ms\n",
      "Speed: 1.0ms preprocess, 7.0ms inference, 1.0ms postprocess per image at shape (1, 3, 256, 416)\n",
      "\n",
      "0: 256x416 1 fish, 6.0ms\n",
      "Speed: 1.0ms preprocess, 6.0ms inference, 0.0ms postprocess per image at shape (1, 3, 256, 416)\n",
      "\n",
      "0: 256x416 1 fish, 5.0ms\n",
      "Speed: 1.0ms preprocess, 5.0ms inference, 1.0ms postprocess per image at shape (1, 3, 256, 416)\n",
      "\n",
      "0: 256x416 1 fish, 6.0ms\n",
      "Speed: 1.0ms preprocess, 6.0ms inference, 1.0ms postprocess per image at shape (1, 3, 256, 416)\n",
      "\n",
      "0: 256x416 1 fish, 6.0ms\n",
      "Speed: 1.0ms preprocess, 6.0ms inference, 2.0ms postprocess per image at shape (1, 3, 256, 416)\n",
      "\n",
      "0: 256x416 1 fish, 5.0ms\n",
      "Speed: 2.0ms preprocess, 5.0ms inference, 1.0ms postprocess per image at shape (1, 3, 256, 416)\n",
      "\n",
      "0: 256x416 1 fish, 5.0ms\n",
      "Speed: 1.0ms preprocess, 5.0ms inference, 1.0ms postprocess per image at shape (1, 3, 256, 416)\n",
      "\n",
      "0: 256x416 1 fish, 5.0ms\n",
      "Speed: 2.0ms preprocess, 5.0ms inference, 1.0ms postprocess per image at shape (1, 3, 256, 416)\n",
      "\n",
      "0: 256x416 1 fish, 5.0ms\n",
      "Speed: 2.0ms preprocess, 5.0ms inference, 1.0ms postprocess per image at shape (1, 3, 256, 416)\n",
      "\n",
      "0: 256x416 1 fish, 7.0ms\n",
      "Speed: 1.0ms preprocess, 7.0ms inference, 1.0ms postprocess per image at shape (1, 3, 256, 416)\n",
      "\n",
      "0: 256x416 1 fish, 6.0ms\n",
      "Speed: 1.0ms preprocess, 6.0ms inference, 1.0ms postprocess per image at shape (1, 3, 256, 416)\n",
      "\n",
      "0: 256x416 1 fish, 6.0ms\n",
      "Speed: 1.0ms preprocess, 6.0ms inference, 1.0ms postprocess per image at shape (1, 3, 256, 416)\n",
      "\n",
      "0: 256x416 1 fish, 5.0ms\n",
      "Speed: 2.0ms preprocess, 5.0ms inference, 1.0ms postprocess per image at shape (1, 3, 256, 416)\n",
      "\n",
      "0: 256x416 1 fish, 6.0ms\n",
      "Speed: 1.0ms preprocess, 6.0ms inference, 1.0ms postprocess per image at shape (1, 3, 256, 416)\n",
      "\n",
      "0: 256x416 2 fishs, 6.0ms\n",
      "Speed: 1.0ms preprocess, 6.0ms inference, 1.0ms postprocess per image at shape (1, 3, 256, 416)\n",
      "\n",
      "0: 256x416 2 fishs, 9.0ms\n",
      "Speed: 1.0ms preprocess, 9.0ms inference, 3.0ms postprocess per image at shape (1, 3, 256, 416)\n",
      "\n",
      "0: 256x416 2 fishs, 1 shark, 6.0ms\n",
      "Speed: 1.0ms preprocess, 6.0ms inference, 2.0ms postprocess per image at shape (1, 3, 256, 416)\n",
      "\n",
      "0: 256x416 2 fishs, 1 shark, 6.0ms\n",
      "Speed: 2.0ms preprocess, 6.0ms inference, 1.0ms postprocess per image at shape (1, 3, 256, 416)\n",
      "\n",
      "0: 256x416 2 fishs, 1 shark, 5.0ms\n",
      "Speed: 3.0ms preprocess, 5.0ms inference, 1.0ms postprocess per image at shape (1, 3, 256, 416)\n",
      "\n",
      "0: 256x416 2 fishs, 1 shark, 5.3ms\n",
      "Speed: 1.5ms preprocess, 5.3ms inference, 1.0ms postprocess per image at shape (1, 3, 256, 416)\n",
      "\n",
      "0: 256x416 2 fishs, 1 shark, 5.0ms\n",
      "Speed: 1.0ms preprocess, 5.0ms inference, 1.0ms postprocess per image at shape (1, 3, 256, 416)\n",
      "\n",
      "0: 256x416 1 fish, 1 shark, 5.0ms\n",
      "Speed: 1.0ms preprocess, 5.0ms inference, 1.0ms postprocess per image at shape (1, 3, 256, 416)\n"
     ]
    },
    {
     "data": {
      "text/plain": [
       "<Figure size 1000x600 with 1 Axes>"
      ]
     },
     "metadata": {},
     "output_type": "display_data"
    },
    {
     "name": "stdout",
     "output_type": "stream",
     "text": [
      "\n",
      "0: 256x416 1 fish, 1 shark, 6.0ms\n",
      "Speed: 1.0ms preprocess, 6.0ms inference, 2.0ms postprocess per image at shape (1, 3, 256, 416)\n",
      "\n",
      "0: 256x416 1 fish, 1 shark, 5.0ms\n",
      "Speed: 1.0ms preprocess, 5.0ms inference, 1.0ms postprocess per image at shape (1, 3, 256, 416)\n",
      "\n",
      "0: 256x416 1 fish, 5.0ms\n",
      "Speed: 1.0ms preprocess, 5.0ms inference, 1.0ms postprocess per image at shape (1, 3, 256, 416)\n",
      "\n",
      "0: 256x416 1 fish, 6.0ms\n",
      "Speed: 1.0ms preprocess, 6.0ms inference, 1.0ms postprocess per image at shape (1, 3, 256, 416)\n",
      "\n",
      "0: 256x416 1 fish, 6.0ms\n",
      "Speed: 1.0ms preprocess, 6.0ms inference, 1.0ms postprocess per image at shape (1, 3, 256, 416)\n",
      "\n",
      "0: 256x416 1 fish, 1 stingray, 5.0ms\n",
      "Speed: 1.0ms preprocess, 5.0ms inference, 1.0ms postprocess per image at shape (1, 3, 256, 416)\n",
      "\n",
      "0: 256x416 1 fish, 1 stingray, 6.0ms\n",
      "Speed: 1.0ms preprocess, 6.0ms inference, 1.0ms postprocess per image at shape (1, 3, 256, 416)\n",
      "\n",
      "0: 256x416 1 fish, 1 stingray, 6.0ms\n",
      "Speed: 1.0ms preprocess, 6.0ms inference, 1.0ms postprocess per image at shape (1, 3, 256, 416)\n",
      "\n",
      "0: 256x416 1 fish, 1 stingray, 6.0ms\n",
      "Speed: 1.0ms preprocess, 6.0ms inference, 1.0ms postprocess per image at shape (1, 3, 256, 416)\n",
      "\n",
      "0: 256x416 1 fish, 1 stingray, 5.0ms\n",
      "Speed: 1.0ms preprocess, 5.0ms inference, 1.0ms postprocess per image at shape (1, 3, 256, 416)\n",
      "\n",
      "0: 256x416 1 fish, 1 stingray, 5.0ms\n",
      "Speed: 1.0ms preprocess, 5.0ms inference, 1.0ms postprocess per image at shape (1, 3, 256, 416)\n",
      "\n",
      "0: 256x416 1 fish, 1 stingray, 5.0ms\n",
      "Speed: 1.0ms preprocess, 5.0ms inference, 1.0ms postprocess per image at shape (1, 3, 256, 416)\n",
      "\n",
      "0: 256x416 1 fish, 1 stingray, 6.0ms\n",
      "Speed: 1.0ms preprocess, 6.0ms inference, 1.0ms postprocess per image at shape (1, 3, 256, 416)\n",
      "\n",
      "0: 256x416 1 fish, 1 stingray, 6.0ms\n",
      "Speed: 2.0ms preprocess, 6.0ms inference, 1.0ms postprocess per image at shape (1, 3, 256, 416)\n",
      "\n",
      "0: 256x416 1 fish, 1 stingray, 6.0ms\n",
      "Speed: 1.0ms preprocess, 6.0ms inference, 1.0ms postprocess per image at shape (1, 3, 256, 416)\n",
      "\n",
      "0: 256x416 1 fish, 1 stingray, 5.0ms\n",
      "Speed: 2.0ms preprocess, 5.0ms inference, 1.0ms postprocess per image at shape (1, 3, 256, 416)\n",
      "\n",
      "0: 256x416 1 fish, 1 stingray, 5.0ms\n",
      "Speed: 1.0ms preprocess, 5.0ms inference, 1.0ms postprocess per image at shape (1, 3, 256, 416)\n",
      "\n",
      "0: 256x416 1 fish, 1 stingray, 6.0ms\n",
      "Speed: 1.0ms preprocess, 6.0ms inference, 1.0ms postprocess per image at shape (1, 3, 256, 416)\n",
      "\n",
      "0: 256x416 1 fish, 1 stingray, 6.4ms\n",
      "Speed: 1.0ms preprocess, 6.4ms inference, 1.0ms postprocess per image at shape (1, 3, 256, 416)\n",
      "\n",
      "0: 256x416 1 fish, 1 stingray, 5.0ms\n",
      "Speed: 1.0ms preprocess, 5.0ms inference, 1.0ms postprocess per image at shape (1, 3, 256, 416)\n",
      "\n",
      "0: 256x416 1 fish, 1 stingray, 5.0ms\n",
      "Speed: 1.0ms preprocess, 5.0ms inference, 1.0ms postprocess per image at shape (1, 3, 256, 416)\n",
      "\n",
      "0: 256x416 1 fish, 1 stingray, 5.0ms\n",
      "Speed: 3.0ms preprocess, 5.0ms inference, 1.0ms postprocess per image at shape (1, 3, 256, 416)\n",
      "\n",
      "0: 256x416 1 fish, 1 stingray, 5.0ms\n",
      "Speed: 1.0ms preprocess, 5.0ms inference, 1.0ms postprocess per image at shape (1, 3, 256, 416)\n",
      "\n",
      "0: 256x416 1 fish, 1 stingray, 5.0ms\n",
      "Speed: 1.0ms preprocess, 5.0ms inference, 1.0ms postprocess per image at shape (1, 3, 256, 416)\n",
      "\n",
      "0: 256x416 1 fish, 1 stingray, 5.0ms\n",
      "Speed: 2.0ms preprocess, 5.0ms inference, 1.0ms postprocess per image at shape (1, 3, 256, 416)\n",
      "\n",
      "0: 256x416 1 fish, 1 stingray, 5.0ms\n",
      "Speed: 1.0ms preprocess, 5.0ms inference, 1.0ms postprocess per image at shape (1, 3, 256, 416)\n",
      "\n",
      "0: 256x416 1 fish, 1 stingray, 5.0ms\n",
      "Speed: 1.0ms preprocess, 5.0ms inference, 2.0ms postprocess per image at shape (1, 3, 256, 416)\n",
      "\n",
      "0: 256x416 1 fish, 5.0ms\n",
      "Speed: 2.0ms preprocess, 5.0ms inference, 1.0ms postprocess per image at shape (1, 3, 256, 416)\n",
      "\n",
      "0: 256x416 1 fish, 6.0ms\n",
      "Speed: 1.0ms preprocess, 6.0ms inference, 1.0ms postprocess per image at shape (1, 3, 256, 416)\n",
      "\n",
      "0: 256x416 1 fish, 5.0ms\n",
      "Speed: 1.0ms preprocess, 5.0ms inference, 2.0ms postprocess per image at shape (1, 3, 256, 416)\n"
     ]
    },
    {
     "data": {
      "text/plain": [
       "<Figure size 1000x600 with 1 Axes>"
      ]
     },
     "metadata": {},
     "output_type": "display_data"
    },
    {
     "name": "stdout",
     "output_type": "stream",
     "text": [
      "\n",
      "0: 256x416 1 fish, 1 stingray, 5.0ms\n",
      "Speed: 1.0ms preprocess, 5.0ms inference, 1.0ms postprocess per image at shape (1, 3, 256, 416)\n",
      "\n",
      "0: 256x416 1 fish, 1 stingray, 5.0ms\n",
      "Speed: 1.0ms preprocess, 5.0ms inference, 1.0ms postprocess per image at shape (1, 3, 256, 416)\n",
      "\n",
      "0: 256x416 1 fish, 1 stingray, 6.0ms\n",
      "Speed: 1.0ms preprocess, 6.0ms inference, 1.0ms postprocess per image at shape (1, 3, 256, 416)\n",
      "\n",
      "0: 256x416 1 fish, 1 stingray, 6.0ms\n",
      "Speed: 1.0ms preprocess, 6.0ms inference, 1.0ms postprocess per image at shape (1, 3, 256, 416)\n",
      "\n",
      "0: 256x416 1 fish, 1 stingray, 5.0ms\n",
      "Speed: 3.0ms preprocess, 5.0ms inference, 1.0ms postprocess per image at shape (1, 3, 256, 416)\n",
      "\n",
      "0: 256x416 1 fish, 1 stingray, 5.0ms\n",
      "Speed: 1.0ms preprocess, 5.0ms inference, 1.0ms postprocess per image at shape (1, 3, 256, 416)\n",
      "\n",
      "0: 256x416 1 fish, 1 stingray, 6.0ms\n",
      "Speed: 1.0ms preprocess, 6.0ms inference, 1.0ms postprocess per image at shape (1, 3, 256, 416)\n",
      "\n",
      "0: 256x416 1 fish, 1 stingray, 6.0ms\n",
      "Speed: 1.0ms preprocess, 6.0ms inference, 1.0ms postprocess per image at shape (1, 3, 256, 416)\n",
      "\n",
      "0: 256x416 1 fish, 1 stingray, 5.0ms\n",
      "Speed: 1.0ms preprocess, 5.0ms inference, 1.0ms postprocess per image at shape (1, 3, 256, 416)\n",
      "\n",
      "0: 256x416 1 fish, 1 stingray, 5.0ms\n",
      "Speed: 1.0ms preprocess, 5.0ms inference, 1.0ms postprocess per image at shape (1, 3, 256, 416)\n",
      "\n",
      "0: 256x416 1 fish, 1 stingray, 5.0ms\n",
      "Speed: 2.0ms preprocess, 5.0ms inference, 1.0ms postprocess per image at shape (1, 3, 256, 416)\n",
      "\n",
      "0: 256x416 1 fish, 1 stingray, 6.0ms\n",
      "Speed: 1.0ms preprocess, 6.0ms inference, 1.0ms postprocess per image at shape (1, 3, 256, 416)\n",
      "\n",
      "0: 256x416 1 fish, 1 stingray, 5.0ms\n",
      "Speed: 1.0ms preprocess, 5.0ms inference, 1.0ms postprocess per image at shape (1, 3, 256, 416)\n",
      "\n",
      "0: 256x416 1 fish, 1 stingray, 5.0ms\n",
      "Speed: 1.0ms preprocess, 5.0ms inference, 1.0ms postprocess per image at shape (1, 3, 256, 416)\n",
      "\n",
      "0: 256x416 1 fish, 1 stingray, 6.0ms\n",
      "Speed: 1.0ms preprocess, 6.0ms inference, 1.0ms postprocess per image at shape (1, 3, 256, 416)\n",
      "\n",
      "0: 256x416 1 fish, 1 stingray, 8.0ms\n",
      "Speed: 1.0ms preprocess, 8.0ms inference, 1.0ms postprocess per image at shape (1, 3, 256, 416)\n",
      "\n",
      "0: 256x416 1 fish, 1 stingray, 5.0ms\n",
      "Speed: 1.0ms preprocess, 5.0ms inference, 1.0ms postprocess per image at shape (1, 3, 256, 416)\n",
      "\n",
      "0: 256x416 1 fish, 1 stingray, 5.0ms\n",
      "Speed: 1.0ms preprocess, 5.0ms inference, 1.0ms postprocess per image at shape (1, 3, 256, 416)\n",
      "\n",
      "0: 256x416 1 fish, 1 stingray, 6.0ms\n",
      "Speed: 1.0ms preprocess, 6.0ms inference, 1.0ms postprocess per image at shape (1, 3, 256, 416)\n",
      "\n",
      "0: 256x416 1 fish, 1 stingray, 6.0ms\n",
      "Speed: 1.0ms preprocess, 6.0ms inference, 1.0ms postprocess per image at shape (1, 3, 256, 416)\n",
      "\n",
      "0: 256x416 1 fish, 1 stingray, 7.0ms\n",
      "Speed: 1.0ms preprocess, 7.0ms inference, 1.0ms postprocess per image at shape (1, 3, 256, 416)\n",
      "\n",
      "0: 256x416 1 fish, 1 stingray, 5.0ms\n",
      "Speed: 1.0ms preprocess, 5.0ms inference, 2.0ms postprocess per image at shape (1, 3, 256, 416)\n",
      "\n",
      "0: 256x416 1 fish, 1 stingray, 6.0ms\n",
      "Speed: 1.0ms preprocess, 6.0ms inference, 1.0ms postprocess per image at shape (1, 3, 256, 416)\n",
      "\n",
      "0: 256x416 1 fish, 1 shark, 1 stingray, 6.0ms\n",
      "Speed: 1.0ms preprocess, 6.0ms inference, 1.0ms postprocess per image at shape (1, 3, 256, 416)\n",
      "\n",
      "0: 256x416 1 fish, 1 shark, 1 stingray, 5.0ms\n",
      "Speed: 2.0ms preprocess, 5.0ms inference, 1.0ms postprocess per image at shape (1, 3, 256, 416)\n",
      "\n",
      "0: 256x416 1 fish, 1 shark, 1 stingray, 6.0ms\n",
      "Speed: 1.0ms preprocess, 6.0ms inference, 1.0ms postprocess per image at shape (1, 3, 256, 416)\n",
      "\n",
      "0: 256x416 1 fish, 1 stingray, 5.0ms\n",
      "Speed: 1.0ms preprocess, 5.0ms inference, 1.0ms postprocess per image at shape (1, 3, 256, 416)\n",
      "\n",
      "0: 256x416 1 fish, 1 stingray, 5.0ms\n",
      "Speed: 1.0ms preprocess, 5.0ms inference, 1.0ms postprocess per image at shape (1, 3, 256, 416)\n",
      "\n",
      "0: 256x416 1 fish, 1 stingray, 6.0ms\n",
      "Speed: 1.0ms preprocess, 6.0ms inference, 1.0ms postprocess per image at shape (1, 3, 256, 416)\n",
      "\n",
      "0: 256x416 1 fish, 1 stingray, 7.0ms\n",
      "Speed: 1.0ms preprocess, 7.0ms inference, 2.0ms postprocess per image at shape (1, 3, 256, 416)\n"
     ]
    },
    {
     "data": {
      "text/plain": [
       "<Figure size 1000x600 with 1 Axes>"
      ]
     },
     "metadata": {},
     "output_type": "display_data"
    },
    {
     "name": "stdout",
     "output_type": "stream",
     "text": [
      "\n",
      "0: 256x416 1 fish, 1 stingray, 6.0ms\n",
      "Speed: 2.0ms preprocess, 6.0ms inference, 1.0ms postprocess per image at shape (1, 3, 256, 416)\n",
      "\n",
      "0: 256x416 1 fish, 1 stingray, 5.0ms\n",
      "Speed: 1.0ms preprocess, 5.0ms inference, 1.0ms postprocess per image at shape (1, 3, 256, 416)\n",
      "\n",
      "0: 256x416 1 fish, 1 stingray, 5.0ms\n",
      "Speed: 1.0ms preprocess, 5.0ms inference, 1.0ms postprocess per image at shape (1, 3, 256, 416)\n",
      "\n",
      "0: 256x416 1 fish, 1 stingray, 6.0ms\n",
      "Speed: 1.0ms preprocess, 6.0ms inference, 1.0ms postprocess per image at shape (1, 3, 256, 416)\n",
      "\n",
      "0: 256x416 1 fish, 1 stingray, 5.0ms\n",
      "Speed: 1.0ms preprocess, 5.0ms inference, 1.0ms postprocess per image at shape (1, 3, 256, 416)\n",
      "\n",
      "0: 256x416 1 fish, 1 stingray, 5.0ms\n",
      "Speed: 1.0ms preprocess, 5.0ms inference, 1.0ms postprocess per image at shape (1, 3, 256, 416)\n",
      "\n",
      "0: 256x416 1 fish, 1 stingray, 5.0ms\n",
      "Speed: 1.0ms preprocess, 5.0ms inference, 1.0ms postprocess per image at shape (1, 3, 256, 416)\n",
      "\n",
      "0: 256x416 1 fish, 1 stingray, 5.0ms\n",
      "Speed: 1.0ms preprocess, 5.0ms inference, 1.0ms postprocess per image at shape (1, 3, 256, 416)\n",
      "\n",
      "0: 256x416 1 fish, 1 stingray, 5.0ms\n",
      "Speed: 2.0ms preprocess, 5.0ms inference, 1.0ms postprocess per image at shape (1, 3, 256, 416)\n",
      "\n",
      "0: 256x416 1 fish, 1 stingray, 6.0ms\n",
      "Speed: 1.0ms preprocess, 6.0ms inference, 1.0ms postprocess per image at shape (1, 3, 256, 416)\n",
      "\n",
      "0: 256x416 1 fish, 1 stingray, 5.0ms\n",
      "Speed: 1.0ms preprocess, 5.0ms inference, 1.0ms postprocess per image at shape (1, 3, 256, 416)\n",
      "\n",
      "0: 256x416 1 fish, 1 stingray, 5.0ms\n",
      "Speed: 1.0ms preprocess, 5.0ms inference, 1.0ms postprocess per image at shape (1, 3, 256, 416)\n",
      "\n",
      "0: 256x416 1 fish, 1 stingray, 5.0ms\n",
      "Speed: 2.0ms preprocess, 5.0ms inference, 1.0ms postprocess per image at shape (1, 3, 256, 416)\n",
      "\n",
      "0: 256x416 1 fish, 1 stingray, 6.0ms\n",
      "Speed: 1.0ms preprocess, 6.0ms inference, 1.0ms postprocess per image at shape (1, 3, 256, 416)\n",
      "\n",
      "0: 256x416 1 fish, 1 stingray, 5.0ms\n",
      "Speed: 1.0ms preprocess, 5.0ms inference, 1.0ms postprocess per image at shape (1, 3, 256, 416)\n",
      "\n",
      "0: 256x416 1 fish, 1 stingray, 11.0ms\n",
      "Speed: 1.0ms preprocess, 11.0ms inference, 2.0ms postprocess per image at shape (1, 3, 256, 416)\n",
      "\n",
      "0: 256x416 1 fish, 1 stingray, 5.5ms\n",
      "Speed: 1.0ms preprocess, 5.5ms inference, 1.5ms postprocess per image at shape (1, 3, 256, 416)\n",
      "\n",
      "0: 256x416 1 fish, 5.0ms\n",
      "Speed: 1.0ms preprocess, 5.0ms inference, 1.0ms postprocess per image at shape (1, 3, 256, 416)\n",
      "\n",
      "0: 256x416 1 fish, 6.0ms\n",
      "Speed: 1.0ms preprocess, 6.0ms inference, 1.0ms postprocess per image at shape (1, 3, 256, 416)\n",
      "\n",
      "0: 256x416 1 fish, 6.0ms\n",
      "Speed: 1.0ms preprocess, 6.0ms inference, 1.0ms postprocess per image at shape (1, 3, 256, 416)\n",
      "\n",
      "0: 256x416 1 fish, 6.0ms\n",
      "Speed: 1.0ms preprocess, 6.0ms inference, 2.0ms postprocess per image at shape (1, 3, 256, 416)\n",
      "\n",
      "0: 256x416 1 fish, 6.0ms\n",
      "Speed: 1.0ms preprocess, 6.0ms inference, 1.0ms postprocess per image at shape (1, 3, 256, 416)\n",
      "\n",
      "0: 256x416 1 fish, 5.0ms\n",
      "Speed: 1.0ms preprocess, 5.0ms inference, 0.0ms postprocess per image at shape (1, 3, 256, 416)\n",
      "\n",
      "0: 256x416 1 fish, 6.0ms\n",
      "Speed: 1.0ms preprocess, 6.0ms inference, 1.0ms postprocess per image at shape (1, 3, 256, 416)\n",
      "\n",
      "0: 256x416 1 fish, 1 stingray, 6.0ms\n",
      "Speed: 2.0ms preprocess, 6.0ms inference, 1.0ms postprocess per image at shape (1, 3, 256, 416)\n",
      "\n",
      "0: 256x416 1 fish, 5.0ms\n",
      "Speed: 1.0ms preprocess, 5.0ms inference, 1.0ms postprocess per image at shape (1, 3, 256, 416)\n",
      "\n",
      "0: 256x416 1 fish, 1 stingray, 6.0ms\n",
      "Speed: 1.0ms preprocess, 6.0ms inference, 1.0ms postprocess per image at shape (1, 3, 256, 416)\n",
      "\n",
      "0: 256x416 1 fish, 1 stingray, 6.0ms\n",
      "Speed: 2.0ms preprocess, 6.0ms inference, 1.0ms postprocess per image at shape (1, 3, 256, 416)\n",
      "\n",
      "0: 256x416 1 fish, 1 stingray, 6.0ms\n",
      "Speed: 1.0ms preprocess, 6.0ms inference, 1.0ms postprocess per image at shape (1, 3, 256, 416)\n",
      "\n",
      "0: 256x416 1 fish, 1 stingray, 5.0ms\n",
      "Speed: 1.0ms preprocess, 5.0ms inference, 1.0ms postprocess per image at shape (1, 3, 256, 416)\n"
     ]
    },
    {
     "data": {
      "text/plain": [
       "<Figure size 1000x600 with 1 Axes>"
      ]
     },
     "metadata": {},
     "output_type": "display_data"
    },
    {
     "name": "stdout",
     "output_type": "stream",
     "text": [
      "\n",
      "0: 256x416 1 fish, 1 stingray, 6.0ms\n",
      "Speed: 1.0ms preprocess, 6.0ms inference, 1.0ms postprocess per image at shape (1, 3, 256, 416)\n",
      "\n",
      "0: 256x416 1 fish, 1 stingray, 6.0ms\n",
      "Speed: 1.0ms preprocess, 6.0ms inference, 1.0ms postprocess per image at shape (1, 3, 256, 416)\n",
      "\n",
      "0: 256x416 1 fish, 5.0ms\n",
      "Speed: 1.0ms preprocess, 5.0ms inference, 1.0ms postprocess per image at shape (1, 3, 256, 416)\n",
      "\n",
      "0: 256x416 1 fish, 5.0ms\n",
      "Speed: 1.0ms preprocess, 5.0ms inference, 1.0ms postprocess per image at shape (1, 3, 256, 416)\n",
      "\n",
      "0: 256x416 1 fish, 13.0ms\n",
      "Speed: 2.0ms preprocess, 13.0ms inference, 1.0ms postprocess per image at shape (1, 3, 256, 416)\n",
      "\n",
      "0: 256x416 1 fish, 1 stingray, 5.0ms\n",
      "Speed: 1.0ms preprocess, 5.0ms inference, 1.0ms postprocess per image at shape (1, 3, 256, 416)\n",
      "\n",
      "0: 256x416 1 fish, 6.1ms\n",
      "Speed: 1.0ms preprocess, 6.1ms inference, 1.0ms postprocess per image at shape (1, 3, 256, 416)\n",
      "\n",
      "0: 256x416 1 fish, 6.0ms\n",
      "Speed: 1.0ms preprocess, 6.0ms inference, 1.0ms postprocess per image at shape (1, 3, 256, 416)\n",
      "\n",
      "0: 256x416 1 fish, 1 stingray, 6.0ms\n",
      "Speed: 1.0ms preprocess, 6.0ms inference, 1.0ms postprocess per image at shape (1, 3, 256, 416)\n",
      "\n",
      "0: 256x416 1 fish, 1 stingray, 6.0ms\n",
      "Speed: 1.0ms preprocess, 6.0ms inference, 1.0ms postprocess per image at shape (1, 3, 256, 416)\n",
      "\n",
      "0: 256x416 1 fish, 1 stingray, 6.0ms\n",
      "Speed: 2.0ms preprocess, 6.0ms inference, 1.0ms postprocess per image at shape (1, 3, 256, 416)\n",
      "\n",
      "0: 256x416 1 fish, 1 stingray, 5.0ms\n",
      "Speed: 1.0ms preprocess, 5.0ms inference, 1.0ms postprocess per image at shape (1, 3, 256, 416)\n",
      "\n",
      "0: 256x416 1 fish, 1 stingray, 6.0ms\n",
      "Speed: 1.0ms preprocess, 6.0ms inference, 1.0ms postprocess per image at shape (1, 3, 256, 416)\n",
      "\n",
      "0: 256x416 1 fish, 1 stingray, 6.0ms\n",
      "Speed: 1.0ms preprocess, 6.0ms inference, 1.0ms postprocess per image at shape (1, 3, 256, 416)\n",
      "\n",
      "0: 256x416 1 fish, 1 stingray, 6.0ms\n",
      "Speed: 1.0ms preprocess, 6.0ms inference, 1.0ms postprocess per image at shape (1, 3, 256, 416)\n",
      "\n",
      "0: 256x416 1 fish, 1 stingray, 6.0ms\n",
      "Speed: 2.0ms preprocess, 6.0ms inference, 2.0ms postprocess per image at shape (1, 3, 256, 416)\n",
      "\n",
      "0: 256x416 1 fish, 1 stingray, 7.0ms\n",
      "Speed: 1.0ms preprocess, 7.0ms inference, 1.0ms postprocess per image at shape (1, 3, 256, 416)\n",
      "\n",
      "0: 256x416 1 fish, 1 stingray, 5.0ms\n",
      "Speed: 1.0ms preprocess, 5.0ms inference, 2.0ms postprocess per image at shape (1, 3, 256, 416)\n",
      "\n",
      "0: 256x416 1 fish, 1 stingray, 6.0ms\n",
      "Speed: 1.0ms preprocess, 6.0ms inference, 1.0ms postprocess per image at shape (1, 3, 256, 416)\n",
      "\n",
      "0: 256x416 1 fish, 1 stingray, 5.0ms\n",
      "Speed: 2.0ms preprocess, 5.0ms inference, 1.0ms postprocess per image at shape (1, 3, 256, 416)\n",
      "\n",
      "0: 256x416 1 fish, 1 stingray, 6.0ms\n",
      "Speed: 1.0ms preprocess, 6.0ms inference, 1.0ms postprocess per image at shape (1, 3, 256, 416)\n",
      "\n",
      "0: 256x416 1 fish, 1 stingray, 6.0ms\n",
      "Speed: 1.0ms preprocess, 6.0ms inference, 1.0ms postprocess per image at shape (1, 3, 256, 416)\n",
      "\n",
      "0: 256x416 1 fish, 1 stingray, 5.0ms\n",
      "Speed: 1.0ms preprocess, 5.0ms inference, 1.0ms postprocess per image at shape (1, 3, 256, 416)\n",
      "\n",
      "0: 256x416 1 fish, 1 shark, 1 stingray, 7.7ms\n",
      "Speed: 1.9ms preprocess, 7.7ms inference, 1.1ms postprocess per image at shape (1, 3, 256, 416)\n",
      "\n",
      "0: 256x416 1 fish, 1 stingray, 5.0ms\n",
      "Speed: 1.0ms preprocess, 5.0ms inference, 1.0ms postprocess per image at shape (1, 3, 256, 416)\n",
      "\n",
      "0: 256x416 1 fish, 1 stingray, 5.0ms\n",
      "Speed: 2.0ms preprocess, 5.0ms inference, 1.0ms postprocess per image at shape (1, 3, 256, 416)\n",
      "\n",
      "0: 256x416 1 fish, 1 stingray, 5.0ms\n",
      "Speed: 1.0ms preprocess, 5.0ms inference, 1.0ms postprocess per image at shape (1, 3, 256, 416)\n",
      "\n",
      "0: 256x416 1 fish, 1 stingray, 5.0ms\n",
      "Speed: 1.0ms preprocess, 5.0ms inference, 1.0ms postprocess per image at shape (1, 3, 256, 416)\n",
      "\n",
      "0: 256x416 1 fish, 1 stingray, 5.0ms\n",
      "Speed: 1.0ms preprocess, 5.0ms inference, 1.0ms postprocess per image at shape (1, 3, 256, 416)\n",
      "\n",
      "0: 256x416 1 fish, 1 stingray, 5.0ms\n",
      "Speed: 1.0ms preprocess, 5.0ms inference, 1.0ms postprocess per image at shape (1, 3, 256, 416)\n"
     ]
    },
    {
     "data": {
      "text/plain": [
       "<Figure size 1000x600 with 1 Axes>"
      ]
     },
     "metadata": {},
     "output_type": "display_data"
    },
    {
     "name": "stdout",
     "output_type": "stream",
     "text": [
      "\n",
      "0: 256x416 1 fish, 1 stingray, 6.0ms\n",
      "Speed: 1.0ms preprocess, 6.0ms inference, 1.0ms postprocess per image at shape (1, 3, 256, 416)\n",
      "\n",
      "0: 256x416 1 fish, 1 stingray, 6.0ms\n",
      "Speed: 1.0ms preprocess, 6.0ms inference, 1.0ms postprocess per image at shape (1, 3, 256, 416)\n",
      "\n",
      "0: 256x416 1 fish, 1 stingray, 5.0ms\n",
      "Speed: 3.0ms preprocess, 5.0ms inference, 1.0ms postprocess per image at shape (1, 3, 256, 416)\n",
      "\n",
      "0: 256x416 1 fish, 1 stingray, 5.0ms\n",
      "Speed: 2.0ms preprocess, 5.0ms inference, 1.0ms postprocess per image at shape (1, 3, 256, 416)\n",
      "\n",
      "0: 256x416 1 fish, 1 stingray, 5.0ms\n",
      "Speed: 1.0ms preprocess, 5.0ms inference, 1.0ms postprocess per image at shape (1, 3, 256, 416)\n",
      "\n",
      "0: 256x416 1 fish, 1 stingray, 7.0ms\n",
      "Speed: 1.0ms preprocess, 7.0ms inference, 1.0ms postprocess per image at shape (1, 3, 256, 416)\n",
      "\n",
      "0: 256x416 1 fish, 1 stingray, 5.0ms\n",
      "Speed: 1.0ms preprocess, 5.0ms inference, 1.0ms postprocess per image at shape (1, 3, 256, 416)\n",
      "\n",
      "0: 256x416 1 fish, 1 stingray, 5.0ms\n",
      "Speed: 1.0ms preprocess, 5.0ms inference, 1.0ms postprocess per image at shape (1, 3, 256, 416)\n",
      "\n",
      "0: 256x416 1 fish, 1 stingray, 5.0ms\n",
      "Speed: 2.0ms preprocess, 5.0ms inference, 1.0ms postprocess per image at shape (1, 3, 256, 416)\n",
      "\n",
      "0: 256x416 1 fish, 1 stingray, 5.0ms\n",
      "Speed: 2.0ms preprocess, 5.0ms inference, 1.0ms postprocess per image at shape (1, 3, 256, 416)\n",
      "\n",
      "0: 256x416 1 fish, 1 stingray, 6.0ms\n",
      "Speed: 1.0ms preprocess, 6.0ms inference, 1.0ms postprocess per image at shape (1, 3, 256, 416)\n",
      "\n",
      "0: 256x416 1 fish, 1 stingray, 5.0ms\n",
      "Speed: 2.0ms preprocess, 5.0ms inference, 1.0ms postprocess per image at shape (1, 3, 256, 416)\n",
      "\n",
      "0: 256x416 1 fish, 1 stingray, 5.0ms\n",
      "Speed: 1.0ms preprocess, 5.0ms inference, 1.0ms postprocess per image at shape (1, 3, 256, 416)\n",
      "\n",
      "0: 256x416 1 fish, 1 stingray, 5.0ms\n",
      "Speed: 1.0ms preprocess, 5.0ms inference, 2.0ms postprocess per image at shape (1, 3, 256, 416)\n",
      "\n",
      "0: 256x416 1 fish, 6.0ms\n",
      "Speed: 1.0ms preprocess, 6.0ms inference, 1.0ms postprocess per image at shape (1, 3, 256, 416)\n",
      "\n",
      "0: 256x416 1 fish, 1 shark, 1 stingray, 6.0ms\n",
      "Speed: 1.0ms preprocess, 6.0ms inference, 1.0ms postprocess per image at shape (1, 3, 256, 416)\n",
      "\n",
      "0: 256x416 1 fish, 1 shark, 1 stingray, 5.0ms\n",
      "Speed: 1.0ms preprocess, 5.0ms inference, 2.0ms postprocess per image at shape (1, 3, 256, 416)\n",
      "\n",
      "0: 256x416 1 fish, 1 stingray, 5.0ms\n",
      "Speed: 1.0ms preprocess, 5.0ms inference, 1.0ms postprocess per image at shape (1, 3, 256, 416)\n",
      "\n",
      "0: 256x416 1 fish, 1 stingray, 6.0ms\n",
      "Speed: 1.0ms preprocess, 6.0ms inference, 1.0ms postprocess per image at shape (1, 3, 256, 416)\n",
      "\n",
      "0: 256x416 1 fish, 1 stingray, 6.0ms\n",
      "Speed: 1.0ms preprocess, 6.0ms inference, 1.0ms postprocess per image at shape (1, 3, 256, 416)\n",
      "\n",
      "0: 256x416 1 fish, 1 stingray, 5.0ms\n",
      "Speed: 0.0ms preprocess, 5.0ms inference, 1.0ms postprocess per image at shape (1, 3, 256, 416)\n",
      "\n",
      "0: 256x416 1 fish, 1 stingray, 5.0ms\n",
      "Speed: 1.0ms preprocess, 5.0ms inference, 1.0ms postprocess per image at shape (1, 3, 256, 416)\n",
      "\n",
      "0: 256x416 1 fish, 1 stingray, 5.0ms\n",
      "Speed: 1.0ms preprocess, 5.0ms inference, 1.0ms postprocess per image at shape (1, 3, 256, 416)\n",
      "\n",
      "0: 256x416 1 fish, 1 stingray, 6.0ms\n",
      "Speed: 1.0ms preprocess, 6.0ms inference, 1.0ms postprocess per image at shape (1, 3, 256, 416)\n",
      "\n",
      "0: 256x416 1 fish, 1 shark, 1 stingray, 5.0ms\n",
      "Speed: 2.0ms preprocess, 5.0ms inference, 1.0ms postprocess per image at shape (1, 3, 256, 416)\n",
      "\n",
      "0: 256x416 1 fish, 1 shark, 1 stingray, 6.0ms\n",
      "Speed: 1.0ms preprocess, 6.0ms inference, 1.0ms postprocess per image at shape (1, 3, 256, 416)\n",
      "\n",
      "0: 256x416 1 fish, 1 shark, 1 stingray, 6.0ms\n",
      "Speed: 1.0ms preprocess, 6.0ms inference, 1.0ms postprocess per image at shape (1, 3, 256, 416)\n",
      "\n",
      "0: 256x416 1 fish, 1 shark, 1 stingray, 5.0ms\n",
      "Speed: 2.0ms preprocess, 5.0ms inference, 2.0ms postprocess per image at shape (1, 3, 256, 416)\n",
      "\n",
      "0: 256x416 1 fish, 1 shark, 1 stingray, 6.0ms\n",
      "Speed: 1.0ms preprocess, 6.0ms inference, 1.0ms postprocess per image at shape (1, 3, 256, 416)\n",
      "\n",
      "0: 256x416 1 fish, 1 shark, 1 stingray, 5.0ms\n",
      "Speed: 1.0ms preprocess, 5.0ms inference, 1.0ms postprocess per image at shape (1, 3, 256, 416)\n"
     ]
    },
    {
     "data": {
      "text/plain": [
       "<Figure size 1000x600 with 1 Axes>"
      ]
     },
     "metadata": {},
     "output_type": "display_data"
    },
    {
     "name": "stdout",
     "output_type": "stream",
     "text": [
      "\n",
      "0: 256x416 1 fish, 1 shark, 1 stingray, 5.0ms\n",
      "Speed: 2.0ms preprocess, 5.0ms inference, 1.0ms postprocess per image at shape (1, 3, 256, 416)\n",
      "\n",
      "0: 256x416 1 fish, 1 shark, 1 stingray, 5.0ms\n",
      "Speed: 3.0ms preprocess, 5.0ms inference, 1.0ms postprocess per image at shape (1, 3, 256, 416)\n",
      "\n",
      "0: 256x416 1 fish, 1 shark, 1 stingray, 6.0ms\n",
      "Speed: 1.0ms preprocess, 6.0ms inference, 1.0ms postprocess per image at shape (1, 3, 256, 416)\n",
      "\n",
      "0: 256x416 1 fish, 1 shark, 1 stingray, 6.0ms\n",
      "Speed: 1.0ms preprocess, 6.0ms inference, 1.0ms postprocess per image at shape (1, 3, 256, 416)\n",
      "\n",
      "0: 256x416 1 fish, 1 shark, 1 stingray, 6.0ms\n",
      "Speed: 1.0ms preprocess, 6.0ms inference, 1.0ms postprocess per image at shape (1, 3, 256, 416)\n",
      "\n",
      "0: 256x416 1 fish, 1 shark, 1 stingray, 5.0ms\n",
      "Speed: 1.0ms preprocess, 5.0ms inference, 1.0ms postprocess per image at shape (1, 3, 256, 416)\n",
      "\n",
      "0: 256x416 1 fish, 1 shark, 1 stingray, 5.0ms\n",
      "Speed: 1.0ms preprocess, 5.0ms inference, 1.0ms postprocess per image at shape (1, 3, 256, 416)\n",
      "\n",
      "0: 256x416 1 fish, 1 shark, 1 stingray, 6.0ms\n",
      "Speed: 2.0ms preprocess, 6.0ms inference, 1.0ms postprocess per image at shape (1, 3, 256, 416)\n",
      "\n",
      "0: 256x416 1 fish, 1 shark, 1 stingray, 6.0ms\n",
      "Speed: 1.0ms preprocess, 6.0ms inference, 1.0ms postprocess per image at shape (1, 3, 256, 416)\n",
      "\n",
      "0: 256x416 1 fish, 1 shark, 1 stingray, 6.0ms\n",
      "Speed: 1.0ms preprocess, 6.0ms inference, 1.0ms postprocess per image at shape (1, 3, 256, 416)\n",
      "\n",
      "0: 256x416 1 fish, 1 shark, 1 stingray, 5.0ms\n",
      "Speed: 1.0ms preprocess, 5.0ms inference, 2.0ms postprocess per image at shape (1, 3, 256, 416)\n",
      "\n",
      "0: 256x416 1 fish, 1 shark, 1 stingray, 6.0ms\n",
      "Speed: 1.0ms preprocess, 6.0ms inference, 1.0ms postprocess per image at shape (1, 3, 256, 416)\n",
      "\n",
      "0: 256x416 1 fish, 1 shark, 1 stingray, 6.0ms\n",
      "Speed: 0.0ms preprocess, 6.0ms inference, 1.0ms postprocess per image at shape (1, 3, 256, 416)\n",
      "\n",
      "0: 256x416 1 fish, 1 stingray, 5.0ms\n",
      "Speed: 1.0ms preprocess, 5.0ms inference, 1.0ms postprocess per image at shape (1, 3, 256, 416)\n",
      "\n",
      "0: 256x416 1 fish, 1 stingray, 6.0ms\n",
      "Speed: 1.0ms preprocess, 6.0ms inference, 1.0ms postprocess per image at shape (1, 3, 256, 416)\n",
      "\n",
      "0: 256x416 1 fish, 1 stingray, 6.0ms\n",
      "Speed: 1.0ms preprocess, 6.0ms inference, 1.0ms postprocess per image at shape (1, 3, 256, 416)\n",
      "\n",
      "0: 256x416 1 fish, 1 stingray, 5.0ms\n",
      "Speed: 1.0ms preprocess, 5.0ms inference, 1.0ms postprocess per image at shape (1, 3, 256, 416)\n",
      "\n",
      "0: 256x416 1 fish, 1 stingray, 5.0ms\n",
      "Speed: 1.0ms preprocess, 5.0ms inference, 0.0ms postprocess per image at shape (1, 3, 256, 416)\n",
      "\n",
      "0: 256x416 1 fish, 1 stingray, 5.0ms\n",
      "Speed: 1.0ms preprocess, 5.0ms inference, 1.0ms postprocess per image at shape (1, 3, 256, 416)\n",
      "\n",
      "0: 256x416 1 fish, 1 stingray, 5.0ms\n",
      "Speed: 1.0ms preprocess, 5.0ms inference, 1.0ms postprocess per image at shape (1, 3, 256, 416)\n",
      "\n",
      "0: 256x416 1 fish, 1 stingray, 6.0ms\n",
      "Speed: 1.0ms preprocess, 6.0ms inference, 1.0ms postprocess per image at shape (1, 3, 256, 416)\n",
      "\n",
      "0: 256x416 1 fish, 1 stingray, 6.0ms\n",
      "Speed: 1.0ms preprocess, 6.0ms inference, 2.0ms postprocess per image at shape (1, 3, 256, 416)\n",
      "\n",
      "0: 256x416 1 fish, 1 stingray, 6.0ms\n",
      "Speed: 1.0ms preprocess, 6.0ms inference, 1.0ms postprocess per image at shape (1, 3, 256, 416)\n",
      "\n",
      "0: 256x416 1 fish, 1 stingray, 6.0ms\n",
      "Speed: 1.0ms preprocess, 6.0ms inference, 0.0ms postprocess per image at shape (1, 3, 256, 416)\n",
      "\n",
      "0: 256x416 1 fish, 1 stingray, 6.0ms\n",
      "Speed: 1.0ms preprocess, 6.0ms inference, 1.0ms postprocess per image at shape (1, 3, 256, 416)\n",
      "\n",
      "0: 256x416 1 fish, 1 stingray, 5.0ms\n",
      "Speed: 1.0ms preprocess, 5.0ms inference, 1.0ms postprocess per image at shape (1, 3, 256, 416)\n",
      "\n",
      "0: 256x416 1 fish, 1 stingray, 6.0ms\n",
      "Speed: 1.0ms preprocess, 6.0ms inference, 1.0ms postprocess per image at shape (1, 3, 256, 416)\n",
      "\n",
      "0: 256x416 1 fish, 1 stingray, 6.0ms\n",
      "Speed: 1.0ms preprocess, 6.0ms inference, 1.0ms postprocess per image at shape (1, 3, 256, 416)\n",
      "\n",
      "0: 256x416 1 fish, 1 stingray, 5.0ms\n",
      "Speed: 1.0ms preprocess, 5.0ms inference, 1.0ms postprocess per image at shape (1, 3, 256, 416)\n",
      "\n",
      "0: 256x416 1 fish, 1 stingray, 6.0ms\n",
      "Speed: 1.0ms preprocess, 6.0ms inference, 0.0ms postprocess per image at shape (1, 3, 256, 416)\n"
     ]
    },
    {
     "data": {
      "text/plain": [
       "<Figure size 1000x600 with 1 Axes>"
      ]
     },
     "metadata": {},
     "output_type": "display_data"
    },
    {
     "name": "stdout",
     "output_type": "stream",
     "text": [
      "\n",
      "0: 256x416 1 fish, 1 stingray, 6.0ms\n",
      "Speed: 1.0ms preprocess, 6.0ms inference, 1.0ms postprocess per image at shape (1, 3, 256, 416)\n",
      "\n",
      "0: 256x416 1 fish, 1 stingray, 6.0ms\n",
      "Speed: 1.0ms preprocess, 6.0ms inference, 2.0ms postprocess per image at shape (1, 3, 256, 416)\n",
      "\n",
      "0: 256x416 1 fish, 1 stingray, 6.0ms\n",
      "Speed: 1.0ms preprocess, 6.0ms inference, 1.0ms postprocess per image at shape (1, 3, 256, 416)\n",
      "\n",
      "0: 256x416 1 fish, 1 stingray, 6.0ms\n",
      "Speed: 2.0ms preprocess, 6.0ms inference, 1.0ms postprocess per image at shape (1, 3, 256, 416)\n",
      "\n",
      "0: 256x416 1 fish, 1 stingray, 5.0ms\n",
      "Speed: 1.0ms preprocess, 5.0ms inference, 1.0ms postprocess per image at shape (1, 3, 256, 416)\n",
      "\n",
      "0: 256x416 1 fish, 1 stingray, 6.0ms\n",
      "Speed: 1.0ms preprocess, 6.0ms inference, 1.0ms postprocess per image at shape (1, 3, 256, 416)\n",
      "\n",
      "0: 256x416 1 fish, 1 stingray, 6.0ms\n",
      "Speed: 3.0ms preprocess, 6.0ms inference, 0.0ms postprocess per image at shape (1, 3, 256, 416)\n",
      "\n",
      "0: 256x416 1 fish, 1 stingray, 6.0ms\n",
      "Speed: 1.0ms preprocess, 6.0ms inference, 1.0ms postprocess per image at shape (1, 3, 256, 416)\n",
      "\n",
      "0: 256x416 1 fish, 1 shark, 1 stingray, 6.0ms\n",
      "Speed: 1.0ms preprocess, 6.0ms inference, 2.0ms postprocess per image at shape (1, 3, 256, 416)\n",
      "\n",
      "0: 256x416 1 fish, 1 shark, 1 stingray, 6.0ms\n",
      "Speed: 1.0ms preprocess, 6.0ms inference, 1.0ms postprocess per image at shape (1, 3, 256, 416)\n",
      "\n",
      "0: 256x416 1 fish, 1 shark, 1 stingray, 5.0ms\n",
      "Speed: 1.0ms preprocess, 5.0ms inference, 1.0ms postprocess per image at shape (1, 3, 256, 416)\n",
      "\n",
      "0: 256x416 1 fish, 1 shark, 1 stingray, 5.0ms\n",
      "Speed: 1.0ms preprocess, 5.0ms inference, 1.0ms postprocess per image at shape (1, 3, 256, 416)\n",
      "\n",
      "0: 256x416 1 fish, 1 shark, 1 stingray, 6.0ms\n",
      "Speed: 1.0ms preprocess, 6.0ms inference, 1.0ms postprocess per image at shape (1, 3, 256, 416)\n",
      "\n",
      "0: 256x416 1 fish, 1 shark, 1 stingray, 6.0ms\n",
      "Speed: 1.0ms preprocess, 6.0ms inference, 1.0ms postprocess per image at shape (1, 3, 256, 416)\n",
      "\n",
      "0: 256x416 1 fish, 1 shark, 1 stingray, 5.0ms\n",
      "Speed: 1.0ms preprocess, 5.0ms inference, 1.0ms postprocess per image at shape (1, 3, 256, 416)\n",
      "\n",
      "0: 256x416 1 fish, 1 shark, 1 stingray, 6.4ms\n",
      "Speed: 1.0ms preprocess, 6.4ms inference, 1.0ms postprocess per image at shape (1, 3, 256, 416)\n",
      "\n",
      "0: 256x416 1 fish, 1 shark, 1 stingray, 6.0ms\n",
      "Speed: 1.0ms preprocess, 6.0ms inference, 1.0ms postprocess per image at shape (1, 3, 256, 416)\n",
      "\n",
      "0: 256x416 1 fish, 1 shark, 1 stingray, 5.0ms\n",
      "Speed: 1.0ms preprocess, 5.0ms inference, 2.0ms postprocess per image at shape (1, 3, 256, 416)\n",
      "\n",
      "0: 256x416 1 fish, 1 shark, 1 stingray, 5.0ms\n",
      "Speed: 2.0ms preprocess, 5.0ms inference, 1.0ms postprocess per image at shape (1, 3, 256, 416)\n",
      "\n",
      "0: 256x416 1 fish, 1 shark, 1 stingray, 6.0ms\n",
      "Speed: 3.0ms preprocess, 6.0ms inference, 1.0ms postprocess per image at shape (1, 3, 256, 416)\n",
      "\n",
      "0: 256x416 1 fish, 1 shark, 1 stingray, 5.0ms\n",
      "Speed: 2.0ms preprocess, 5.0ms inference, 1.0ms postprocess per image at shape (1, 3, 256, 416)\n",
      "\n",
      "0: 256x416 1 fish, 1 shark, 1 stingray, 5.0ms\n",
      "Speed: 1.0ms preprocess, 5.0ms inference, 1.0ms postprocess per image at shape (1, 3, 256, 416)\n",
      "\n",
      "0: 256x416 1 fish, 1 shark, 1 stingray, 5.0ms\n",
      "Speed: 2.0ms preprocess, 5.0ms inference, 1.0ms postprocess per image at shape (1, 3, 256, 416)\n",
      "\n",
      "0: 256x416 1 fish, 1 shark, 1 stingray, 6.0ms\n",
      "Speed: 1.0ms preprocess, 6.0ms inference, 1.0ms postprocess per image at shape (1, 3, 256, 416)\n",
      "\n",
      "0: 256x416 1 fish, 1 shark, 1 stingray, 6.0ms\n",
      "Speed: 1.0ms preprocess, 6.0ms inference, 1.0ms postprocess per image at shape (1, 3, 256, 416)\n",
      "\n",
      "0: 256x416 1 fish, 1 shark, 1 stingray, 6.0ms\n",
      "Speed: 1.0ms preprocess, 6.0ms inference, 1.0ms postprocess per image at shape (1, 3, 256, 416)\n",
      "\n",
      "0: 256x416 1 fish, 1 shark, 1 stingray, 5.0ms\n",
      "Speed: 1.0ms preprocess, 5.0ms inference, 1.0ms postprocess per image at shape (1, 3, 256, 416)\n",
      "\n",
      "0: 256x416 1 fish, 1 shark, 1 stingray, 6.0ms\n",
      "Speed: 1.0ms preprocess, 6.0ms inference, 1.0ms postprocess per image at shape (1, 3, 256, 416)\n",
      "\n",
      "0: 256x416 1 fish, 1 shark, 1 stingray, 5.0ms\n",
      "Speed: 1.0ms preprocess, 5.0ms inference, 1.0ms postprocess per image at shape (1, 3, 256, 416)\n",
      "\n",
      "0: 256x416 1 fish, 1 shark, 1 stingray, 5.0ms\n",
      "Speed: 1.0ms preprocess, 5.0ms inference, 1.0ms postprocess per image at shape (1, 3, 256, 416)\n"
     ]
    },
    {
     "data": {
      "text/plain": [
       "<Figure size 1000x600 with 1 Axes>"
      ]
     },
     "metadata": {},
     "output_type": "display_data"
    },
    {
     "name": "stdout",
     "output_type": "stream",
     "text": [
      "\n",
      "0: 256x416 1 fish, 1 shark, 1 stingray, 5.0ms\n",
      "Speed: 1.0ms preprocess, 5.0ms inference, 1.0ms postprocess per image at shape (1, 3, 256, 416)\n",
      "\n",
      "0: 256x416 1 fish, 1 shark, 1 stingray, 7.6ms\n",
      "Speed: 2.0ms preprocess, 7.6ms inference, 1.0ms postprocess per image at shape (1, 3, 256, 416)\n",
      "\n",
      "0: 256x416 1 fish, 1 shark, 1 stingray, 6.0ms\n",
      "Speed: 2.0ms preprocess, 6.0ms inference, 2.0ms postprocess per image at shape (1, 3, 256, 416)\n",
      "\n",
      "0: 256x416 1 fish, 1 shark, 1 stingray, 6.0ms\n",
      "Speed: 1.0ms preprocess, 6.0ms inference, 1.0ms postprocess per image at shape (1, 3, 256, 416)\n",
      "\n",
      "0: 256x416 1 shark, 1 stingray, 7.0ms\n",
      "Speed: 1.0ms preprocess, 7.0ms inference, 1.0ms postprocess per image at shape (1, 3, 256, 416)\n",
      "\n",
      "0: 256x416 1 shark, 1 stingray, 7.0ms\n",
      "Speed: 1.0ms preprocess, 7.0ms inference, 1.0ms postprocess per image at shape (1, 3, 256, 416)\n",
      "\n",
      "0: 256x416 1 shark, 1 stingray, 7.0ms\n",
      "Speed: 1.0ms preprocess, 7.0ms inference, 5.0ms postprocess per image at shape (1, 3, 256, 416)\n",
      "\n",
      "0: 256x416 1 shark, 1 stingray, 6.0ms\n",
      "Speed: 1.0ms preprocess, 6.0ms inference, 1.0ms postprocess per image at shape (1, 3, 256, 416)\n",
      "\n",
      "0: 256x416 1 shark, 1 stingray, 6.0ms\n",
      "Speed: 1.0ms preprocess, 6.0ms inference, 1.0ms postprocess per image at shape (1, 3, 256, 416)\n",
      "\n",
      "0: 256x416 1 shark, 1 stingray, 5.0ms\n",
      "Speed: 1.0ms preprocess, 5.0ms inference, 1.0ms postprocess per image at shape (1, 3, 256, 416)\n",
      "\n",
      "0: 256x416 1 shark, 1 stingray, 5.0ms\n",
      "Speed: 4.0ms preprocess, 5.0ms inference, 1.0ms postprocess per image at shape (1, 3, 256, 416)\n",
      "\n",
      "0: 256x416 1 shark, 1 stingray, 6.0ms\n",
      "Speed: 1.0ms preprocess, 6.0ms inference, 1.0ms postprocess per image at shape (1, 3, 256, 416)\n",
      "\n",
      "0: 256x416 1 shark, 1 stingray, 6.0ms\n",
      "Speed: 1.0ms preprocess, 6.0ms inference, 1.0ms postprocess per image at shape (1, 3, 256, 416)\n",
      "\n",
      "0: 256x416 1 shark, 1 stingray, 5.0ms\n",
      "Speed: 1.0ms preprocess, 5.0ms inference, 1.0ms postprocess per image at shape (1, 3, 256, 416)\n",
      "\n",
      "0: 256x416 1 shark, 1 stingray, 5.0ms\n",
      "Speed: 1.0ms preprocess, 5.0ms inference, 1.0ms postprocess per image at shape (1, 3, 256, 416)\n",
      "\n",
      "0: 256x416 1 shark, 1 stingray, 6.0ms\n",
      "Speed: 1.0ms preprocess, 6.0ms inference, 1.0ms postprocess per image at shape (1, 3, 256, 416)\n",
      "\n",
      "0: 256x416 1 fish, 1 shark, 1 stingray, 5.0ms\n",
      "Speed: 1.0ms preprocess, 5.0ms inference, 1.0ms postprocess per image at shape (1, 3, 256, 416)\n",
      "\n",
      "0: 256x416 1 fish, 1 shark, 1 stingray, 5.0ms\n",
      "Speed: 1.0ms preprocess, 5.0ms inference, 1.0ms postprocess per image at shape (1, 3, 256, 416)\n",
      "\n",
      "0: 256x416 1 fish, 1 shark, 1 stingray, 6.0ms\n",
      "Speed: 1.0ms preprocess, 6.0ms inference, 1.0ms postprocess per image at shape (1, 3, 256, 416)\n",
      "\n",
      "0: 256x416 1 fish, 1 shark, 1 stingray, 6.0ms\n",
      "Speed: 1.0ms preprocess, 6.0ms inference, 1.0ms postprocess per image at shape (1, 3, 256, 416)\n",
      "\n",
      "0: 256x416 1 fish, 1 shark, 1 stingray, 6.0ms\n",
      "Speed: 1.0ms preprocess, 6.0ms inference, 1.0ms postprocess per image at shape (1, 3, 256, 416)\n",
      "\n",
      "0: 256x416 1 fish, 1 shark, 1 stingray, 6.0ms\n",
      "Speed: 1.0ms preprocess, 6.0ms inference, 1.0ms postprocess per image at shape (1, 3, 256, 416)\n",
      "\n",
      "0: 256x416 1 fish, 1 shark, 1 stingray, 6.0ms\n",
      "Speed: 2.0ms preprocess, 6.0ms inference, 1.0ms postprocess per image at shape (1, 3, 256, 416)\n",
      "\n",
      "0: 256x416 1 fish, 1 shark, 1 stingray, 6.0ms\n",
      "Speed: 1.0ms preprocess, 6.0ms inference, 1.0ms postprocess per image at shape (1, 3, 256, 416)\n",
      "\n",
      "0: 256x416 1 fish, 1 shark, 1 stingray, 6.0ms\n",
      "Speed: 1.0ms preprocess, 6.0ms inference, 1.0ms postprocess per image at shape (1, 3, 256, 416)\n",
      "\n",
      "0: 256x416 1 fish, 1 shark, 1 stingray, 5.0ms\n",
      "Speed: 1.0ms preprocess, 5.0ms inference, 2.0ms postprocess per image at shape (1, 3, 256, 416)\n",
      "\n",
      "0: 256x416 1 fish, 1 shark, 1 stingray, 6.0ms\n",
      "Speed: 1.0ms preprocess, 6.0ms inference, 1.0ms postprocess per image at shape (1, 3, 256, 416)\n",
      "\n",
      "0: 256x416 1 fish, 1 shark, 1 stingray, 8.0ms\n",
      "Speed: 1.0ms preprocess, 8.0ms inference, 1.0ms postprocess per image at shape (1, 3, 256, 416)\n",
      "\n",
      "0: 256x416 1 fish, 1 shark, 1 stingray, 5.0ms\n",
      "Speed: 1.0ms preprocess, 5.0ms inference, 1.0ms postprocess per image at shape (1, 3, 256, 416)\n",
      "\n",
      "0: 256x416 1 fish, 1 shark, 1 stingray, 7.0ms\n",
      "Speed: 1.0ms preprocess, 7.0ms inference, 2.0ms postprocess per image at shape (1, 3, 256, 416)\n"
     ]
    },
    {
     "data": {
      "text/plain": [
       "<Figure size 1000x600 with 1 Axes>"
      ]
     },
     "metadata": {},
     "output_type": "display_data"
    },
    {
     "name": "stdout",
     "output_type": "stream",
     "text": [
      "\n",
      "0: 256x416 1 fish, 1 shark, 1 stingray, 6.0ms\n",
      "Speed: 1.0ms preprocess, 6.0ms inference, 2.0ms postprocess per image at shape (1, 3, 256, 416)\n",
      "\n",
      "0: 256x416 1 fish, 1 shark, 1 stingray, 7.0ms\n",
      "Speed: 1.0ms preprocess, 7.0ms inference, 1.0ms postprocess per image at shape (1, 3, 256, 416)\n",
      "\n",
      "0: 256x416 1 fish, 1 shark, 1 stingray, 5.0ms\n",
      "Speed: 1.0ms preprocess, 5.0ms inference, 2.0ms postprocess per image at shape (1, 3, 256, 416)\n",
      "\n",
      "0: 256x416 1 fish, 1 shark, 1 stingray, 8.0ms\n",
      "Speed: 1.0ms preprocess, 8.0ms inference, 1.0ms postprocess per image at shape (1, 3, 256, 416)\n",
      "\n",
      "0: 256x416 1 fish, 1 shark, 1 stingray, 7.0ms\n",
      "Speed: 1.0ms preprocess, 7.0ms inference, 1.0ms postprocess per image at shape (1, 3, 256, 416)\n",
      "\n",
      "0: 256x416 1 fish, 1 shark, 1 stingray, 8.0ms\n",
      "Speed: 1.0ms preprocess, 8.0ms inference, 1.0ms postprocess per image at shape (1, 3, 256, 416)\n",
      "\n",
      "0: 256x416 2 fishs, 1 shark, 1 stingray, 6.0ms\n",
      "Speed: 1.0ms preprocess, 6.0ms inference, 1.0ms postprocess per image at shape (1, 3, 256, 416)\n",
      "\n",
      "0: 256x416 2 fishs, 1 shark, 1 stingray, 7.0ms\n",
      "Speed: 1.0ms preprocess, 7.0ms inference, 1.0ms postprocess per image at shape (1, 3, 256, 416)\n",
      "\n",
      "0: 256x416 2 fishs, 1 shark, 1 stingray, 5.0ms\n",
      "Speed: 2.0ms preprocess, 5.0ms inference, 1.0ms postprocess per image at shape (1, 3, 256, 416)\n",
      "\n",
      "0: 256x416 2 fishs, 1 shark, 1 stingray, 5.0ms\n",
      "Speed: 2.0ms preprocess, 5.0ms inference, 1.0ms postprocess per image at shape (1, 3, 256, 416)\n",
      "\n",
      "0: 256x416 2 fishs, 1 shark, 1 stingray, 6.0ms\n",
      "Speed: 1.0ms preprocess, 6.0ms inference, 1.0ms postprocess per image at shape (1, 3, 256, 416)\n",
      "\n",
      "0: 256x416 2 fishs, 1 shark, 1 stingray, 7.0ms\n",
      "Speed: 1.0ms preprocess, 7.0ms inference, 1.0ms postprocess per image at shape (1, 3, 256, 416)\n",
      "\n",
      "0: 256x416 2 fishs, 1 shark, 1 stingray, 8.0ms\n",
      "Speed: 1.0ms preprocess, 8.0ms inference, 2.0ms postprocess per image at shape (1, 3, 256, 416)\n",
      "\n",
      "0: 256x416 2 fishs, 1 shark, 1 stingray, 6.0ms\n",
      "Speed: 1.0ms preprocess, 6.0ms inference, 1.0ms postprocess per image at shape (1, 3, 256, 416)\n",
      "\n",
      "0: 256x416 2 fishs, 1 shark, 1 stingray, 6.0ms\n",
      "Speed: 3.0ms preprocess, 6.0ms inference, 1.0ms postprocess per image at shape (1, 3, 256, 416)\n",
      "\n",
      "0: 256x416 1 fish, 1 shark, 1 stingray, 6.0ms\n",
      "Speed: 1.0ms preprocess, 6.0ms inference, 1.0ms postprocess per image at shape (1, 3, 256, 416)\n",
      "\n",
      "0: 256x416 1 fish, 1 shark, 1 stingray, 5.0ms\n",
      "Speed: 1.0ms preprocess, 5.0ms inference, 1.0ms postprocess per image at shape (1, 3, 256, 416)\n",
      "\n",
      "0: 256x416 1 shark, 1 stingray, 6.0ms\n",
      "Speed: 1.0ms preprocess, 6.0ms inference, 1.0ms postprocess per image at shape (1, 3, 256, 416)\n",
      "\n",
      "0: 256x416 1 shark, 1 stingray, 5.0ms\n",
      "Speed: 1.0ms preprocess, 5.0ms inference, 1.0ms postprocess per image at shape (1, 3, 256, 416)\n",
      "\n",
      "0: 256x416 1 shark, 1 stingray, 5.0ms\n",
      "Speed: 1.0ms preprocess, 5.0ms inference, 1.0ms postprocess per image at shape (1, 3, 256, 416)\n",
      "\n",
      "0: 256x416 1 shark, 1 stingray, 6.0ms\n",
      "Speed: 1.0ms preprocess, 6.0ms inference, 1.0ms postprocess per image at shape (1, 3, 256, 416)\n",
      "\n",
      "0: 256x416 1 shark, 1 stingray, 6.3ms\n",
      "Speed: 1.1ms preprocess, 6.3ms inference, 1.0ms postprocess per image at shape (1, 3, 256, 416)\n",
      "\n",
      "0: 256x416 1 shark, 1 stingray, 5.0ms\n",
      "Speed: 2.0ms preprocess, 5.0ms inference, 1.0ms postprocess per image at shape (1, 3, 256, 416)\n",
      "\n",
      "0: 256x416 1 shark, 1 stingray, 6.0ms\n",
      "Speed: 1.0ms preprocess, 6.0ms inference, 1.0ms postprocess per image at shape (1, 3, 256, 416)\n",
      "\n",
      "0: 256x416 1 shark, 1 stingray, 5.0ms\n",
      "Speed: 1.0ms preprocess, 5.0ms inference, 1.0ms postprocess per image at shape (1, 3, 256, 416)\n",
      "\n",
      "0: 256x416 1 shark, 1 stingray, 5.0ms\n",
      "Speed: 1.0ms preprocess, 5.0ms inference, 2.0ms postprocess per image at shape (1, 3, 256, 416)\n",
      "\n",
      "0: 256x416 1 shark, 1 stingray, 6.0ms\n",
      "Speed: 1.0ms preprocess, 6.0ms inference, 1.0ms postprocess per image at shape (1, 3, 256, 416)\n",
      "\n",
      "0: 256x416 1 shark, 1 stingray, 6.0ms\n",
      "Speed: 1.0ms preprocess, 6.0ms inference, 1.0ms postprocess per image at shape (1, 3, 256, 416)\n",
      "\n",
      "0: 256x416 1 shark, 1 stingray, 5.0ms\n",
      "Speed: 1.0ms preprocess, 5.0ms inference, 1.0ms postprocess per image at shape (1, 3, 256, 416)\n",
      "\n",
      "0: 256x416 1 shark, 1 stingray, 5.0ms\n",
      "Speed: 1.0ms preprocess, 5.0ms inference, 1.0ms postprocess per image at shape (1, 3, 256, 416)\n"
     ]
    },
    {
     "data": {
      "text/plain": [
       "<Figure size 1000x600 with 1 Axes>"
      ]
     },
     "metadata": {},
     "output_type": "display_data"
    },
    {
     "name": "stdout",
     "output_type": "stream",
     "text": [
      "\n",
      "0: 256x416 1 stingray, 6.0ms\n",
      "Speed: 2.0ms preprocess, 6.0ms inference, 1.0ms postprocess per image at shape (1, 3, 256, 416)\n",
      "\n",
      "0: 256x416 1 stingray, 6.0ms\n",
      "Speed: 1.0ms preprocess, 6.0ms inference, 1.0ms postprocess per image at shape (1, 3, 256, 416)\n",
      "\n",
      "0: 256x416 1 stingray, 5.0ms\n",
      "Speed: 1.0ms preprocess, 5.0ms inference, 1.0ms postprocess per image at shape (1, 3, 256, 416)\n",
      "\n",
      "0: 256x416 1 stingray, 6.0ms\n",
      "Speed: 1.0ms preprocess, 6.0ms inference, 1.0ms postprocess per image at shape (1, 3, 256, 416)\n",
      "\n",
      "0: 256x416 1 stingray, 6.0ms\n",
      "Speed: 1.0ms preprocess, 6.0ms inference, 1.0ms postprocess per image at shape (1, 3, 256, 416)\n",
      "\n",
      "0: 256x416 1 shark, 1 stingray, 5.0ms\n",
      "Speed: 1.0ms preprocess, 5.0ms inference, 3.0ms postprocess per image at shape (1, 3, 256, 416)\n",
      "\n",
      "0: 256x416 1 shark, 1 stingray, 5.0ms\n",
      "Speed: 1.0ms preprocess, 5.0ms inference, 1.0ms postprocess per image at shape (1, 3, 256, 416)\n",
      "\n",
      "0: 256x416 1 shark, 1 stingray, 5.0ms\n",
      "Speed: 2.0ms preprocess, 5.0ms inference, 1.0ms postprocess per image at shape (1, 3, 256, 416)\n",
      "\n",
      "0: 256x416 1 shark, 1 stingray, 5.0ms\n",
      "Speed: 1.0ms preprocess, 5.0ms inference, 1.0ms postprocess per image at shape (1, 3, 256, 416)\n",
      "\n",
      "0: 256x416 1 shark, 1 stingray, 6.0ms\n",
      "Speed: 1.0ms preprocess, 6.0ms inference, 1.0ms postprocess per image at shape (1, 3, 256, 416)\n",
      "\n",
      "0: 256x416 1 shark, 1 stingray, 5.0ms\n",
      "Speed: 4.0ms preprocess, 5.0ms inference, 1.0ms postprocess per image at shape (1, 3, 256, 416)\n",
      "\n",
      "0: 256x416 1 shark, 1 stingray, 5.0ms\n",
      "Speed: 2.0ms preprocess, 5.0ms inference, 1.0ms postprocess per image at shape (1, 3, 256, 416)\n",
      "\n",
      "0: 256x416 1 shark, 1 stingray, 6.0ms\n",
      "Speed: 1.0ms preprocess, 6.0ms inference, 1.0ms postprocess per image at shape (1, 3, 256, 416)\n",
      "\n",
      "0: 256x416 1 shark, 1 stingray, 5.0ms\n",
      "Speed: 2.0ms preprocess, 5.0ms inference, 1.0ms postprocess per image at shape (1, 3, 256, 416)\n",
      "\n",
      "0: 256x416 1 shark, 1 stingray, 6.0ms\n",
      "Speed: 1.0ms preprocess, 6.0ms inference, 1.0ms postprocess per image at shape (1, 3, 256, 416)\n",
      "\n",
      "0: 256x416 1 shark, 1 stingray, 5.0ms\n",
      "Speed: 2.0ms preprocess, 5.0ms inference, 1.0ms postprocess per image at shape (1, 3, 256, 416)\n",
      "\n",
      "0: 256x416 1 shark, 1 stingray, 6.0ms\n",
      "Speed: 1.0ms preprocess, 6.0ms inference, 1.0ms postprocess per image at shape (1, 3, 256, 416)\n",
      "\n",
      "0: 256x416 1 shark, 1 stingray, 6.0ms\n",
      "Speed: 1.0ms preprocess, 6.0ms inference, 1.0ms postprocess per image at shape (1, 3, 256, 416)\n",
      "\n",
      "0: 256x416 1 stingray, 5.4ms\n",
      "Speed: 1.0ms preprocess, 5.4ms inference, 1.0ms postprocess per image at shape (1, 3, 256, 416)\n",
      "\n",
      "0: 256x416 1 shark, 1 stingray, 5.0ms\n",
      "Speed: 3.0ms preprocess, 5.0ms inference, 1.0ms postprocess per image at shape (1, 3, 256, 416)\n",
      "\n",
      "0: 256x416 1 shark, 1 stingray, 6.0ms\n",
      "Speed: 1.0ms preprocess, 6.0ms inference, 1.0ms postprocess per image at shape (1, 3, 256, 416)\n",
      "\n",
      "0: 256x416 1 shark, 1 stingray, 5.0ms\n",
      "Speed: 2.0ms preprocess, 5.0ms inference, 2.0ms postprocess per image at shape (1, 3, 256, 416)\n",
      "\n",
      "0: 256x416 1 shark, 1 stingray, 6.0ms\n",
      "Speed: 1.0ms preprocess, 6.0ms inference, 1.0ms postprocess per image at shape (1, 3, 256, 416)\n",
      "\n",
      "0: 256x416 1 shark, 1 stingray, 6.0ms\n",
      "Speed: 1.0ms preprocess, 6.0ms inference, 1.0ms postprocess per image at shape (1, 3, 256, 416)\n",
      "\n",
      "0: 256x416 1 shark, 1 stingray, 6.0ms\n",
      "Speed: 1.0ms preprocess, 6.0ms inference, 1.0ms postprocess per image at shape (1, 3, 256, 416)\n",
      "\n",
      "0: 256x416 1 shark, 1 stingray, 10.0ms\n",
      "Speed: 2.0ms preprocess, 10.0ms inference, 1.0ms postprocess per image at shape (1, 3, 256, 416)\n",
      "\n",
      "0: 256x416 1 shark, 1 stingray, 5.0ms\n",
      "Speed: 1.0ms preprocess, 5.0ms inference, 1.0ms postprocess per image at shape (1, 3, 256, 416)\n",
      "\n",
      "0: 256x416 1 shark, 1 stingray, 5.0ms\n",
      "Speed: 1.0ms preprocess, 5.0ms inference, 1.0ms postprocess per image at shape (1, 3, 256, 416)\n",
      "\n",
      "0: 256x416 1 shark, 1 stingray, 5.0ms\n",
      "Speed: 1.0ms preprocess, 5.0ms inference, 2.0ms postprocess per image at shape (1, 3, 256, 416)\n",
      "\n",
      "0: 256x416 1 shark, 1 stingray, 6.0ms\n",
      "Speed: 1.0ms preprocess, 6.0ms inference, 1.0ms postprocess per image at shape (1, 3, 256, 416)\n"
     ]
    },
    {
     "data": {
      "text/plain": [
       "<Figure size 1000x600 with 1 Axes>"
      ]
     },
     "metadata": {},
     "output_type": "display_data"
    },
    {
     "name": "stdout",
     "output_type": "stream",
     "text": [
      "\n",
      "0: 256x416 1 shark, 1 stingray, 6.0ms\n",
      "Speed: 1.0ms preprocess, 6.0ms inference, 1.0ms postprocess per image at shape (1, 3, 256, 416)\n",
      "\n",
      "0: 256x416 1 shark, 1 stingray, 7.0ms\n",
      "Speed: 1.0ms preprocess, 7.0ms inference, 1.0ms postprocess per image at shape (1, 3, 256, 416)\n",
      "\n",
      "0: 256x416 1 shark, 1 stingray, 5.0ms\n",
      "Speed: 1.0ms preprocess, 5.0ms inference, 1.0ms postprocess per image at shape (1, 3, 256, 416)\n",
      "\n",
      "0: 256x416 1 shark, 1 stingray, 5.0ms\n",
      "Speed: 1.0ms preprocess, 5.0ms inference, 1.0ms postprocess per image at shape (1, 3, 256, 416)\n",
      "\n",
      "0: 256x416 1 shark, 1 stingray, 7.0ms\n",
      "Speed: 1.0ms preprocess, 7.0ms inference, 1.0ms postprocess per image at shape (1, 3, 256, 416)\n",
      "\n",
      "0: 256x416 1 stingray, 5.0ms\n",
      "Speed: 2.0ms preprocess, 5.0ms inference, 1.0ms postprocess per image at shape (1, 3, 256, 416)\n",
      "\n",
      "0: 256x416 1 stingray, 6.0ms\n",
      "Speed: 1.0ms preprocess, 6.0ms inference, 1.0ms postprocess per image at shape (1, 3, 256, 416)\n",
      "\n",
      "0: 256x416 1 stingray, 6.0ms\n",
      "Speed: 1.0ms preprocess, 6.0ms inference, 1.0ms postprocess per image at shape (1, 3, 256, 416)\n",
      "\n",
      "0: 256x416 1 stingray, 6.5ms\n",
      "Speed: 0.0ms preprocess, 6.5ms inference, 1.1ms postprocess per image at shape (1, 3, 256, 416)\n",
      "\n",
      "0: 256x416 1 stingray, 6.0ms\n",
      "Speed: 1.0ms preprocess, 6.0ms inference, 1.0ms postprocess per image at shape (1, 3, 256, 416)\n",
      "\n",
      "0: 256x416 1 stingray, 5.0ms\n",
      "Speed: 1.0ms preprocess, 5.0ms inference, 1.0ms postprocess per image at shape (1, 3, 256, 416)\n",
      "\n",
      "0: 256x416 1 stingray, 5.0ms\n",
      "Speed: 2.0ms preprocess, 5.0ms inference, 2.0ms postprocess per image at shape (1, 3, 256, 416)\n",
      "\n",
      "0: 256x416 1 stingray, 5.0ms\n",
      "Speed: 1.0ms preprocess, 5.0ms inference, 1.0ms postprocess per image at shape (1, 3, 256, 416)\n",
      "\n",
      "0: 256x416 1 stingray, 5.0ms\n",
      "Speed: 2.0ms preprocess, 5.0ms inference, 1.0ms postprocess per image at shape (1, 3, 256, 416)\n",
      "\n",
      "0: 256x416 1 stingray, 6.0ms\n",
      "Speed: 0.0ms preprocess, 6.0ms inference, 1.0ms postprocess per image at shape (1, 3, 256, 416)\n",
      "\n",
      "0: 256x416 1 stingray, 6.0ms\n",
      "Speed: 2.0ms preprocess, 6.0ms inference, 1.0ms postprocess per image at shape (1, 3, 256, 416)\n",
      "\n",
      "0: 256x416 1 shark, 1 stingray, 6.0ms\n",
      "Speed: 1.0ms preprocess, 6.0ms inference, 1.0ms postprocess per image at shape (1, 3, 256, 416)\n",
      "\n",
      "0: 256x416 1 shark, 1 stingray, 6.0ms\n",
      "Speed: 1.0ms preprocess, 6.0ms inference, 1.0ms postprocess per image at shape (1, 3, 256, 416)\n",
      "\n",
      "0: 256x416 1 shark, 5.0ms\n",
      "Speed: 1.0ms preprocess, 5.0ms inference, 1.0ms postprocess per image at shape (1, 3, 256, 416)\n",
      "\n",
      "0: 256x416 1 shark, 5.0ms\n",
      "Speed: 2.0ms preprocess, 5.0ms inference, 1.0ms postprocess per image at shape (1, 3, 256, 416)\n",
      "\n",
      "0: 256x416 1 shark, 1 stingray, 6.0ms\n",
      "Speed: 1.0ms preprocess, 6.0ms inference, 1.0ms postprocess per image at shape (1, 3, 256, 416)\n",
      "\n",
      "0: 256x416 1 stingray, 5.0ms\n",
      "Speed: 1.0ms preprocess, 5.0ms inference, 1.0ms postprocess per image at shape (1, 3, 256, 416)\n",
      "\n",
      "0: 256x416 2 sharks, 1 stingray, 5.0ms\n",
      "Speed: 2.0ms preprocess, 5.0ms inference, 1.0ms postprocess per image at shape (1, 3, 256, 416)\n",
      "\n",
      "0: 256x416 1 shark, 1 stingray, 6.0ms\n",
      "Speed: 1.0ms preprocess, 6.0ms inference, 1.0ms postprocess per image at shape (1, 3, 256, 416)\n",
      "\n",
      "0: 256x416 1 stingray, 6.0ms\n",
      "Speed: 2.0ms preprocess, 6.0ms inference, 1.0ms postprocess per image at shape (1, 3, 256, 416)\n",
      "\n",
      "0: 256x416 1 stingray, 5.0ms\n",
      "Speed: 1.0ms preprocess, 5.0ms inference, 1.0ms postprocess per image at shape (1, 3, 256, 416)\n",
      "\n",
      "0: 256x416 1 stingray, 5.0ms\n",
      "Speed: 2.0ms preprocess, 5.0ms inference, 1.0ms postprocess per image at shape (1, 3, 256, 416)\n",
      "\n",
      "0: 256x416 1 stingray, 5.0ms\n",
      "Speed: 2.0ms preprocess, 5.0ms inference, 1.0ms postprocess per image at shape (1, 3, 256, 416)\n",
      "\n",
      "0: 256x416 1 stingray, 5.0ms\n",
      "Speed: 2.0ms preprocess, 5.0ms inference, 1.0ms postprocess per image at shape (1, 3, 256, 416)\n",
      "\n",
      "0: 256x416 1 stingray, 5.0ms\n",
      "Speed: 2.0ms preprocess, 5.0ms inference, 1.0ms postprocess per image at shape (1, 3, 256, 416)\n"
     ]
    },
    {
     "data": {
      "text/plain": [
       "<Figure size 1000x600 with 1 Axes>"
      ]
     },
     "metadata": {},
     "output_type": "display_data"
    },
    {
     "name": "stdout",
     "output_type": "stream",
     "text": [
      "\n",
      "0: 256x416 1 stingray, 6.0ms\n",
      "Speed: 1.0ms preprocess, 6.0ms inference, 1.0ms postprocess per image at shape (1, 3, 256, 416)\n",
      "\n",
      "0: 256x416 1 stingray, 5.0ms\n",
      "Speed: 2.0ms preprocess, 5.0ms inference, 1.0ms postprocess per image at shape (1, 3, 256, 416)\n",
      "\n",
      "0: 256x416 1 stingray, 6.0ms\n",
      "Speed: 1.0ms preprocess, 6.0ms inference, 2.0ms postprocess per image at shape (1, 3, 256, 416)\n",
      "\n",
      "0: 256x416 1 stingray, 6.0ms\n",
      "Speed: 1.0ms preprocess, 6.0ms inference, 1.0ms postprocess per image at shape (1, 3, 256, 416)\n",
      "\n",
      "0: 256x416 1 stingray, 5.0ms\n",
      "Speed: 2.0ms preprocess, 5.0ms inference, 1.0ms postprocess per image at shape (1, 3, 256, 416)\n",
      "\n",
      "0: 256x416 1 stingray, 6.0ms\n",
      "Speed: 1.0ms preprocess, 6.0ms inference, 1.0ms postprocess per image at shape (1, 3, 256, 416)\n",
      "\n",
      "0: 256x416 1 stingray, 5.0ms\n",
      "Speed: 1.0ms preprocess, 5.0ms inference, 1.0ms postprocess per image at shape (1, 3, 256, 416)\n",
      "\n",
      "0: 256x416 1 stingray, 5.0ms\n",
      "Speed: 1.0ms preprocess, 5.0ms inference, 1.0ms postprocess per image at shape (1, 3, 256, 416)\n",
      "\n",
      "0: 256x416 1 stingray, 6.0ms\n",
      "Speed: 1.0ms preprocess, 6.0ms inference, 0.0ms postprocess per image at shape (1, 3, 256, 416)\n",
      "\n",
      "0: 256x416 1 stingray, 5.0ms\n",
      "Speed: 2.0ms preprocess, 5.0ms inference, 1.0ms postprocess per image at shape (1, 3, 256, 416)\n",
      "\n",
      "0: 256x416 1 stingray, 6.0ms\n",
      "Speed: 1.0ms preprocess, 6.0ms inference, 1.0ms postprocess per image at shape (1, 3, 256, 416)\n",
      "\n",
      "0: 256x416 1 stingray, 5.0ms\n",
      "Speed: 1.0ms preprocess, 5.0ms inference, 1.0ms postprocess per image at shape (1, 3, 256, 416)\n",
      "\n",
      "0: 256x416 1 stingray, 6.0ms\n",
      "Speed: 1.0ms preprocess, 6.0ms inference, 1.0ms postprocess per image at shape (1, 3, 256, 416)\n",
      "\n",
      "0: 256x416 1 stingray, 5.0ms\n",
      "Speed: 1.0ms preprocess, 5.0ms inference, 2.0ms postprocess per image at shape (1, 3, 256, 416)\n",
      "\n",
      "0: 256x416 1 stingray, 5.0ms\n",
      "Speed: 2.0ms preprocess, 5.0ms inference, 1.0ms postprocess per image at shape (1, 3, 256, 416)\n",
      "\n",
      "0: 256x416 1 shark, 1 stingray, 5.0ms\n",
      "Speed: 1.0ms preprocess, 5.0ms inference, 2.0ms postprocess per image at shape (1, 3, 256, 416)\n",
      "\n",
      "0: 256x416 1 shark, 1 stingray, 6.0ms\n",
      "Speed: 1.0ms preprocess, 6.0ms inference, 1.0ms postprocess per image at shape (1, 3, 256, 416)\n",
      "\n",
      "0: 256x416 1 stingray, 5.0ms\n",
      "Speed: 1.0ms preprocess, 5.0ms inference, 1.0ms postprocess per image at shape (1, 3, 256, 416)\n",
      "\n",
      "0: 256x416 1 stingray, 6.0ms\n",
      "Speed: 2.0ms preprocess, 6.0ms inference, 1.0ms postprocess per image at shape (1, 3, 256, 416)\n",
      "\n",
      "0: 256x416 1 stingray, 5.0ms\n",
      "Speed: 1.0ms preprocess, 5.0ms inference, 1.0ms postprocess per image at shape (1, 3, 256, 416)\n",
      "\n",
      "0: 256x416 1 stingray, 5.0ms\n",
      "Speed: 1.0ms preprocess, 5.0ms inference, 1.0ms postprocess per image at shape (1, 3, 256, 416)\n",
      "\n",
      "0: 256x416 1 stingray, 5.0ms\n",
      "Speed: 2.0ms preprocess, 5.0ms inference, 1.0ms postprocess per image at shape (1, 3, 256, 416)\n",
      "\n",
      "0: 256x416 1 shark, 1 stingray, 5.0ms\n",
      "Speed: 1.0ms preprocess, 5.0ms inference, 1.0ms postprocess per image at shape (1, 3, 256, 416)\n",
      "\n",
      "0: 256x416 1 shark, 1 stingray, 6.0ms\n",
      "Speed: 1.0ms preprocess, 6.0ms inference, 1.0ms postprocess per image at shape (1, 3, 256, 416)\n",
      "\n",
      "0: 256x416 1 shark, 1 stingray, 6.0ms\n",
      "Speed: 1.0ms preprocess, 6.0ms inference, 2.0ms postprocess per image at shape (1, 3, 256, 416)\n",
      "\n",
      "0: 256x416 1 shark, 1 stingray, 5.0ms\n",
      "Speed: 1.0ms preprocess, 5.0ms inference, 1.0ms postprocess per image at shape (1, 3, 256, 416)\n",
      "\n",
      "0: 256x416 1 shark, 1 stingray, 5.0ms\n",
      "Speed: 1.0ms preprocess, 5.0ms inference, 1.0ms postprocess per image at shape (1, 3, 256, 416)\n",
      "\n",
      "0: 256x416 1 shark, 1 stingray, 5.0ms\n",
      "Speed: 2.0ms preprocess, 5.0ms inference, 1.0ms postprocess per image at shape (1, 3, 256, 416)\n",
      "\n",
      "0: 256x416 1 shark, 1 stingray, 6.0ms\n",
      "Speed: 1.0ms preprocess, 6.0ms inference, 1.0ms postprocess per image at shape (1, 3, 256, 416)\n",
      "\n",
      "0: 256x416 1 shark, 1 stingray, 6.0ms\n",
      "Speed: 1.0ms preprocess, 6.0ms inference, 0.0ms postprocess per image at shape (1, 3, 256, 416)\n"
     ]
    },
    {
     "data": {
      "text/plain": [
       "<Figure size 1000x600 with 1 Axes>"
      ]
     },
     "metadata": {},
     "output_type": "display_data"
    },
    {
     "name": "stdout",
     "output_type": "stream",
     "text": [
      "\n",
      "0: 256x416 1 shark, 1 stingray, 6.0ms\n",
      "Speed: 1.0ms preprocess, 6.0ms inference, 1.0ms postprocess per image at shape (1, 3, 256, 416)\n",
      "\n",
      "0: 256x416 1 shark, 1 stingray, 6.0ms\n",
      "Speed: 3.0ms preprocess, 6.0ms inference, 1.0ms postprocess per image at shape (1, 3, 256, 416)\n",
      "\n",
      "0: 256x416 1 shark, 1 stingray, 5.0ms\n",
      "Speed: 1.0ms preprocess, 5.0ms inference, 1.0ms postprocess per image at shape (1, 3, 256, 416)\n",
      "\n",
      "0: 256x416 1 shark, 1 stingray, 6.0ms\n",
      "Speed: 1.0ms preprocess, 6.0ms inference, 1.0ms postprocess per image at shape (1, 3, 256, 416)\n",
      "\n",
      "0: 256x416 1 stingray, 5.0ms\n",
      "Speed: 1.0ms preprocess, 5.0ms inference, 1.0ms postprocess per image at shape (1, 3, 256, 416)\n",
      "\n",
      "0: 256x416 1 stingray, 6.0ms\n",
      "Speed: 1.0ms preprocess, 6.0ms inference, 1.0ms postprocess per image at shape (1, 3, 256, 416)\n",
      "\n",
      "0: 256x416 1 stingray, 6.0ms\n",
      "Speed: 1.0ms preprocess, 6.0ms inference, 1.0ms postprocess per image at shape (1, 3, 256, 416)\n",
      "\n",
      "0: 256x416 1 stingray, 5.0ms\n",
      "Speed: 1.0ms preprocess, 5.0ms inference, 1.0ms postprocess per image at shape (1, 3, 256, 416)\n",
      "\n",
      "0: 256x416 1 stingray, 6.0ms\n",
      "Speed: 1.0ms preprocess, 6.0ms inference, 1.0ms postprocess per image at shape (1, 3, 256, 416)\n",
      "\n",
      "0: 256x416 1 stingray, 6.0ms\n",
      "Speed: 1.0ms preprocess, 6.0ms inference, 1.0ms postprocess per image at shape (1, 3, 256, 416)\n",
      "\n",
      "0: 256x416 1 stingray, 5.0ms\n",
      "Speed: 2.0ms preprocess, 5.0ms inference, 1.0ms postprocess per image at shape (1, 3, 256, 416)\n",
      "\n",
      "0: 256x416 1 stingray, 5.1ms\n",
      "Speed: 1.0ms preprocess, 5.1ms inference, 0.9ms postprocess per image at shape (1, 3, 256, 416)\n",
      "\n",
      "0: 256x416 1 stingray, 5.0ms\n",
      "Speed: 1.0ms preprocess, 5.0ms inference, 1.0ms postprocess per image at shape (1, 3, 256, 416)\n",
      "\n",
      "0: 256x416 1 stingray, 6.0ms\n",
      "Speed: 1.0ms preprocess, 6.0ms inference, 0.0ms postprocess per image at shape (1, 3, 256, 416)\n",
      "\n",
      "0: 256x416 1 stingray, 8.0ms\n",
      "Speed: 1.0ms preprocess, 8.0ms inference, 1.0ms postprocess per image at shape (1, 3, 256, 416)\n",
      "\n",
      "0: 256x416 1 shark, 1 stingray, 7.0ms\n",
      "Speed: 1.0ms preprocess, 7.0ms inference, 1.0ms postprocess per image at shape (1, 3, 256, 416)\n",
      "\n",
      "0: 256x416 1 stingray, 6.0ms\n",
      "Speed: 1.0ms preprocess, 6.0ms inference, 2.0ms postprocess per image at shape (1, 3, 256, 416)\n",
      "\n",
      "0: 256x416 1 stingray, 5.0ms\n",
      "Speed: 1.0ms preprocess, 5.0ms inference, 1.0ms postprocess per image at shape (1, 3, 256, 416)\n",
      "\n",
      "0: 256x416 1 stingray, 6.0ms\n",
      "Speed: 1.0ms preprocess, 6.0ms inference, 1.0ms postprocess per image at shape (1, 3, 256, 416)\n",
      "\n",
      "0: 256x416 1 stingray, 5.0ms\n",
      "Speed: 1.0ms preprocess, 5.0ms inference, 1.0ms postprocess per image at shape (1, 3, 256, 416)\n",
      "\n",
      "0: 256x416 1 shark, 1 stingray, 6.0ms\n",
      "Speed: 1.0ms preprocess, 6.0ms inference, 1.0ms postprocess per image at shape (1, 3, 256, 416)\n",
      "\n",
      "0: 256x416 1 shark, 1 stingray, 6.0ms\n",
      "Speed: 1.0ms preprocess, 6.0ms inference, 1.0ms postprocess per image at shape (1, 3, 256, 416)\n",
      "\n",
      "0: 256x416 1 shark, 1 stingray, 5.0ms\n",
      "Speed: 2.0ms preprocess, 5.0ms inference, 1.0ms postprocess per image at shape (1, 3, 256, 416)\n",
      "\n",
      "0: 256x416 1 shark, 1 stingray, 5.0ms\n",
      "Speed: 1.0ms preprocess, 5.0ms inference, 1.0ms postprocess per image at shape (1, 3, 256, 416)\n",
      "\n",
      "0: 256x416 1 shark, 1 stingray, 5.0ms\n",
      "Speed: 1.0ms preprocess, 5.0ms inference, 1.0ms postprocess per image at shape (1, 3, 256, 416)\n",
      "\n",
      "0: 256x416 1 shark, 1 stingray, 6.0ms\n",
      "Speed: 1.0ms preprocess, 6.0ms inference, 0.0ms postprocess per image at shape (1, 3, 256, 416)\n",
      "\n",
      "0: 256x416 1 shark, 1 stingray, 5.0ms\n",
      "Speed: 1.0ms preprocess, 5.0ms inference, 1.0ms postprocess per image at shape (1, 3, 256, 416)\n",
      "\n",
      "0: 256x416 1 shark, 1 stingray, 6.0ms\n",
      "Speed: 1.0ms preprocess, 6.0ms inference, 1.0ms postprocess per image at shape (1, 3, 256, 416)\n",
      "\n",
      "0: 256x416 1 shark, 1 stingray, 5.0ms\n",
      "Speed: 2.0ms preprocess, 5.0ms inference, 1.0ms postprocess per image at shape (1, 3, 256, 416)\n",
      "\n",
      "0: 256x416 1 stingray, 5.4ms\n",
      "Speed: 2.0ms preprocess, 5.4ms inference, 1.1ms postprocess per image at shape (1, 3, 256, 416)\n"
     ]
    },
    {
     "data": {
      "text/plain": [
       "<Figure size 1000x600 with 1 Axes>"
      ]
     },
     "metadata": {},
     "output_type": "display_data"
    },
    {
     "name": "stdout",
     "output_type": "stream",
     "text": [
      "\n",
      "0: 256x416 1 shark, 1 stingray, 5.0ms\n",
      "Speed: 1.0ms preprocess, 5.0ms inference, 1.0ms postprocess per image at shape (1, 3, 256, 416)\n",
      "\n",
      "0: 256x416 1 shark, 1 stingray, 5.0ms\n",
      "Speed: 1.0ms preprocess, 5.0ms inference, 1.0ms postprocess per image at shape (1, 3, 256, 416)\n",
      "\n",
      "0: 256x416 1 stingray, 6.0ms\n",
      "Speed: 1.0ms preprocess, 6.0ms inference, 1.0ms postprocess per image at shape (1, 3, 256, 416)\n",
      "\n",
      "0: 256x416 1 stingray, 5.0ms\n",
      "Speed: 1.0ms preprocess, 5.0ms inference, 2.0ms postprocess per image at shape (1, 3, 256, 416)\n",
      "\n",
      "0: 256x416 1 stingray, 5.0ms\n",
      "Speed: 2.0ms preprocess, 5.0ms inference, 1.0ms postprocess per image at shape (1, 3, 256, 416)\n",
      "\n",
      "0: 256x416 1 shark, 1 stingray, 5.0ms\n",
      "Speed: 1.0ms preprocess, 5.0ms inference, 1.0ms postprocess per image at shape (1, 3, 256, 416)\n",
      "\n",
      "0: 256x416 1 stingray, 6.0ms\n",
      "Speed: 1.0ms preprocess, 6.0ms inference, 1.0ms postprocess per image at shape (1, 3, 256, 416)\n",
      "\n",
      "0: 256x416 1 stingray, 6.0ms\n",
      "Speed: 1.0ms preprocess, 6.0ms inference, 1.0ms postprocess per image at shape (1, 3, 256, 416)\n",
      "\n",
      "0: 256x416 1 shark, 1 stingray, 5.0ms\n",
      "Speed: 1.0ms preprocess, 5.0ms inference, 1.0ms postprocess per image at shape (1, 3, 256, 416)\n",
      "\n",
      "0: 256x416 1 shark, 1 stingray, 6.0ms\n",
      "Speed: 1.0ms preprocess, 6.0ms inference, 1.0ms postprocess per image at shape (1, 3, 256, 416)\n",
      "\n",
      "0: 256x416 1 shark, 1 stingray, 5.0ms\n",
      "Speed: 1.0ms preprocess, 5.0ms inference, 1.0ms postprocess per image at shape (1, 3, 256, 416)\n",
      "\n",
      "0: 256x416 1 shark, 1 stingray, 6.0ms\n",
      "Speed: 1.0ms preprocess, 6.0ms inference, 1.0ms postprocess per image at shape (1, 3, 256, 416)\n",
      "\n",
      "0: 256x416 1 shark, 1 stingray, 5.0ms\n",
      "Speed: 2.0ms preprocess, 5.0ms inference, 1.0ms postprocess per image at shape (1, 3, 256, 416)\n",
      "\n",
      "0: 256x416 1 shark, 1 stingray, 5.0ms\n",
      "Speed: 2.0ms preprocess, 5.0ms inference, 1.0ms postprocess per image at shape (1, 3, 256, 416)\n",
      "\n",
      "0: 256x416 1 shark, 1 stingray, 5.0ms\n",
      "Speed: 1.0ms preprocess, 5.0ms inference, 1.0ms postprocess per image at shape (1, 3, 256, 416)\n",
      "\n",
      "0: 256x416 1 shark, 1 stingray, 6.0ms\n",
      "Speed: 1.0ms preprocess, 6.0ms inference, 1.0ms postprocess per image at shape (1, 3, 256, 416)\n",
      "\n",
      "0: 256x416 1 shark, 1 stingray, 5.0ms\n",
      "Speed: 1.0ms preprocess, 5.0ms inference, 1.0ms postprocess per image at shape (1, 3, 256, 416)\n",
      "\n",
      "0: 256x416 1 shark, 1 stingray, 5.0ms\n",
      "Speed: 1.0ms preprocess, 5.0ms inference, 2.0ms postprocess per image at shape (1, 3, 256, 416)\n",
      "\n",
      "0: 256x416 1 shark, 1 stingray, 5.0ms\n",
      "Speed: 1.0ms preprocess, 5.0ms inference, 1.0ms postprocess per image at shape (1, 3, 256, 416)\n",
      "\n",
      "0: 256x416 1 shark, 1 stingray, 6.0ms\n",
      "Speed: 1.0ms preprocess, 6.0ms inference, 1.0ms postprocess per image at shape (1, 3, 256, 416)\n",
      "\n",
      "0: 256x416 1 shark, 1 stingray, 5.4ms\n",
      "Speed: 1.0ms preprocess, 5.4ms inference, 1.0ms postprocess per image at shape (1, 3, 256, 416)\n",
      "\n",
      "0: 256x416 1 shark, 1 stingray, 5.0ms\n",
      "Speed: 2.0ms preprocess, 5.0ms inference, 1.0ms postprocess per image at shape (1, 3, 256, 416)\n",
      "\n",
      "0: 256x416 1 shark, 1 stingray, 6.0ms\n",
      "Speed: 1.0ms preprocess, 6.0ms inference, 1.0ms postprocess per image at shape (1, 3, 256, 416)\n",
      "\n",
      "0: 256x416 1 shark, 1 stingray, 6.0ms\n",
      "Speed: 1.0ms preprocess, 6.0ms inference, 1.0ms postprocess per image at shape (1, 3, 256, 416)\n",
      "\n",
      "0: 256x416 1 shark, 1 stingray, 5.0ms\n",
      "Speed: 1.0ms preprocess, 5.0ms inference, 1.0ms postprocess per image at shape (1, 3, 256, 416)\n",
      "\n",
      "0: 256x416 1 shark, 1 stingray, 5.0ms\n",
      "Speed: 1.0ms preprocess, 5.0ms inference, 1.0ms postprocess per image at shape (1, 3, 256, 416)\n",
      "\n",
      "0: 256x416 1 shark, 1 stingray, 6.0ms\n",
      "Speed: 1.0ms preprocess, 6.0ms inference, 1.0ms postprocess per image at shape (1, 3, 256, 416)\n",
      "\n",
      "0: 256x416 1 shark, 1 stingray, 5.0ms\n",
      "Speed: 1.0ms preprocess, 5.0ms inference, 2.0ms postprocess per image at shape (1, 3, 256, 416)\n",
      "\n",
      "0: 256x416 1 stingray, 5.0ms\n",
      "Speed: 1.0ms preprocess, 5.0ms inference, 2.0ms postprocess per image at shape (1, 3, 256, 416)\n",
      "\n",
      "0: 256x416 1 stingray, 6.0ms\n",
      "Speed: 1.0ms preprocess, 6.0ms inference, 1.0ms postprocess per image at shape (1, 3, 256, 416)\n"
     ]
    },
    {
     "data": {
      "text/plain": [
       "<Figure size 1000x600 with 1 Axes>"
      ]
     },
     "metadata": {},
     "output_type": "display_data"
    },
    {
     "name": "stdout",
     "output_type": "stream",
     "text": [
      "\n",
      "0: 256x416 1 stingray, 5.0ms\n",
      "Speed: 2.0ms preprocess, 5.0ms inference, 1.0ms postprocess per image at shape (1, 3, 256, 416)\n",
      "\n",
      "0: 256x416 1 stingray, 6.0ms\n",
      "Speed: 1.0ms preprocess, 6.0ms inference, 1.0ms postprocess per image at shape (1, 3, 256, 416)\n",
      "\n",
      "0: 256x416 1 stingray, 6.0ms\n",
      "Speed: 0.0ms preprocess, 6.0ms inference, 1.0ms postprocess per image at shape (1, 3, 256, 416)\n",
      "\n",
      "0: 256x416 1 stingray, 5.0ms\n",
      "Speed: 1.0ms preprocess, 5.0ms inference, 1.0ms postprocess per image at shape (1, 3, 256, 416)\n",
      "\n",
      "0: 256x416 1 stingray, 6.0ms\n",
      "Speed: 1.0ms preprocess, 6.0ms inference, 1.0ms postprocess per image at shape (1, 3, 256, 416)\n",
      "\n",
      "0: 256x416 1 stingray, 5.0ms\n",
      "Speed: 1.0ms preprocess, 5.0ms inference, 1.0ms postprocess per image at shape (1, 3, 256, 416)\n",
      "\n",
      "0: 256x416 1 stingray, 5.0ms\n",
      "Speed: 2.0ms preprocess, 5.0ms inference, 1.0ms postprocess per image at shape (1, 3, 256, 416)\n",
      "\n",
      "0: 256x416 1 stingray, 5.0ms\n",
      "Speed: 1.0ms preprocess, 5.0ms inference, 1.0ms postprocess per image at shape (1, 3, 256, 416)\n",
      "\n",
      "0: 256x416 1 stingray, 6.0ms\n",
      "Speed: 1.0ms preprocess, 6.0ms inference, 1.0ms postprocess per image at shape (1, 3, 256, 416)\n",
      "\n",
      "0: 256x416 1 stingray, 6.0ms\n",
      "Speed: 1.0ms preprocess, 6.0ms inference, 1.0ms postprocess per image at shape (1, 3, 256, 416)\n",
      "\n",
      "0: 256x416 1 stingray, 5.0ms\n",
      "Speed: 1.0ms preprocess, 5.0ms inference, 1.0ms postprocess per image at shape (1, 3, 256, 416)\n",
      "\n",
      "0: 256x416 1 stingray, 5.0ms\n",
      "Speed: 1.0ms preprocess, 5.0ms inference, 1.0ms postprocess per image at shape (1, 3, 256, 416)\n",
      "\n",
      "0: 256x416 1 stingray, 6.0ms\n",
      "Speed: 1.0ms preprocess, 6.0ms inference, 1.0ms postprocess per image at shape (1, 3, 256, 416)\n",
      "\n",
      "0: 256x416 1 stingray, 5.0ms\n",
      "Speed: 1.0ms preprocess, 5.0ms inference, 1.0ms postprocess per image at shape (1, 3, 256, 416)\n",
      "\n",
      "0: 256x416 1 stingray, 7.0ms\n",
      "Speed: 1.0ms preprocess, 7.0ms inference, 1.0ms postprocess per image at shape (1, 3, 256, 416)\n",
      "\n",
      "0: 256x416 1 stingray, 5.0ms\n",
      "Speed: 1.0ms preprocess, 5.0ms inference, 1.0ms postprocess per image at shape (1, 3, 256, 416)\n",
      "\n",
      "0: 256x416 1 stingray, 6.0ms\n",
      "Speed: 1.0ms preprocess, 6.0ms inference, 0.0ms postprocess per image at shape (1, 3, 256, 416)\n",
      "\n",
      "0: 256x416 1 stingray, 5.0ms\n",
      "Speed: 1.0ms preprocess, 5.0ms inference, 1.0ms postprocess per image at shape (1, 3, 256, 416)\n",
      "\n",
      "0: 256x416 1 stingray, 6.0ms\n",
      "Speed: 1.0ms preprocess, 6.0ms inference, 1.0ms postprocess per image at shape (1, 3, 256, 416)\n",
      "\n",
      "0: 256x416 1 stingray, 5.0ms\n",
      "Speed: 1.0ms preprocess, 5.0ms inference, 1.0ms postprocess per image at shape (1, 3, 256, 416)\n",
      "\n",
      "0: 256x416 1 stingray, 5.0ms\n",
      "Speed: 1.0ms preprocess, 5.0ms inference, 1.0ms postprocess per image at shape (1, 3, 256, 416)\n",
      "\n",
      "0: 256x416 1 stingray, 6.0ms\n",
      "Speed: 1.0ms preprocess, 6.0ms inference, 1.0ms postprocess per image at shape (1, 3, 256, 416)\n",
      "\n",
      "0: 256x416 1 shark, 1 stingray, 6.0ms\n",
      "Speed: 2.0ms preprocess, 6.0ms inference, 1.0ms postprocess per image at shape (1, 3, 256, 416)\n",
      "\n",
      "0: 256x416 1 stingray, 5.0ms\n",
      "Speed: 1.0ms preprocess, 5.0ms inference, 1.0ms postprocess per image at shape (1, 3, 256, 416)\n",
      "\n",
      "0: 256x416 1 stingray, 5.0ms\n",
      "Speed: 1.0ms preprocess, 5.0ms inference, 1.0ms postprocess per image at shape (1, 3, 256, 416)\n",
      "\n",
      "0: 256x416 1 stingray, 6.0ms\n",
      "Speed: 3.0ms preprocess, 6.0ms inference, 1.0ms postprocess per image at shape (1, 3, 256, 416)\n",
      "\n",
      "0: 256x416 1 stingray, 5.0ms\n",
      "Speed: 2.0ms preprocess, 5.0ms inference, 1.0ms postprocess per image at shape (1, 3, 256, 416)\n",
      "\n",
      "0: 256x416 1 stingray, 5.0ms\n",
      "Speed: 1.0ms preprocess, 5.0ms inference, 1.0ms postprocess per image at shape (1, 3, 256, 416)\n",
      "\n",
      "0: 256x416 1 stingray, 6.0ms\n",
      "Speed: 1.0ms preprocess, 6.0ms inference, 2.0ms postprocess per image at shape (1, 3, 256, 416)\n",
      "\n",
      "0: 256x416 1 stingray, 5.0ms\n",
      "Speed: 2.0ms preprocess, 5.0ms inference, 1.0ms postprocess per image at shape (1, 3, 256, 416)\n"
     ]
    },
    {
     "data": {
      "text/plain": [
       "<Figure size 1000x600 with 1 Axes>"
      ]
     },
     "metadata": {},
     "output_type": "display_data"
    },
    {
     "name": "stdout",
     "output_type": "stream",
     "text": [
      "\n",
      "0: 256x416 1 stingray, 5.0ms\n",
      "Speed: 1.0ms preprocess, 5.0ms inference, 1.0ms postprocess per image at shape (1, 3, 256, 416)\n",
      "\n",
      "0: 256x416 1 stingray, 6.0ms\n",
      "Speed: 1.0ms preprocess, 6.0ms inference, 1.0ms postprocess per image at shape (1, 3, 256, 416)\n",
      "\n",
      "0: 256x416 1 shark, 1 stingray, 5.0ms\n",
      "Speed: 1.0ms preprocess, 5.0ms inference, 1.0ms postprocess per image at shape (1, 3, 256, 416)\n",
      "\n",
      "0: 256x416 1 shark, 1 stingray, 5.0ms\n",
      "Speed: 1.0ms preprocess, 5.0ms inference, 1.0ms postprocess per image at shape (1, 3, 256, 416)\n",
      "\n",
      "0: 256x416 1 shark, 1 stingray, 5.0ms\n",
      "Speed: 1.0ms preprocess, 5.0ms inference, 1.0ms postprocess per image at shape (1, 3, 256, 416)\n",
      "\n",
      "0: 256x416 1 shark, 1 stingray, 6.0ms\n",
      "Speed: 1.0ms preprocess, 6.0ms inference, 1.0ms postprocess per image at shape (1, 3, 256, 416)\n",
      "\n",
      "0: 256x416 1 shark, 1 stingray, 5.0ms\n",
      "Speed: 1.0ms preprocess, 5.0ms inference, 1.0ms postprocess per image at shape (1, 3, 256, 416)\n",
      "\n",
      "0: 256x416 1 shark, 1 stingray, 5.0ms\n",
      "Speed: 1.0ms preprocess, 5.0ms inference, 1.0ms postprocess per image at shape (1, 3, 256, 416)\n",
      "\n",
      "0: 256x416 1 shark, 1 stingray, 5.0ms\n",
      "Speed: 3.0ms preprocess, 5.0ms inference, 1.0ms postprocess per image at shape (1, 3, 256, 416)\n",
      "\n",
      "0: 256x416 1 shark, 1 stingray, 5.0ms\n",
      "Speed: 1.0ms preprocess, 5.0ms inference, 1.0ms postprocess per image at shape (1, 3, 256, 416)\n",
      "\n",
      "0: 256x416 1 shark, 1 stingray, 6.0ms\n",
      "Speed: 1.0ms preprocess, 6.0ms inference, 0.0ms postprocess per image at shape (1, 3, 256, 416)\n",
      "\n",
      "0: 256x416 1 shark, 1 stingray, 6.0ms\n",
      "Speed: 3.0ms preprocess, 6.0ms inference, 1.0ms postprocess per image at shape (1, 3, 256, 416)\n",
      "\n",
      "0: 256x416 1 stingray, 6.0ms\n",
      "Speed: 1.0ms preprocess, 6.0ms inference, 1.0ms postprocess per image at shape (1, 3, 256, 416)\n",
      "\n",
      "0: 256x416 1 shark, 1 stingray, 6.0ms\n",
      "Speed: 1.0ms preprocess, 6.0ms inference, 1.0ms postprocess per image at shape (1, 3, 256, 416)\n",
      "\n",
      "0: 256x416 1 shark, 1 stingray, 5.0ms\n",
      "Speed: 2.0ms preprocess, 5.0ms inference, 1.0ms postprocess per image at shape (1, 3, 256, 416)\n",
      "\n",
      "0: 256x416 1 shark, 1 stingray, 6.0ms\n",
      "Speed: 1.0ms preprocess, 6.0ms inference, 1.0ms postprocess per image at shape (1, 3, 256, 416)\n",
      "\n",
      "0: 256x416 1 shark, 1 stingray, 5.0ms\n",
      "Speed: 1.0ms preprocess, 5.0ms inference, 1.0ms postprocess per image at shape (1, 3, 256, 416)\n",
      "\n",
      "0: 256x416 1 stingray, 5.0ms\n",
      "Speed: 2.0ms preprocess, 5.0ms inference, 1.0ms postprocess per image at shape (1, 3, 256, 416)\n",
      "\n",
      "0: 256x416 1 shark, 1 stingray, 5.5ms\n",
      "Speed: 2.0ms preprocess, 5.5ms inference, 0.5ms postprocess per image at shape (1, 3, 256, 416)\n",
      "\n",
      "0: 256x416 1 shark, 1 stingray, 6.0ms\n",
      "Speed: 1.0ms preprocess, 6.0ms inference, 1.0ms postprocess per image at shape (1, 3, 256, 416)\n",
      "\n",
      "0: 256x416 1 shark, 1 stingray, 5.0ms\n",
      "Speed: 1.0ms preprocess, 5.0ms inference, 1.0ms postprocess per image at shape (1, 3, 256, 416)\n",
      "\n",
      "0: 256x416 1 stingray, 5.0ms\n",
      "Speed: 2.0ms preprocess, 5.0ms inference, 1.0ms postprocess per image at shape (1, 3, 256, 416)\n",
      "\n",
      "0: 256x416 1 shark, 1 stingray, 5.0ms\n",
      "Speed: 1.0ms preprocess, 5.0ms inference, 1.0ms postprocess per image at shape (1, 3, 256, 416)\n",
      "\n",
      "0: 256x416 1 stingray, 6.0ms\n",
      "Speed: 2.0ms preprocess, 6.0ms inference, 1.0ms postprocess per image at shape (1, 3, 256, 416)\n",
      "\n",
      "0: 256x416 1 shark, 1 stingray, 6.0ms\n",
      "Speed: 1.0ms preprocess, 6.0ms inference, 1.0ms postprocess per image at shape (1, 3, 256, 416)\n",
      "\n",
      "0: 256x416 1 shark, 1 stingray, 5.0ms\n",
      "Speed: 1.0ms preprocess, 5.0ms inference, 1.0ms postprocess per image at shape (1, 3, 256, 416)\n",
      "\n",
      "0: 256x416 1 shark, 1 stingray, 5.0ms\n",
      "Speed: 1.0ms preprocess, 5.0ms inference, 1.0ms postprocess per image at shape (1, 3, 256, 416)\n",
      "\n",
      "0: 256x416 1 stingray, 6.0ms\n",
      "Speed: 1.0ms preprocess, 6.0ms inference, 1.0ms postprocess per image at shape (1, 3, 256, 416)\n",
      "\n",
      "0: 256x416 1 shark, 1 stingray, 5.0ms\n",
      "Speed: 1.0ms preprocess, 5.0ms inference, 1.0ms postprocess per image at shape (1, 3, 256, 416)\n",
      "\n",
      "0: 256x416 1 shark, 1 stingray, 5.0ms\n",
      "Speed: 2.0ms preprocess, 5.0ms inference, 1.0ms postprocess per image at shape (1, 3, 256, 416)\n"
     ]
    },
    {
     "data": {
      "text/plain": [
       "<Figure size 1000x600 with 1 Axes>"
      ]
     },
     "metadata": {},
     "output_type": "display_data"
    },
    {
     "name": "stdout",
     "output_type": "stream",
     "text": [
      "\n",
      "0: 256x416 1 shark, 1 stingray, 6.0ms\n",
      "Speed: 1.0ms preprocess, 6.0ms inference, 1.0ms postprocess per image at shape (1, 3, 256, 416)\n",
      "\n",
      "0: 256x416 1 shark, 1 stingray, 5.0ms\n",
      "Speed: 1.0ms preprocess, 5.0ms inference, 1.0ms postprocess per image at shape (1, 3, 256, 416)\n",
      "\n",
      "0: 256x416 1 shark, 1 stingray, 5.0ms\n",
      "Speed: 1.0ms preprocess, 5.0ms inference, 1.0ms postprocess per image at shape (1, 3, 256, 416)\n",
      "\n",
      "0: 256x416 1 shark, 1 stingray, 6.0ms\n",
      "Speed: 1.0ms preprocess, 6.0ms inference, 1.0ms postprocess per image at shape (1, 3, 256, 416)\n",
      "\n",
      "0: 256x416 1 shark, 1 stingray, 6.0ms\n",
      "Speed: 1.0ms preprocess, 6.0ms inference, 1.0ms postprocess per image at shape (1, 3, 256, 416)\n",
      "\n",
      "0: 256x416 1 shark, 1 stingray, 6.0ms\n",
      "Speed: 1.0ms preprocess, 6.0ms inference, 1.0ms postprocess per image at shape (1, 3, 256, 416)\n",
      "\n",
      "0: 256x416 1 shark, 1 stingray, 6.0ms\n",
      "Speed: 1.0ms preprocess, 6.0ms inference, 2.0ms postprocess per image at shape (1, 3, 256, 416)\n",
      "\n",
      "0: 256x416 1 shark, 1 stingray, 6.0ms\n",
      "Speed: 1.0ms preprocess, 6.0ms inference, 1.0ms postprocess per image at shape (1, 3, 256, 416)\n",
      "\n",
      "0: 256x416 1 shark, 1 stingray, 6.0ms\n",
      "Speed: 1.0ms preprocess, 6.0ms inference, 1.0ms postprocess per image at shape (1, 3, 256, 416)\n",
      "\n",
      "0: 256x416 1 shark, 1 stingray, 6.0ms\n",
      "Speed: 1.0ms preprocess, 6.0ms inference, 1.0ms postprocess per image at shape (1, 3, 256, 416)\n",
      "\n",
      "0: 256x416 1 shark, 1 stingray, 5.4ms\n",
      "Speed: 1.1ms preprocess, 5.4ms inference, 1.0ms postprocess per image at shape (1, 3, 256, 416)\n",
      "\n",
      "0: 256x416 1 shark, 1 stingray, 5.0ms\n",
      "Speed: 2.0ms preprocess, 5.0ms inference, 1.0ms postprocess per image at shape (1, 3, 256, 416)\n",
      "\n",
      "0: 256x416 1 shark, 1 stingray, 6.0ms\n",
      "Speed: 1.0ms preprocess, 6.0ms inference, 1.0ms postprocess per image at shape (1, 3, 256, 416)\n",
      "\n",
      "0: 256x416 1 shark, 1 stingray, 5.0ms\n",
      "Speed: 1.0ms preprocess, 5.0ms inference, 1.0ms postprocess per image at shape (1, 3, 256, 416)\n",
      "\n",
      "0: 256x416 1 shark, 1 stingray, 5.0ms\n",
      "Speed: 1.0ms preprocess, 5.0ms inference, 1.0ms postprocess per image at shape (1, 3, 256, 416)\n",
      "\n",
      "0: 256x416 1 shark, 1 stingray, 6.0ms\n",
      "Speed: 1.0ms preprocess, 6.0ms inference, 1.0ms postprocess per image at shape (1, 3, 256, 416)\n",
      "\n",
      "0: 256x416 1 shark, 1 stingray, 5.0ms\n",
      "Speed: 1.0ms preprocess, 5.0ms inference, 1.0ms postprocess per image at shape (1, 3, 256, 416)\n",
      "\n",
      "0: 256x416 1 shark, 1 stingray, 6.0ms\n",
      "Speed: 1.0ms preprocess, 6.0ms inference, 1.0ms postprocess per image at shape (1, 3, 256, 416)\n",
      "\n",
      "0: 256x416 1 shark, 1 stingray, 6.0ms\n",
      "Speed: 1.0ms preprocess, 6.0ms inference, 1.0ms postprocess per image at shape (1, 3, 256, 416)\n",
      "\n",
      "0: 256x416 1 shark, 1 stingray, 5.0ms\n",
      "Speed: 2.0ms preprocess, 5.0ms inference, 1.0ms postprocess per image at shape (1, 3, 256, 416)\n",
      "\n",
      "0: 256x416 1 shark, 1 stingray, 7.0ms\n",
      "Speed: 1.0ms preprocess, 7.0ms inference, 1.0ms postprocess per image at shape (1, 3, 256, 416)\n",
      "\n",
      "0: 256x416 1 shark, 1 stingray, 6.0ms\n",
      "Speed: 1.0ms preprocess, 6.0ms inference, 1.0ms postprocess per image at shape (1, 3, 256, 416)\n",
      "\n",
      "0: 256x416 1 shark, 1 stingray, 6.0ms\n",
      "Speed: 1.0ms preprocess, 6.0ms inference, 1.0ms postprocess per image at shape (1, 3, 256, 416)\n",
      "\n",
      "0: 256x416 1 shark, 1 stingray, 6.0ms\n",
      "Speed: 1.0ms preprocess, 6.0ms inference, 1.0ms postprocess per image at shape (1, 3, 256, 416)\n",
      "\n",
      "0: 256x416 1 shark, 1 stingray, 5.0ms\n",
      "Speed: 1.0ms preprocess, 5.0ms inference, 1.0ms postprocess per image at shape (1, 3, 256, 416)\n",
      "\n",
      "0: 256x416 1 shark, 1 stingray, 5.0ms\n",
      "Speed: 1.0ms preprocess, 5.0ms inference, 1.0ms postprocess per image at shape (1, 3, 256, 416)\n",
      "\n",
      "0: 256x416 1 shark, 1 stingray, 5.0ms\n",
      "Speed: 1.0ms preprocess, 5.0ms inference, 1.0ms postprocess per image at shape (1, 3, 256, 416)\n",
      "\n",
      "0: 256x416 1 shark, 1 stingray, 6.0ms\n",
      "Speed: 1.0ms preprocess, 6.0ms inference, 1.0ms postprocess per image at shape (1, 3, 256, 416)\n",
      "\n",
      "0: 256x416 1 shark, 1 stingray, 5.0ms\n",
      "Speed: 1.0ms preprocess, 5.0ms inference, 1.0ms postprocess per image at shape (1, 3, 256, 416)\n",
      "\n",
      "0: 256x416 1 shark, 1 stingray, 6.0ms\n",
      "Speed: 1.0ms preprocess, 6.0ms inference, 1.0ms postprocess per image at shape (1, 3, 256, 416)\n"
     ]
    },
    {
     "data": {
      "text/plain": [
       "<Figure size 1000x600 with 1 Axes>"
      ]
     },
     "metadata": {},
     "output_type": "display_data"
    },
    {
     "name": "stdout",
     "output_type": "stream",
     "text": [
      "\n",
      "0: 256x416 1 shark, 1 stingray, 5.0ms\n",
      "Speed: 1.0ms preprocess, 5.0ms inference, 1.0ms postprocess per image at shape (1, 3, 256, 416)\n",
      "\n",
      "0: 256x416 1 shark, 1 stingray, 5.4ms\n",
      "Speed: 2.0ms preprocess, 5.4ms inference, 1.0ms postprocess per image at shape (1, 3, 256, 416)\n",
      "\n",
      "0: 256x416 1 shark, 1 stingray, 5.0ms\n",
      "Speed: 1.5ms preprocess, 5.0ms inference, 1.0ms postprocess per image at shape (1, 3, 256, 416)\n",
      "\n",
      "0: 256x416 1 shark, 1 stingray, 5.0ms\n",
      "Speed: 1.0ms preprocess, 5.0ms inference, 1.0ms postprocess per image at shape (1, 3, 256, 416)\n",
      "\n",
      "0: 256x416 1 shark, 1 stingray, 6.0ms\n",
      "Speed: 1.0ms preprocess, 6.0ms inference, 0.0ms postprocess per image at shape (1, 3, 256, 416)\n",
      "\n",
      "0: 256x416 1 shark, 1 stingray, 6.0ms\n",
      "Speed: 1.0ms preprocess, 6.0ms inference, 1.0ms postprocess per image at shape (1, 3, 256, 416)\n",
      "Detection completed. Output video saved at D:\\Python_Pytorch_Workspace\\Jupyter_Test\\output_바다_해양동물.mp4\n"
     ]
    }
   ],
   "source": [
    "from ultralytics import YOLO\n",
    "import cv2\n",
    "# from google.colab.patches import cv2_imshow  # Colab 전용 imshow\n",
    "from matplotlib import pyplot as plt\n",
    "\n",
    "# YOLOv8 모델 로드\n",
    "# model = YOLO(\"yolov8n.pt\")  # Nano 모델 사용\n",
    "# 사용자 정의 YOLOv8 모델 로드\n",
    "model = YOLO(\"best.pt\")\n",
    "\n",
    "# 비디오 파일 경로\n",
    "video_path = r\"D:\\Python_Pytorch_Workspace\\Jupyter_Test\\바다_해양동물_샘플영상.mp4\"\n",
    "\n",
    "# 출력 비디오 설정\n",
    "output_path = r\"D:\\Python_Pytorch_Workspace\\Jupyter_Test\\output_바다_해양동물.mp4\"\n",
    "\n",
    "# 비디오 캡처 초기화\n",
    "cap = cv2.VideoCapture(video_path)\n",
    "if not cap.isOpened():\n",
    "    print(\"Error: Cannot open video file.\")\n",
    "    exit()\n",
    "\n",
    "# 비디오 속성 읽기\n",
    "fps = int(cap.get(cv2.CAP_PROP_FPS))\n",
    "width = int(cap.get(cv2.CAP_PROP_FRAME_WIDTH))\n",
    "height = int(cap.get(cv2.CAP_PROP_FRAME_HEIGHT))\n",
    "fourcc = cv2.VideoWriter_fourcc(*\"mp4v\")\n",
    "\n",
    "# 출력 비디오 초기화\n",
    "out = cv2.VideoWriter(output_path, fourcc, fps, (width, height))\n",
    "\n",
    "# 프레임 단위로 객체 탐지 수행\n",
    "frame_count = 0\n",
    "while cap.isOpened():\n",
    "    ret, frame = cap.read()\n",
    "    if not ret:  # 비디오의 끝에 도달한 경우\n",
    "        break\n",
    "\n",
    "    # YOLOv8을 사용하여 객체 탐지\n",
    "    results = model.predict(source=frame, save=False, conf=0.5)\n",
    "\n",
    "    # 탐지 결과 시각화\n",
    "    annotated_frame = results[0].plot()\n",
    "\n",
    "    # 탐지 결과를 출력 비디오에 저장\n",
    "    out.write(annotated_frame)\n",
    "\n",
    "    # Jupyter Notebook에서 프레임 표시 (매 30 프레임마다)\n",
    "    if frame_count % 30 == 0:  # 너무 자주 표시하면 성능 저하\n",
    "        plt.figure(figsize=(10, 6))\n",
    "        plt.imshow(cv2.cvtColor(annotated_frame, cv2.COLOR_BGR2RGB))  # BGR -> RGB 변환\n",
    "        plt.axis('off')  # 축 숨기기\n",
    "        plt.show()\n",
    "    frame_count += 1\n",
    "\n",
    "# 리소스 해제\n",
    "cap.release()\n",
    "out.release()\n",
    "print(f\"Detection completed. Output video saved at {output_path}\")"
   ]
  },
  {
   "cell_type": "code",
   "execution_count": null,
   "id": "8157687d-ae16-4d01-9fdb-b939f9ccef69",
   "metadata": {},
   "outputs": [],
   "source": []
  }
 ],
 "metadata": {
  "kernelspec": {
   "display_name": "Python 3 (ipykernel)",
   "language": "python",
   "name": "python3"
  },
  "language_info": {
   "codemirror_mode": {
    "name": "ipython",
    "version": 3
   },
   "file_extension": ".py",
   "mimetype": "text/x-python",
   "name": "python",
   "nbconvert_exporter": "python",
   "pygments_lexer": "ipython3",
   "version": "3.10.16"
  }
 },
 "nbformat": 4,
 "nbformat_minor": 5
}
